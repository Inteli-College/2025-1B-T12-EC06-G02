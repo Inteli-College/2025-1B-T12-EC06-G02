{
 "cells": [
  {
   "cell_type": "markdown",
   "id": "c0d7a66c",
   "metadata": {},
   "source": [
    "# Notebook do YoloV8\n",
    "\n",
    "## Instalação de dependências necessárias"
   ]
  },
  {
   "cell_type": "code",
   "execution_count": 32,
   "id": "540235b6",
   "metadata": {},
   "outputs": [
    {
     "name": "stdout",
     "output_type": "stream",
     "text": [
      "Requirement already satisfied: ultralytics in /home/ec06-g2/Downloads/2025-1B-T12-EC06-G02/venv/lib/python3.12/site-packages (8.3.159)\n",
      "Requirement already satisfied: roboflow in /home/ec06-g2/Downloads/2025-1B-T12-EC06-G02/venv/lib/python3.12/site-packages (1.1.66)\n",
      "Requirement already satisfied: numpy>=1.23.0 in /home/ec06-g2/Downloads/2025-1B-T12-EC06-G02/venv/lib/python3.12/site-packages (from ultralytics) (2.3.1)\n",
      "Requirement already satisfied: matplotlib>=3.3.0 in /home/ec06-g2/Downloads/2025-1B-T12-EC06-G02/venv/lib/python3.12/site-packages (from ultralytics) (3.10.3)\n",
      "Requirement already satisfied: opencv-python>=4.6.0 in /home/ec06-g2/Downloads/2025-1B-T12-EC06-G02/venv/lib/python3.12/site-packages (from ultralytics) (4.11.0.86)\n",
      "Requirement already satisfied: pillow>=7.1.2 in /home/ec06-g2/Downloads/2025-1B-T12-EC06-G02/venv/lib/python3.12/site-packages (from ultralytics) (11.2.1)\n",
      "Requirement already satisfied: pyyaml>=5.3.1 in /home/ec06-g2/Downloads/2025-1B-T12-EC06-G02/venv/lib/python3.12/site-packages (from ultralytics) (6.0.2)\n",
      "Requirement already satisfied: requests>=2.23.0 in /home/ec06-g2/Downloads/2025-1B-T12-EC06-G02/venv/lib/python3.12/site-packages (from ultralytics) (2.32.4)\n",
      "Requirement already satisfied: scipy>=1.4.1 in /home/ec06-g2/Downloads/2025-1B-T12-EC06-G02/venv/lib/python3.12/site-packages (from ultralytics) (1.16.0)\n",
      "Requirement already satisfied: torch>=1.8.0 in /home/ec06-g2/Downloads/2025-1B-T12-EC06-G02/venv/lib/python3.12/site-packages (from ultralytics) (2.7.1)\n",
      "Requirement already satisfied: torchvision>=0.9.0 in /home/ec06-g2/Downloads/2025-1B-T12-EC06-G02/venv/lib/python3.12/site-packages (from ultralytics) (0.22.1)\n",
      "Requirement already satisfied: tqdm>=4.64.0 in /home/ec06-g2/Downloads/2025-1B-T12-EC06-G02/venv/lib/python3.12/site-packages (from ultralytics) (4.67.1)\n",
      "Requirement already satisfied: psutil in /home/ec06-g2/Downloads/2025-1B-T12-EC06-G02/venv/lib/python3.12/site-packages (from ultralytics) (7.0.0)\n",
      "Requirement already satisfied: py-cpuinfo in /home/ec06-g2/Downloads/2025-1B-T12-EC06-G02/venv/lib/python3.12/site-packages (from ultralytics) (9.0.0)\n",
      "Requirement already satisfied: pandas>=1.1.4 in /home/ec06-g2/Downloads/2025-1B-T12-EC06-G02/venv/lib/python3.12/site-packages (from ultralytics) (2.3.0)\n",
      "Requirement already satisfied: ultralytics-thop>=2.0.0 in /home/ec06-g2/Downloads/2025-1B-T12-EC06-G02/venv/lib/python3.12/site-packages (from ultralytics) (2.0.14)\n",
      "Requirement already satisfied: certifi in /home/ec06-g2/Downloads/2025-1B-T12-EC06-G02/venv/lib/python3.12/site-packages (from roboflow) (2025.6.15)\n",
      "Requirement already satisfied: idna==3.7 in /home/ec06-g2/Downloads/2025-1B-T12-EC06-G02/venv/lib/python3.12/site-packages (from roboflow) (3.7)\n",
      "Requirement already satisfied: cycler in /home/ec06-g2/Downloads/2025-1B-T12-EC06-G02/venv/lib/python3.12/site-packages (from roboflow) (0.12.1)\n",
      "Requirement already satisfied: kiwisolver>=1.3.1 in /home/ec06-g2/Downloads/2025-1B-T12-EC06-G02/venv/lib/python3.12/site-packages (from roboflow) (1.4.8)\n",
      "Requirement already satisfied: opencv-python-headless==4.10.0.84 in /home/ec06-g2/Downloads/2025-1B-T12-EC06-G02/venv/lib/python3.12/site-packages (from roboflow) (4.10.0.84)\n",
      "Requirement already satisfied: pillow-heif>=0.18.0 in /home/ec06-g2/Downloads/2025-1B-T12-EC06-G02/venv/lib/python3.12/site-packages (from roboflow) (0.22.0)\n",
      "Requirement already satisfied: python-dateutil in /home/ec06-g2/Downloads/2025-1B-T12-EC06-G02/venv/lib/python3.12/site-packages (from roboflow) (2.9.0.post0)\n",
      "Requirement already satisfied: python-dotenv in /home/ec06-g2/Downloads/2025-1B-T12-EC06-G02/venv/lib/python3.12/site-packages (from roboflow) (1.1.1)\n",
      "Requirement already satisfied: six in /home/ec06-g2/Downloads/2025-1B-T12-EC06-G02/venv/lib/python3.12/site-packages (from roboflow) (1.17.0)\n",
      "Requirement already satisfied: urllib3>=1.26.6 in /home/ec06-g2/Downloads/2025-1B-T12-EC06-G02/venv/lib/python3.12/site-packages (from roboflow) (2.5.0)\n",
      "Requirement already satisfied: requests-toolbelt in /home/ec06-g2/Downloads/2025-1B-T12-EC06-G02/venv/lib/python3.12/site-packages (from roboflow) (1.0.0)\n",
      "Requirement already satisfied: filetype in /home/ec06-g2/Downloads/2025-1B-T12-EC06-G02/venv/lib/python3.12/site-packages (from roboflow) (1.2.0)\n",
      "Requirement already satisfied: contourpy>=1.0.1 in /home/ec06-g2/Downloads/2025-1B-T12-EC06-G02/venv/lib/python3.12/site-packages (from matplotlib>=3.3.0->ultralytics) (1.3.2)\n",
      "Requirement already satisfied: fonttools>=4.22.0 in /home/ec06-g2/Downloads/2025-1B-T12-EC06-G02/venv/lib/python3.12/site-packages (from matplotlib>=3.3.0->ultralytics) (4.58.4)\n",
      "Requirement already satisfied: packaging>=20.0 in /home/ec06-g2/Downloads/2025-1B-T12-EC06-G02/venv/lib/python3.12/site-packages (from matplotlib>=3.3.0->ultralytics) (25.0)\n",
      "Requirement already satisfied: pyparsing>=2.3.1 in /home/ec06-g2/Downloads/2025-1B-T12-EC06-G02/venv/lib/python3.12/site-packages (from matplotlib>=3.3.0->ultralytics) (3.2.3)\n",
      "Requirement already satisfied: pytz>=2020.1 in /home/ec06-g2/Downloads/2025-1B-T12-EC06-G02/venv/lib/python3.12/site-packages (from pandas>=1.1.4->ultralytics) (2025.2)\n",
      "Requirement already satisfied: tzdata>=2022.7 in /home/ec06-g2/Downloads/2025-1B-T12-EC06-G02/venv/lib/python3.12/site-packages (from pandas>=1.1.4->ultralytics) (2025.2)\n",
      "Requirement already satisfied: charset_normalizer<4,>=2 in /home/ec06-g2/Downloads/2025-1B-T12-EC06-G02/venv/lib/python3.12/site-packages (from requests>=2.23.0->ultralytics) (3.4.2)\n",
      "Requirement already satisfied: filelock in /home/ec06-g2/Downloads/2025-1B-T12-EC06-G02/venv/lib/python3.12/site-packages (from torch>=1.8.0->ultralytics) (3.18.0)\n",
      "Requirement already satisfied: typing-extensions>=4.10.0 in /home/ec06-g2/Downloads/2025-1B-T12-EC06-G02/venv/lib/python3.12/site-packages (from torch>=1.8.0->ultralytics) (4.14.0)\n",
      "Requirement already satisfied: setuptools in /home/ec06-g2/Downloads/2025-1B-T12-EC06-G02/venv/lib/python3.12/site-packages (from torch>=1.8.0->ultralytics) (80.9.0)\n",
      "Requirement already satisfied: sympy>=1.13.3 in /home/ec06-g2/Downloads/2025-1B-T12-EC06-G02/venv/lib/python3.12/site-packages (from torch>=1.8.0->ultralytics) (1.14.0)\n",
      "Requirement already satisfied: networkx in /home/ec06-g2/Downloads/2025-1B-T12-EC06-G02/venv/lib/python3.12/site-packages (from torch>=1.8.0->ultralytics) (3.5)\n",
      "Requirement already satisfied: jinja2 in /home/ec06-g2/Downloads/2025-1B-T12-EC06-G02/venv/lib/python3.12/site-packages (from torch>=1.8.0->ultralytics) (3.1.6)\n",
      "Requirement already satisfied: fsspec in /home/ec06-g2/Downloads/2025-1B-T12-EC06-G02/venv/lib/python3.12/site-packages (from torch>=1.8.0->ultralytics) (2025.5.1)\n",
      "Requirement already satisfied: nvidia-cuda-nvrtc-cu12==12.6.77 in /home/ec06-g2/Downloads/2025-1B-T12-EC06-G02/venv/lib/python3.12/site-packages (from torch>=1.8.0->ultralytics) (12.6.77)\n",
      "Requirement already satisfied: nvidia-cuda-runtime-cu12==12.6.77 in /home/ec06-g2/Downloads/2025-1B-T12-EC06-G02/venv/lib/python3.12/site-packages (from torch>=1.8.0->ultralytics) (12.6.77)\n",
      "Requirement already satisfied: nvidia-cuda-cupti-cu12==12.6.80 in /home/ec06-g2/Downloads/2025-1B-T12-EC06-G02/venv/lib/python3.12/site-packages (from torch>=1.8.0->ultralytics) (12.6.80)\n",
      "Requirement already satisfied: nvidia-cudnn-cu12==9.5.1.17 in /home/ec06-g2/Downloads/2025-1B-T12-EC06-G02/venv/lib/python3.12/site-packages (from torch>=1.8.0->ultralytics) (9.5.1.17)\n",
      "Requirement already satisfied: nvidia-cublas-cu12==12.6.4.1 in /home/ec06-g2/Downloads/2025-1B-T12-EC06-G02/venv/lib/python3.12/site-packages (from torch>=1.8.0->ultralytics) (12.6.4.1)\n",
      "Requirement already satisfied: nvidia-cufft-cu12==11.3.0.4 in /home/ec06-g2/Downloads/2025-1B-T12-EC06-G02/venv/lib/python3.12/site-packages (from torch>=1.8.0->ultralytics) (11.3.0.4)\n",
      "Requirement already satisfied: nvidia-curand-cu12==10.3.7.77 in /home/ec06-g2/Downloads/2025-1B-T12-EC06-G02/venv/lib/python3.12/site-packages (from torch>=1.8.0->ultralytics) (10.3.7.77)\n",
      "Requirement already satisfied: nvidia-cusolver-cu12==11.7.1.2 in /home/ec06-g2/Downloads/2025-1B-T12-EC06-G02/venv/lib/python3.12/site-packages (from torch>=1.8.0->ultralytics) (11.7.1.2)\n",
      "Requirement already satisfied: nvidia-cusparse-cu12==12.5.4.2 in /home/ec06-g2/Downloads/2025-1B-T12-EC06-G02/venv/lib/python3.12/site-packages (from torch>=1.8.0->ultralytics) (12.5.4.2)\n",
      "Requirement already satisfied: nvidia-cusparselt-cu12==0.6.3 in /home/ec06-g2/Downloads/2025-1B-T12-EC06-G02/venv/lib/python3.12/site-packages (from torch>=1.8.0->ultralytics) (0.6.3)\n",
      "Requirement already satisfied: nvidia-nccl-cu12==2.26.2 in /home/ec06-g2/Downloads/2025-1B-T12-EC06-G02/venv/lib/python3.12/site-packages (from torch>=1.8.0->ultralytics) (2.26.2)\n",
      "Requirement already satisfied: nvidia-nvtx-cu12==12.6.77 in /home/ec06-g2/Downloads/2025-1B-T12-EC06-G02/venv/lib/python3.12/site-packages (from torch>=1.8.0->ultralytics) (12.6.77)\n",
      "Requirement already satisfied: nvidia-nvjitlink-cu12==12.6.85 in /home/ec06-g2/Downloads/2025-1B-T12-EC06-G02/venv/lib/python3.12/site-packages (from torch>=1.8.0->ultralytics) (12.6.85)\n",
      "Requirement already satisfied: nvidia-cufile-cu12==1.11.1.6 in /home/ec06-g2/Downloads/2025-1B-T12-EC06-G02/venv/lib/python3.12/site-packages (from torch>=1.8.0->ultralytics) (1.11.1.6)\n",
      "Requirement already satisfied: triton==3.3.1 in /home/ec06-g2/Downloads/2025-1B-T12-EC06-G02/venv/lib/python3.12/site-packages (from torch>=1.8.0->ultralytics) (3.3.1)\n",
      "Requirement already satisfied: mpmath<1.4,>=1.1.0 in /home/ec06-g2/Downloads/2025-1B-T12-EC06-G02/venv/lib/python3.12/site-packages (from sympy>=1.13.3->torch>=1.8.0->ultralytics) (1.3.0)\n",
      "Requirement already satisfied: MarkupSafe>=2.0 in /home/ec06-g2/Downloads/2025-1B-T12-EC06-G02/venv/lib/python3.12/site-packages (from jinja2->torch>=1.8.0->ultralytics) (3.0.2)\n"
     ]
    }
   ],
   "source": [
    "!pip install ultralytics roboflow "
   ]
  },
  {
   "cell_type": "markdown",
   "id": "dd53474d",
   "metadata": {},
   "source": [
    "## Começar o treino com dataset do roboflow"
   ]
  },
  {
   "cell_type": "code",
   "execution_count": 33,
   "id": "fc32824d",
   "metadata": {},
   "outputs": [],
   "source": [
    "from ultralytics import YOLO\n",
    "import os\n",
    "import numpy as np\n",
    "import cv2"
   ]
  },
  {
   "cell_type": "code",
   "execution_count": 34,
   "id": "9a4402d4",
   "metadata": {},
   "outputs": [
    {
     "name": "stdout",
     "output_type": "stream",
     "text": [
      "Ultralytics 8.3.159 🚀 Python-3.12.3 torch-2.7.1+cu126 CUDA:0 (NVIDIA RTX A4000, 16094MiB)\n",
      "\u001b[34m\u001b[1mengine/trainer: \u001b[0magnostic_nms=False, amp=True, augment=False, auto_augment=randaugment, batch=16, bgr=0.0, box=7.5, cache=False, cfg=None, classes=None, close_mosaic=10, cls=0.5, conf=None, copy_paste=0.0, copy_paste_mode=flip, cos_lr=False, cutmix=0.0, data=data-v1/data.yaml, degrees=0.0, deterministic=True, device=None, dfl=1.5, dnn=False, dropout=0.0, dynamic=False, embed=None, epochs=50, erasing=0.4, exist_ok=False, fliplr=0.5, flipud=0.0, format=torchscript, fraction=1.0, freeze=None, half=False, hsv_h=0.015, hsv_s=0.7, hsv_v=0.4, imgsz=640, int8=False, iou=0.7, keras=False, kobj=1.0, line_width=None, lr0=0.01, lrf=0.01, mask_ratio=4, max_det=300, mixup=0.0, mode=train, model=yolov8n.pt, momentum=0.937, mosaic=1.0, multi_scale=False, name=train, nbs=64, nms=False, opset=None, optimize=False, optimizer=auto, overlap_mask=True, patience=100, perspective=0.0, plots=True, pose=12.0, pretrained=True, profile=False, project=None, rect=False, resume=False, retina_masks=False, save=True, save_conf=False, save_crop=False, save_dir=/home/ec06-g2/Downloads/2025-1B-T12-EC06-G02/runs/detect/train, save_frames=False, save_json=False, save_period=-1, save_txt=False, scale=0.5, seed=0, shear=0.0, show=False, show_boxes=True, show_conf=True, show_labels=True, simplify=True, single_cls=False, source=None, split=val, stream_buffer=False, task=detect, time=None, tracker=botsort.yaml, translate=0.1, val=True, verbose=True, vid_stride=1, visualize=False, warmup_bias_lr=0.1, warmup_epochs=3.0, warmup_momentum=0.8, weight_decay=0.0005, workers=8, workspace=None\n",
      "Overriding model.yaml nc=80 with nc=1\n",
      "\n",
      "                   from  n    params  module                                       arguments                     \n",
      "  0                  -1  1       464  ultralytics.nn.modules.conv.Conv             [3, 16, 3, 2]                 \n",
      "  1                  -1  1      4672  ultralytics.nn.modules.conv.Conv             [16, 32, 3, 2]                \n",
      "  2                  -1  1      7360  ultralytics.nn.modules.block.C2f             [32, 32, 1, True]             \n",
      "  3                  -1  1     18560  ultralytics.nn.modules.conv.Conv             [32, 64, 3, 2]                \n",
      "  4                  -1  2     49664  ultralytics.nn.modules.block.C2f             [64, 64, 2, True]             \n",
      "  5                  -1  1     73984  ultralytics.nn.modules.conv.Conv             [64, 128, 3, 2]               \n",
      "  6                  -1  2    197632  ultralytics.nn.modules.block.C2f             [128, 128, 2, True]           \n",
      "  7                  -1  1    295424  ultralytics.nn.modules.conv.Conv             [128, 256, 3, 2]              \n",
      "  8                  -1  1    460288  ultralytics.nn.modules.block.C2f             [256, 256, 1, True]           \n",
      "  9                  -1  1    164608  ultralytics.nn.modules.block.SPPF            [256, 256, 5]                 \n",
      " 10                  -1  1         0  torch.nn.modules.upsampling.Upsample         [None, 2, 'nearest']          \n",
      " 11             [-1, 6]  1         0  ultralytics.nn.modules.conv.Concat           [1]                           \n",
      " 12                  -1  1    148224  ultralytics.nn.modules.block.C2f             [384, 128, 1]                 \n",
      " 13                  -1  1         0  torch.nn.modules.upsampling.Upsample         [None, 2, 'nearest']          \n",
      " 14             [-1, 4]  1         0  ultralytics.nn.modules.conv.Concat           [1]                           \n",
      " 15                  -1  1     37248  ultralytics.nn.modules.block.C2f             [192, 64, 1]                  \n",
      " 16                  -1  1     36992  ultralytics.nn.modules.conv.Conv             [64, 64, 3, 2]                \n",
      " 17            [-1, 12]  1         0  ultralytics.nn.modules.conv.Concat           [1]                           \n",
      " 18                  -1  1    123648  ultralytics.nn.modules.block.C2f             [192, 128, 1]                 \n",
      " 19                  -1  1    147712  ultralytics.nn.modules.conv.Conv             [128, 128, 3, 2]              \n",
      " 20             [-1, 9]  1         0  ultralytics.nn.modules.conv.Concat           [1]                           \n",
      " 21                  -1  1    493056  ultralytics.nn.modules.block.C2f             [384, 256, 1]                 \n",
      " 22        [15, 18, 21]  1    751507  ultralytics.nn.modules.head.Detect           [1, [64, 128, 256]]           \n"
     ]
    },
    {
     "name": "stdout",
     "output_type": "stream",
     "text": [
      "Model summary: 129 layers, 3,011,043 parameters, 3,011,027 gradients, 8.2 GFLOPs\n",
      "\n",
      "Transferred 319/355 items from pretrained weights\n",
      "Freezing layer 'model.22.dfl.conv.weight'\n",
      "\u001b[34m\u001b[1mAMP: \u001b[0mrunning Automatic Mixed Precision (AMP) checks...\n",
      "\u001b[34m\u001b[1mAMP: \u001b[0mchecks passed ✅\n",
      "\u001b[34m\u001b[1mtrain: \u001b[0mFast image access ✅ (ping: 0.0±0.0 ms, read: 817.6±616.6 MB/s, size: 5.2 KB)\n"
     ]
    },
    {
     "name": "stderr",
     "output_type": "stream",
     "text": [
      "\u001b[34m\u001b[1mtrain: \u001b[0mScanning /home/ec06-g2/Downloads/2025-1B-T12-EC06-G02/src/IA/IA_v2/src/yolo/data-v1/train/labels.cache... 150 images, 0 backgrounds, 0 corrupt: 100%|██████████| 150/150 [00:00<?, ?it/s]\n"
     ]
    },
    {
     "name": "stdout",
     "output_type": "stream",
     "text": [
      "\u001b[34m\u001b[1mval: \u001b[0mFast image access ✅ (ping: 0.0±0.0 ms, read: 535.2±518.1 MB/s, size: 6.2 KB)\n"
     ]
    },
    {
     "name": "stderr",
     "output_type": "stream",
     "text": [
      "\u001b[34m\u001b[1mval: \u001b[0mScanning /home/ec06-g2/Downloads/2025-1B-T12-EC06-G02/src/IA/IA_v2/src/yolo/data-v1/valid/labels.cache... 42 images, 0 backgrounds, 0 corrupt: 100%|██████████| 42/42 [00:00<?, ?it/s]\n"
     ]
    },
    {
     "name": "stdout",
     "output_type": "stream",
     "text": [
      "Plotting labels to /home/ec06-g2/Downloads/2025-1B-T12-EC06-G02/runs/detect/train/labels.jpg... \n",
      "\u001b[34m\u001b[1moptimizer:\u001b[0m 'optimizer=auto' found, ignoring 'lr0=0.01' and 'momentum=0.937' and determining best 'optimizer', 'lr0' and 'momentum' automatically... \n",
      "\u001b[34m\u001b[1moptimizer:\u001b[0m AdamW(lr=0.002, momentum=0.9) with parameter groups 57 weight(decay=0.0), 64 weight(decay=0.0005), 63 bias(decay=0.0)\n",
      "Image sizes 640 train, 640 val\n",
      "Using 8 dataloader workers\n",
      "Logging results to \u001b[1m/home/ec06-g2/Downloads/2025-1B-T12-EC06-G02/runs/detect/train\u001b[0m\n",
      "Starting training for 50 epochs...\n",
      "\n",
      "      Epoch    GPU_mem   box_loss   cls_loss   dfl_loss  Instances       Size\n"
     ]
    },
    {
     "name": "stderr",
     "output_type": "stream",
     "text": [
      "       1/50      2.07G      1.674      2.896      1.974         16        640: 100%|██████████| 10/10 [00:00<00:00, 11.34it/s]\n",
      "                 Class     Images  Instances      Box(P          R      mAP50  mAP50-95): 100%|██████████| 2/2 [00:00<00:00, 17.83it/s]"
     ]
    },
    {
     "name": "stdout",
     "output_type": "stream",
     "text": [
      "                   all         42         53    0.00421          1      0.105     0.0394\n"
     ]
    },
    {
     "name": "stderr",
     "output_type": "stream",
     "text": [
      "\n"
     ]
    },
    {
     "name": "stdout",
     "output_type": "stream",
     "text": [
      "\n",
      "      Epoch    GPU_mem   box_loss   cls_loss   dfl_loss  Instances       Size\n"
     ]
    },
    {
     "name": "stderr",
     "output_type": "stream",
     "text": [
      "       2/50      2.46G      1.363      2.285      1.784         20        640: 100%|██████████| 10/10 [00:00<00:00, 12.13it/s]\n",
      "                 Class     Images  Instances      Box(P          R      mAP50  mAP50-95): 100%|██████████| 2/2 [00:00<00:00, 17.94it/s]"
     ]
    },
    {
     "name": "stdout",
     "output_type": "stream",
     "text": [
      "                   all         42         53    0.00389      0.925      0.213      0.106\n"
     ]
    },
    {
     "name": "stderr",
     "output_type": "stream",
     "text": [
      "\n"
     ]
    },
    {
     "name": "stdout",
     "output_type": "stream",
     "text": [
      "\n",
      "      Epoch    GPU_mem   box_loss   cls_loss   dfl_loss  Instances       Size\n"
     ]
    },
    {
     "name": "stderr",
     "output_type": "stream",
     "text": [
      "       3/50      2.46G      1.366      2.019      1.749         18        640: 100%|██████████| 10/10 [00:00<00:00, 12.41it/s]\n",
      "                 Class     Images  Instances      Box(P          R      mAP50  mAP50-95): 100%|██████████| 2/2 [00:00<00:00, 17.94it/s]"
     ]
    },
    {
     "name": "stdout",
     "output_type": "stream",
     "text": [
      "                   all         42         53    0.00357      0.849      0.111     0.0417\n"
     ]
    },
    {
     "name": "stderr",
     "output_type": "stream",
     "text": [
      "\n"
     ]
    },
    {
     "name": "stdout",
     "output_type": "stream",
     "text": [
      "\n",
      "      Epoch    GPU_mem   box_loss   cls_loss   dfl_loss  Instances       Size\n"
     ]
    },
    {
     "name": "stderr",
     "output_type": "stream",
     "text": [
      "       4/50      2.46G      1.337       1.97        1.7         19        640: 100%|██████████| 10/10 [00:00<00:00, 12.36it/s]\n",
      "                 Class     Images  Instances      Box(P          R      mAP50  mAP50-95): 100%|██████████| 2/2 [00:00<00:00, 17.54it/s]"
     ]
    },
    {
     "name": "stdout",
     "output_type": "stream",
     "text": [
      "                   all         42         53      0.671      0.463      0.409      0.195\n"
     ]
    },
    {
     "name": "stderr",
     "output_type": "stream",
     "text": [
      "\n"
     ]
    },
    {
     "name": "stdout",
     "output_type": "stream",
     "text": [
      "\n",
      "      Epoch    GPU_mem   box_loss   cls_loss   dfl_loss  Instances       Size\n"
     ]
    },
    {
     "name": "stderr",
     "output_type": "stream",
     "text": [
      "       5/50      2.46G      1.487       2.01      1.793         15        640: 100%|██████████| 10/10 [00:00<00:00, 12.41it/s]\n",
      "                 Class     Images  Instances      Box(P          R      mAP50  mAP50-95): 100%|██████████| 2/2 [00:00<00:00, 17.43it/s]"
     ]
    },
    {
     "name": "stdout",
     "output_type": "stream",
     "text": [
      "                   all         42         53     0.0211      0.717      0.115      0.035\n"
     ]
    },
    {
     "name": "stderr",
     "output_type": "stream",
     "text": [
      "\n"
     ]
    },
    {
     "name": "stdout",
     "output_type": "stream",
     "text": [
      "\n",
      "      Epoch    GPU_mem   box_loss   cls_loss   dfl_loss  Instances       Size\n"
     ]
    },
    {
     "name": "stderr",
     "output_type": "stream",
     "text": [
      "       6/50      2.46G      1.491      2.094      1.784         23        640: 100%|██████████| 10/10 [00:00<00:00, 12.55it/s]\n",
      "                 Class     Images  Instances      Box(P          R      mAP50  mAP50-95): 100%|██████████| 2/2 [00:00<00:00, 17.30it/s]"
     ]
    },
    {
     "name": "stdout",
     "output_type": "stream",
     "text": [
      "                   all         42         53      0.346      0.321      0.293      0.139\n"
     ]
    },
    {
     "name": "stderr",
     "output_type": "stream",
     "text": [
      "\n"
     ]
    },
    {
     "name": "stdout",
     "output_type": "stream",
     "text": [
      "\n",
      "      Epoch    GPU_mem   box_loss   cls_loss   dfl_loss  Instances       Size\n"
     ]
    },
    {
     "name": "stderr",
     "output_type": "stream",
     "text": [
      "       7/50      2.48G      1.395       1.88       1.71         20        640: 100%|██████████| 10/10 [00:00<00:00, 12.63it/s]\n",
      "                 Class     Images  Instances      Box(P          R      mAP50  mAP50-95): 100%|██████████| 2/2 [00:00<00:00, 17.33it/s]"
     ]
    },
    {
     "name": "stdout",
     "output_type": "stream",
     "text": [
      "                   all         42         53      0.402      0.358      0.238     0.0851\n"
     ]
    },
    {
     "name": "stderr",
     "output_type": "stream",
     "text": [
      "\n"
     ]
    },
    {
     "name": "stdout",
     "output_type": "stream",
     "text": [
      "\n",
      "      Epoch    GPU_mem   box_loss   cls_loss   dfl_loss  Instances       Size\n"
     ]
    },
    {
     "name": "stderr",
     "output_type": "stream",
     "text": [
      "       8/50      2.48G       1.39      1.875      1.739         19        640: 100%|██████████| 10/10 [00:00<00:00, 12.62it/s]\n",
      "                 Class     Images  Instances      Box(P          R      mAP50  mAP50-95): 100%|██████████| 2/2 [00:00<00:00, 17.74it/s]"
     ]
    },
    {
     "name": "stdout",
     "output_type": "stream",
     "text": [
      "                   all         42         53       0.32      0.264      0.243      0.109\n"
     ]
    },
    {
     "name": "stderr",
     "output_type": "stream",
     "text": [
      "\n"
     ]
    },
    {
     "name": "stdout",
     "output_type": "stream",
     "text": [
      "\n",
      "      Epoch    GPU_mem   box_loss   cls_loss   dfl_loss  Instances       Size\n"
     ]
    },
    {
     "name": "stderr",
     "output_type": "stream",
     "text": [
      "       9/50      2.49G      1.466      1.891       1.75         22        640: 100%|██████████| 10/10 [00:00<00:00, 12.67it/s]\n",
      "                 Class     Images  Instances      Box(P          R      mAP50  mAP50-95): 100%|██████████| 2/2 [00:00<00:00, 17.90it/s]"
     ]
    },
    {
     "name": "stdout",
     "output_type": "stream",
     "text": [
      "                   all         42         53      0.331      0.396       0.21     0.0885\n"
     ]
    },
    {
     "name": "stderr",
     "output_type": "stream",
     "text": [
      "\n"
     ]
    },
    {
     "name": "stdout",
     "output_type": "stream",
     "text": [
      "\n",
      "      Epoch    GPU_mem   box_loss   cls_loss   dfl_loss  Instances       Size\n"
     ]
    },
    {
     "name": "stderr",
     "output_type": "stream",
     "text": [
      "      10/50      2.49G      1.384      1.781      1.712         19        640: 100%|██████████| 10/10 [00:00<00:00, 12.65it/s]\n",
      "                 Class     Images  Instances      Box(P          R      mAP50  mAP50-95): 100%|██████████| 2/2 [00:00<00:00, 18.00it/s]"
     ]
    },
    {
     "name": "stdout",
     "output_type": "stream",
     "text": [
      "                   all         42         53      0.463      0.321      0.313      0.119\n"
     ]
    },
    {
     "name": "stderr",
     "output_type": "stream",
     "text": [
      "\n"
     ]
    },
    {
     "name": "stdout",
     "output_type": "stream",
     "text": [
      "\n",
      "      Epoch    GPU_mem   box_loss   cls_loss   dfl_loss  Instances       Size\n"
     ]
    },
    {
     "name": "stderr",
     "output_type": "stream",
     "text": [
      "      11/50      2.49G      1.365       1.76      1.726         20        640: 100%|██████████| 10/10 [00:00<00:00, 12.79it/s]\n",
      "                 Class     Images  Instances      Box(P          R      mAP50  mAP50-95): 100%|██████████| 2/2 [00:00<00:00, 17.94it/s]"
     ]
    },
    {
     "name": "stdout",
     "output_type": "stream",
     "text": [
      "                   all         42         53      0.549      0.509      0.398      0.156\n"
     ]
    },
    {
     "name": "stderr",
     "output_type": "stream",
     "text": [
      "\n"
     ]
    },
    {
     "name": "stdout",
     "output_type": "stream",
     "text": [
      "\n",
      "      Epoch    GPU_mem   box_loss   cls_loss   dfl_loss  Instances       Size\n"
     ]
    },
    {
     "name": "stderr",
     "output_type": "stream",
     "text": [
      "      12/50      2.49G      1.385      1.769       1.69         17        640: 100%|██████████| 10/10 [00:00<00:00, 12.63it/s]\n",
      "                 Class     Images  Instances      Box(P          R      mAP50  mAP50-95): 100%|██████████| 2/2 [00:00<00:00, 17.65it/s]"
     ]
    },
    {
     "name": "stdout",
     "output_type": "stream",
     "text": [
      "                   all         42         53      0.275      0.396      0.216     0.0526\n"
     ]
    },
    {
     "name": "stderr",
     "output_type": "stream",
     "text": [
      "\n"
     ]
    },
    {
     "name": "stdout",
     "output_type": "stream",
     "text": [
      "\n",
      "      Epoch    GPU_mem   box_loss   cls_loss   dfl_loss  Instances       Size\n"
     ]
    },
    {
     "name": "stderr",
     "output_type": "stream",
     "text": [
      "      13/50      2.49G      1.404      1.797      1.714         18        640: 100%|██████████| 10/10 [00:00<00:00, 12.79it/s]\n",
      "                 Class     Images  Instances      Box(P          R      mAP50  mAP50-95): 100%|██████████| 2/2 [00:00<00:00, 17.22it/s]"
     ]
    },
    {
     "name": "stdout",
     "output_type": "stream",
     "text": [
      "                   all         42         53       0.28      0.434      0.217     0.0895\n"
     ]
    },
    {
     "name": "stderr",
     "output_type": "stream",
     "text": [
      "\n"
     ]
    },
    {
     "name": "stdout",
     "output_type": "stream",
     "text": [
      "\n",
      "      Epoch    GPU_mem   box_loss   cls_loss   dfl_loss  Instances       Size\n"
     ]
    },
    {
     "name": "stderr",
     "output_type": "stream",
     "text": [
      "      14/50      2.49G       1.32      1.632      1.654         18        640: 100%|██████████| 10/10 [00:00<00:00, 12.64it/s]\n",
      "                 Class     Images  Instances      Box(P          R      mAP50  mAP50-95): 100%|██████████| 2/2 [00:00<00:00, 18.92it/s]"
     ]
    },
    {
     "name": "stdout",
     "output_type": "stream",
     "text": [
      "                   all         42         53      0.406      0.472      0.303      0.122\n"
     ]
    },
    {
     "name": "stderr",
     "output_type": "stream",
     "text": [
      "\n"
     ]
    },
    {
     "name": "stdout",
     "output_type": "stream",
     "text": [
      "\n",
      "      Epoch    GPU_mem   box_loss   cls_loss   dfl_loss  Instances       Size\n"
     ]
    },
    {
     "name": "stderr",
     "output_type": "stream",
     "text": [
      "      15/50      2.49G      1.319      1.685      1.664         16        640: 100%|██████████| 10/10 [00:00<00:00, 12.76it/s]\n",
      "                 Class     Images  Instances      Box(P          R      mAP50  mAP50-95): 100%|██████████| 2/2 [00:00<00:00, 19.10it/s]"
     ]
    },
    {
     "name": "stdout",
     "output_type": "stream",
     "text": [
      "                   all         42         53      0.379      0.453      0.422      0.188\n"
     ]
    },
    {
     "name": "stderr",
     "output_type": "stream",
     "text": [
      "\n"
     ]
    },
    {
     "name": "stdout",
     "output_type": "stream",
     "text": [
      "\n",
      "      Epoch    GPU_mem   box_loss   cls_loss   dfl_loss  Instances       Size\n"
     ]
    },
    {
     "name": "stderr",
     "output_type": "stream",
     "text": [
      "      16/50      2.49G      1.356      1.705      1.711         13        640: 100%|██████████| 10/10 [00:00<00:00, 12.63it/s]\n",
      "                 Class     Images  Instances      Box(P          R      mAP50  mAP50-95): 100%|██████████| 2/2 [00:00<00:00, 19.26it/s]"
     ]
    },
    {
     "name": "stdout",
     "output_type": "stream",
     "text": [
      "                   all         42         53      0.363      0.321      0.259      0.138\n"
     ]
    },
    {
     "name": "stderr",
     "output_type": "stream",
     "text": [
      "\n"
     ]
    },
    {
     "name": "stdout",
     "output_type": "stream",
     "text": [
      "\n",
      "      Epoch    GPU_mem   box_loss   cls_loss   dfl_loss  Instances       Size\n"
     ]
    },
    {
     "name": "stderr",
     "output_type": "stream",
     "text": [
      "      17/50      2.49G      1.277       1.61      1.646         16        640: 100%|██████████| 10/10 [00:00<00:00, 12.76it/s]\n",
      "                 Class     Images  Instances      Box(P          R      mAP50  mAP50-95): 100%|██████████| 2/2 [00:00<00:00, 19.05it/s]"
     ]
    },
    {
     "name": "stdout",
     "output_type": "stream",
     "text": [
      "                   all         42         53      0.583      0.342      0.368      0.209\n"
     ]
    },
    {
     "name": "stderr",
     "output_type": "stream",
     "text": [
      "\n"
     ]
    },
    {
     "name": "stdout",
     "output_type": "stream",
     "text": [
      "\n",
      "      Epoch    GPU_mem   box_loss   cls_loss   dfl_loss  Instances       Size\n"
     ]
    },
    {
     "name": "stderr",
     "output_type": "stream",
     "text": [
      "      18/50      2.49G      1.316      1.638      1.617         18        640: 100%|██████████| 10/10 [00:00<00:00, 12.62it/s]\n",
      "                 Class     Images  Instances      Box(P          R      mAP50  mAP50-95): 100%|██████████| 2/2 [00:00<00:00, 19.38it/s]"
     ]
    },
    {
     "name": "stdout",
     "output_type": "stream",
     "text": [
      "                   all         42         53      0.478      0.491      0.457      0.268\n"
     ]
    },
    {
     "name": "stderr",
     "output_type": "stream",
     "text": [
      "\n"
     ]
    },
    {
     "name": "stdout",
     "output_type": "stream",
     "text": [
      "\n",
      "      Epoch    GPU_mem   box_loss   cls_loss   dfl_loss  Instances       Size\n"
     ]
    },
    {
     "name": "stderr",
     "output_type": "stream",
     "text": [
      "      19/50      2.49G      1.288      1.591      1.646         22        640: 100%|██████████| 10/10 [00:00<00:00, 12.82it/s]\n",
      "                 Class     Images  Instances      Box(P          R      mAP50  mAP50-95): 100%|██████████| 2/2 [00:00<00:00, 19.18it/s]"
     ]
    },
    {
     "name": "stdout",
     "output_type": "stream",
     "text": [
      "                   all         42         53      0.694      0.396      0.506      0.248\n"
     ]
    },
    {
     "name": "stderr",
     "output_type": "stream",
     "text": [
      "\n"
     ]
    },
    {
     "name": "stdout",
     "output_type": "stream",
     "text": [
      "\n",
      "      Epoch    GPU_mem   box_loss   cls_loss   dfl_loss  Instances       Size\n"
     ]
    },
    {
     "name": "stderr",
     "output_type": "stream",
     "text": [
      "      20/50      2.49G      1.197      1.479      1.556         16        640: 100%|██████████| 10/10 [00:00<00:00, 12.68it/s]\n",
      "                 Class     Images  Instances      Box(P          R      mAP50  mAP50-95): 100%|██████████| 2/2 [00:00<00:00, 18.79it/s]"
     ]
    },
    {
     "name": "stdout",
     "output_type": "stream",
     "text": [
      "                   all         42         53      0.735      0.396      0.505       0.26\n"
     ]
    },
    {
     "name": "stderr",
     "output_type": "stream",
     "text": [
      "\n"
     ]
    },
    {
     "name": "stdout",
     "output_type": "stream",
     "text": [
      "\n",
      "      Epoch    GPU_mem   box_loss   cls_loss   dfl_loss  Instances       Size\n"
     ]
    },
    {
     "name": "stderr",
     "output_type": "stream",
     "text": [
      "      21/50      2.49G      1.238      1.505      1.566         20        640: 100%|██████████| 10/10 [00:00<00:00, 12.77it/s]\n",
      "                 Class     Images  Instances      Box(P          R      mAP50  mAP50-95): 100%|██████████| 2/2 [00:00<00:00, 19.29it/s]"
     ]
    },
    {
     "name": "stdout",
     "output_type": "stream",
     "text": [
      "                   all         42         53      0.649      0.434      0.467      0.233\n"
     ]
    },
    {
     "name": "stderr",
     "output_type": "stream",
     "text": [
      "\n"
     ]
    },
    {
     "name": "stdout",
     "output_type": "stream",
     "text": [
      "\n",
      "      Epoch    GPU_mem   box_loss   cls_loss   dfl_loss  Instances       Size\n"
     ]
    },
    {
     "name": "stderr",
     "output_type": "stream",
     "text": [
      "      22/50      2.49G      1.225      1.488      1.583         21        640: 100%|██████████| 10/10 [00:00<00:00, 12.63it/s]\n",
      "                 Class     Images  Instances      Box(P          R      mAP50  mAP50-95): 100%|██████████| 2/2 [00:00<00:00, 19.44it/s]"
     ]
    },
    {
     "name": "stdout",
     "output_type": "stream",
     "text": [
      "                   all         42         53      0.373      0.434      0.379      0.203\n"
     ]
    },
    {
     "name": "stderr",
     "output_type": "stream",
     "text": [
      "\n"
     ]
    },
    {
     "name": "stdout",
     "output_type": "stream",
     "text": [
      "\n",
      "      Epoch    GPU_mem   box_loss   cls_loss   dfl_loss  Instances       Size\n"
     ]
    },
    {
     "name": "stderr",
     "output_type": "stream",
     "text": [
      "      23/50      2.49G      1.266      1.489       1.64         13        640: 100%|██████████| 10/10 [00:00<00:00, 12.76it/s]\n",
      "                 Class     Images  Instances      Box(P          R      mAP50  mAP50-95): 100%|██████████| 2/2 [00:00<00:00, 19.64it/s]"
     ]
    },
    {
     "name": "stdout",
     "output_type": "stream",
     "text": [
      "                   all         42         53      0.704      0.358      0.439      0.228\n"
     ]
    },
    {
     "name": "stderr",
     "output_type": "stream",
     "text": [
      "\n"
     ]
    },
    {
     "name": "stdout",
     "output_type": "stream",
     "text": [
      "\n",
      "      Epoch    GPU_mem   box_loss   cls_loss   dfl_loss  Instances       Size\n"
     ]
    },
    {
     "name": "stderr",
     "output_type": "stream",
     "text": [
      "      24/50      2.49G      1.335      1.628      1.691         13        640: 100%|██████████| 10/10 [00:00<00:00, 12.64it/s]\n",
      "                 Class     Images  Instances      Box(P          R      mAP50  mAP50-95): 100%|██████████| 2/2 [00:00<00:00, 19.34it/s]"
     ]
    },
    {
     "name": "stdout",
     "output_type": "stream",
     "text": [
      "                   all         42         53      0.838      0.434      0.532      0.307\n"
     ]
    },
    {
     "name": "stderr",
     "output_type": "stream",
     "text": [
      "\n"
     ]
    },
    {
     "name": "stdout",
     "output_type": "stream",
     "text": [
      "\n",
      "      Epoch    GPU_mem   box_loss   cls_loss   dfl_loss  Instances       Size\n"
     ]
    },
    {
     "name": "stderr",
     "output_type": "stream",
     "text": [
      "      25/50      2.49G      1.244      1.542      1.585         24        640: 100%|██████████| 10/10 [00:00<00:00, 12.78it/s]\n",
      "                 Class     Images  Instances      Box(P          R      mAP50  mAP50-95): 100%|██████████| 2/2 [00:00<00:00, 19.13it/s]"
     ]
    },
    {
     "name": "stdout",
     "output_type": "stream",
     "text": [
      "                   all         42         53      0.807      0.547      0.563      0.292\n"
     ]
    },
    {
     "name": "stderr",
     "output_type": "stream",
     "text": [
      "\n"
     ]
    },
    {
     "name": "stdout",
     "output_type": "stream",
     "text": [
      "\n",
      "      Epoch    GPU_mem   box_loss   cls_loss   dfl_loss  Instances       Size\n"
     ]
    },
    {
     "name": "stderr",
     "output_type": "stream",
     "text": [
      "      26/50      2.49G      1.132      1.428      1.525         14        640: 100%|██████████| 10/10 [00:00<00:00, 12.68it/s]\n",
      "                 Class     Images  Instances      Box(P          R      mAP50  mAP50-95): 100%|██████████| 2/2 [00:00<00:00, 19.30it/s]"
     ]
    },
    {
     "name": "stdout",
     "output_type": "stream",
     "text": [
      "                   all         42         53      0.726      0.501      0.527      0.293\n"
     ]
    },
    {
     "name": "stderr",
     "output_type": "stream",
     "text": [
      "\n"
     ]
    },
    {
     "name": "stdout",
     "output_type": "stream",
     "text": [
      "\n",
      "      Epoch    GPU_mem   box_loss   cls_loss   dfl_loss  Instances       Size\n"
     ]
    },
    {
     "name": "stderr",
     "output_type": "stream",
     "text": [
      "      27/50      2.49G      1.143      1.455      1.553         14        640: 100%|██████████| 10/10 [00:00<00:00, 12.77it/s]\n",
      "                 Class     Images  Instances      Box(P          R      mAP50  mAP50-95): 100%|██████████| 2/2 [00:00<00:00, 19.53it/s]"
     ]
    },
    {
     "name": "stdout",
     "output_type": "stream",
     "text": [
      "                   all         42         53       0.91      0.434      0.556      0.315\n"
     ]
    },
    {
     "name": "stderr",
     "output_type": "stream",
     "text": [
      "\n"
     ]
    },
    {
     "name": "stdout",
     "output_type": "stream",
     "text": [
      "\n",
      "      Epoch    GPU_mem   box_loss   cls_loss   dfl_loss  Instances       Size\n"
     ]
    },
    {
     "name": "stderr",
     "output_type": "stream",
     "text": [
      "      28/50      2.49G       1.15      1.395      1.554         15        640: 100%|██████████| 10/10 [00:00<00:00, 12.67it/s]\n",
      "                 Class     Images  Instances      Box(P          R      mAP50  mAP50-95): 100%|██████████| 2/2 [00:00<00:00, 19.34it/s]"
     ]
    },
    {
     "name": "stdout",
     "output_type": "stream",
     "text": [
      "                   all         42         53      0.686      0.491      0.541      0.293\n"
     ]
    },
    {
     "name": "stderr",
     "output_type": "stream",
     "text": [
      "\n"
     ]
    },
    {
     "name": "stdout",
     "output_type": "stream",
     "text": [
      "\n",
      "      Epoch    GPU_mem   box_loss   cls_loss   dfl_loss  Instances       Size\n"
     ]
    },
    {
     "name": "stderr",
     "output_type": "stream",
     "text": [
      "      29/50      2.49G      1.206      1.396      1.607         18        640: 100%|██████████| 10/10 [00:00<00:00, 12.80it/s]\n",
      "                 Class     Images  Instances      Box(P          R      mAP50  mAP50-95): 100%|██████████| 2/2 [00:00<00:00, 19.22it/s]"
     ]
    },
    {
     "name": "stdout",
     "output_type": "stream",
     "text": [
      "                   all         42         53      0.861      0.491      0.603      0.327\n"
     ]
    },
    {
     "name": "stderr",
     "output_type": "stream",
     "text": [
      "\n"
     ]
    },
    {
     "name": "stdout",
     "output_type": "stream",
     "text": [
      "\n",
      "      Epoch    GPU_mem   box_loss   cls_loss   dfl_loss  Instances       Size\n"
     ]
    },
    {
     "name": "stderr",
     "output_type": "stream",
     "text": [
      "      30/50      2.49G      1.145      1.353      1.501         15        640: 100%|██████████| 10/10 [00:00<00:00, 12.69it/s]\n",
      "                 Class     Images  Instances      Box(P          R      mAP50  mAP50-95): 100%|██████████| 2/2 [00:00<00:00, 19.17it/s]"
     ]
    },
    {
     "name": "stdout",
     "output_type": "stream",
     "text": [
      "                   all         42         53       0.68      0.547      0.575      0.342\n"
     ]
    },
    {
     "name": "stderr",
     "output_type": "stream",
     "text": [
      "\n"
     ]
    },
    {
     "name": "stdout",
     "output_type": "stream",
     "text": [
      "\n",
      "      Epoch    GPU_mem   box_loss   cls_loss   dfl_loss  Instances       Size\n"
     ]
    },
    {
     "name": "stderr",
     "output_type": "stream",
     "text": [
      "      31/50      2.49G      1.102      1.327      1.486         16        640: 100%|██████████| 10/10 [00:00<00:00, 12.80it/s]\n",
      "                 Class     Images  Instances      Box(P          R      mAP50  mAP50-95): 100%|██████████| 2/2 [00:00<00:00, 19.60it/s]"
     ]
    },
    {
     "name": "stdout",
     "output_type": "stream",
     "text": [
      "                   all         42         53      0.698      0.491      0.497      0.305\n"
     ]
    },
    {
     "name": "stderr",
     "output_type": "stream",
     "text": [
      "\n"
     ]
    },
    {
     "name": "stdout",
     "output_type": "stream",
     "text": [
      "\n",
      "      Epoch    GPU_mem   box_loss   cls_loss   dfl_loss  Instances       Size\n"
     ]
    },
    {
     "name": "stderr",
     "output_type": "stream",
     "text": [
      "      32/50      2.49G      1.136      1.282      1.504         22        640: 100%|██████████| 10/10 [00:00<00:00, 12.69it/s]\n",
      "                 Class     Images  Instances      Box(P          R      mAP50  mAP50-95): 100%|██████████| 2/2 [00:00<00:00, 19.64it/s]"
     ]
    },
    {
     "name": "stdout",
     "output_type": "stream",
     "text": [
      "                   all         42         53      0.789      0.528      0.567        0.3\n"
     ]
    },
    {
     "name": "stderr",
     "output_type": "stream",
     "text": [
      "\n"
     ]
    },
    {
     "name": "stdout",
     "output_type": "stream",
     "text": [
      "\n",
      "      Epoch    GPU_mem   box_loss   cls_loss   dfl_loss  Instances       Size\n"
     ]
    },
    {
     "name": "stderr",
     "output_type": "stream",
     "text": [
      "      33/50      2.49G      1.178      1.346      1.546         14        640: 100%|██████████| 10/10 [00:00<00:00, 12.80it/s]\n",
      "                 Class     Images  Instances      Box(P          R      mAP50  mAP50-95): 100%|██████████| 2/2 [00:00<00:00, 19.70it/s]"
     ]
    },
    {
     "name": "stdout",
     "output_type": "stream",
     "text": [
      "                   all         42         53      0.843      0.506      0.582      0.339\n"
     ]
    },
    {
     "name": "stderr",
     "output_type": "stream",
     "text": [
      "\n"
     ]
    },
    {
     "name": "stdout",
     "output_type": "stream",
     "text": [
      "\n",
      "      Epoch    GPU_mem   box_loss   cls_loss   dfl_loss  Instances       Size\n"
     ]
    },
    {
     "name": "stderr",
     "output_type": "stream",
     "text": [
      "      34/50      2.49G      1.157      1.369      1.519         22        640: 100%|██████████| 10/10 [00:00<00:00, 12.62it/s]\n",
      "                 Class     Images  Instances      Box(P          R      mAP50  mAP50-95): 100%|██████████| 2/2 [00:00<00:00, 19.73it/s]"
     ]
    },
    {
     "name": "stdout",
     "output_type": "stream",
     "text": [
      "                   all         42         53       0.71      0.509      0.533      0.328\n"
     ]
    },
    {
     "name": "stderr",
     "output_type": "stream",
     "text": [
      "\n"
     ]
    },
    {
     "name": "stdout",
     "output_type": "stream",
     "text": [
      "\n",
      "      Epoch    GPU_mem   box_loss   cls_loss   dfl_loss  Instances       Size\n"
     ]
    },
    {
     "name": "stderr",
     "output_type": "stream",
     "text": [
      "      35/50      2.49G      1.139      1.291      1.521         17        640: 100%|██████████| 10/10 [00:00<00:00, 12.75it/s]\n",
      "                 Class     Images  Instances      Box(P          R      mAP50  mAP50-95): 100%|██████████| 2/2 [00:00<00:00, 19.73it/s]"
     ]
    },
    {
     "name": "stdout",
     "output_type": "stream",
     "text": [
      "                   all         42         53      0.726      0.547      0.584      0.334\n"
     ]
    },
    {
     "name": "stderr",
     "output_type": "stream",
     "text": [
      "\n"
     ]
    },
    {
     "name": "stdout",
     "output_type": "stream",
     "text": [
      "\n",
      "      Epoch    GPU_mem   box_loss   cls_loss   dfl_loss  Instances       Size\n"
     ]
    },
    {
     "name": "stderr",
     "output_type": "stream",
     "text": [
      "      36/50      2.49G      1.116      1.336      1.503         22        640: 100%|██████████| 10/10 [00:00<00:00, 12.64it/s]\n",
      "                 Class     Images  Instances      Box(P          R      mAP50  mAP50-95): 100%|██████████| 2/2 [00:00<00:00, 19.38it/s]"
     ]
    },
    {
     "name": "stdout",
     "output_type": "stream",
     "text": [
      "                   all         42         53       0.78      0.469      0.593      0.328\n"
     ]
    },
    {
     "name": "stderr",
     "output_type": "stream",
     "text": [
      "\n"
     ]
    },
    {
     "name": "stdout",
     "output_type": "stream",
     "text": [
      "\n",
      "      Epoch    GPU_mem   box_loss   cls_loss   dfl_loss  Instances       Size\n"
     ]
    },
    {
     "name": "stderr",
     "output_type": "stream",
     "text": [
      "      37/50      2.49G      1.031      1.227      1.471         15        640: 100%|██████████| 10/10 [00:00<00:00, 12.76it/s]\n",
      "                 Class     Images  Instances      Box(P          R      mAP50  mAP50-95): 100%|██████████| 2/2 [00:00<00:00, 19.59it/s]"
     ]
    },
    {
     "name": "stdout",
     "output_type": "stream",
     "text": [
      "                   all         42         53      0.737      0.453      0.536      0.305\n"
     ]
    },
    {
     "name": "stderr",
     "output_type": "stream",
     "text": [
      "\n"
     ]
    },
    {
     "name": "stdout",
     "output_type": "stream",
     "text": [
      "\n",
      "      Epoch    GPU_mem   box_loss   cls_loss   dfl_loss  Instances       Size\n"
     ]
    },
    {
     "name": "stderr",
     "output_type": "stream",
     "text": [
      "      38/50      2.49G      1.096      1.277      1.506         18        640: 100%|██████████| 10/10 [00:00<00:00, 12.62it/s]\n",
      "                 Class     Images  Instances      Box(P          R      mAP50  mAP50-95): 100%|██████████| 2/2 [00:00<00:00, 19.64it/s]"
     ]
    },
    {
     "name": "stdout",
     "output_type": "stream",
     "text": [
      "                   all         42         53       0.78      0.472      0.524      0.312\n"
     ]
    },
    {
     "name": "stderr",
     "output_type": "stream",
     "text": [
      "\n"
     ]
    },
    {
     "name": "stdout",
     "output_type": "stream",
     "text": [
      "\n",
      "      Epoch    GPU_mem   box_loss   cls_loss   dfl_loss  Instances       Size\n"
     ]
    },
    {
     "name": "stderr",
     "output_type": "stream",
     "text": [
      "      39/50      2.49G      1.063      1.277      1.443         18        640: 100%|██████████| 10/10 [00:00<00:00, 12.78it/s]\n",
      "                 Class     Images  Instances      Box(P          R      mAP50  mAP50-95): 100%|██████████| 2/2 [00:00<00:00, 19.69it/s]"
     ]
    },
    {
     "name": "stdout",
     "output_type": "stream",
     "text": [
      "                   all         42         53      0.773      0.491      0.558      0.332\n"
     ]
    },
    {
     "name": "stderr",
     "output_type": "stream",
     "text": [
      "\n"
     ]
    },
    {
     "name": "stdout",
     "output_type": "stream",
     "text": [
      "\n",
      "      Epoch    GPU_mem   box_loss   cls_loss   dfl_loss  Instances       Size\n"
     ]
    },
    {
     "name": "stderr",
     "output_type": "stream",
     "text": [
      "      40/50      2.49G      1.066      1.183      1.454         14        640: 100%|██████████| 10/10 [00:00<00:00, 12.66it/s]\n",
      "                 Class     Images  Instances      Box(P          R      mAP50  mAP50-95): 100%|██████████| 2/2 [00:00<00:00, 19.62it/s]"
     ]
    },
    {
     "name": "stdout",
     "output_type": "stream",
     "text": [
      "                   all         42         53      0.832      0.547      0.637       0.36\n"
     ]
    },
    {
     "name": "stderr",
     "output_type": "stream",
     "text": [
      "\n"
     ]
    },
    {
     "name": "stdout",
     "output_type": "stream",
     "text": [
      "Closing dataloader mosaic\n",
      "\n",
      "      Epoch    GPU_mem   box_loss   cls_loss   dfl_loss  Instances       Size\n"
     ]
    },
    {
     "name": "stderr",
     "output_type": "stream",
     "text": [
      "      41/50      2.49G      1.133      1.773      1.655          6        640: 100%|██████████| 10/10 [00:00<00:00, 10.70it/s]\n",
      "                 Class     Images  Instances      Box(P          R      mAP50  mAP50-95): 100%|██████████| 2/2 [00:00<00:00, 19.54it/s]"
     ]
    },
    {
     "name": "stdout",
     "output_type": "stream",
     "text": [
      "                   all         42         53      0.822      0.585      0.632      0.366\n"
     ]
    },
    {
     "name": "stderr",
     "output_type": "stream",
     "text": [
      "\n"
     ]
    },
    {
     "name": "stdout",
     "output_type": "stream",
     "text": [
      "\n",
      "      Epoch    GPU_mem   box_loss   cls_loss   dfl_loss  Instances       Size\n"
     ]
    },
    {
     "name": "stderr",
     "output_type": "stream",
     "text": [
      "      42/50      2.49G      1.206       1.62      1.704          7        640: 100%|██████████| 10/10 [00:00<00:00, 12.70it/s]\n",
      "                 Class     Images  Instances      Box(P          R      mAP50  mAP50-95): 100%|██████████| 2/2 [00:00<00:00, 19.59it/s]"
     ]
    },
    {
     "name": "stdout",
     "output_type": "stream",
     "text": [
      "                   all         42         53      0.824      0.585      0.621      0.359\n"
     ]
    },
    {
     "name": "stderr",
     "output_type": "stream",
     "text": [
      "\n"
     ]
    },
    {
     "name": "stdout",
     "output_type": "stream",
     "text": [
      "\n",
      "      Epoch    GPU_mem   box_loss   cls_loss   dfl_loss  Instances       Size\n"
     ]
    },
    {
     "name": "stderr",
     "output_type": "stream",
     "text": [
      "      43/50      2.49G      1.097      1.449      1.634          6        640: 100%|██████████| 10/10 [00:00<00:00, 12.87it/s]\n",
      "                 Class     Images  Instances      Box(P          R      mAP50  mAP50-95): 100%|██████████| 2/2 [00:00<00:00, 18.83it/s]"
     ]
    },
    {
     "name": "stdout",
     "output_type": "stream",
     "text": [
      "                   all         42         53      0.757      0.604      0.618      0.348\n"
     ]
    },
    {
     "name": "stderr",
     "output_type": "stream",
     "text": [
      "\n"
     ]
    },
    {
     "name": "stdout",
     "output_type": "stream",
     "text": [
      "\n",
      "      Epoch    GPU_mem   box_loss   cls_loss   dfl_loss  Instances       Size\n"
     ]
    },
    {
     "name": "stderr",
     "output_type": "stream",
     "text": [
      "      44/50      2.49G      1.048      1.427      1.603          7        640: 100%|██████████| 10/10 [00:00<00:00, 12.70it/s]\n",
      "                 Class     Images  Instances      Box(P          R      mAP50  mAP50-95): 100%|██████████| 2/2 [00:00<00:00, 19.38it/s]"
     ]
    },
    {
     "name": "stdout",
     "output_type": "stream",
     "text": [
      "                   all         42         53      0.707      0.591      0.594      0.322\n"
     ]
    },
    {
     "name": "stderr",
     "output_type": "stream",
     "text": [
      "\n"
     ]
    },
    {
     "name": "stdout",
     "output_type": "stream",
     "text": [
      "\n",
      "      Epoch    GPU_mem   box_loss   cls_loss   dfl_loss  Instances       Size\n"
     ]
    },
    {
     "name": "stderr",
     "output_type": "stream",
     "text": [
      "      45/50      2.49G      1.006      1.349      1.558          6        640: 100%|██████████| 10/10 [00:00<00:00, 12.83it/s]\n",
      "                 Class     Images  Instances      Box(P          R      mAP50  mAP50-95): 100%|██████████| 2/2 [00:00<00:00, 19.63it/s]"
     ]
    },
    {
     "name": "stdout",
     "output_type": "stream",
     "text": [
      "                   all         42         53      0.711      0.509      0.576      0.308\n"
     ]
    },
    {
     "name": "stderr",
     "output_type": "stream",
     "text": [
      "\n"
     ]
    },
    {
     "name": "stdout",
     "output_type": "stream",
     "text": [
      "\n",
      "      Epoch    GPU_mem   box_loss   cls_loss   dfl_loss  Instances       Size\n"
     ]
    },
    {
     "name": "stderr",
     "output_type": "stream",
     "text": [
      "      46/50      2.49G      1.069      1.309      1.633          6        640: 100%|██████████| 10/10 [00:00<00:00, 12.70it/s]\n",
      "                 Class     Images  Instances      Box(P          R      mAP50  mAP50-95): 100%|██████████| 2/2 [00:00<00:00, 19.37it/s]"
     ]
    },
    {
     "name": "stdout",
     "output_type": "stream",
     "text": [
      "                   all         42         53      0.642      0.566      0.572      0.329\n"
     ]
    },
    {
     "name": "stderr",
     "output_type": "stream",
     "text": [
      "\n"
     ]
    },
    {
     "name": "stdout",
     "output_type": "stream",
     "text": [
      "\n",
      "      Epoch    GPU_mem   box_loss   cls_loss   dfl_loss  Instances       Size\n"
     ]
    },
    {
     "name": "stderr",
     "output_type": "stream",
     "text": [
      "      47/50      2.49G     0.9795      1.298      1.532          9        640: 100%|██████████| 10/10 [00:00<00:00, 12.83it/s]\n",
      "                 Class     Images  Instances      Box(P          R      mAP50  mAP50-95): 100%|██████████| 2/2 [00:00<00:00, 19.28it/s]"
     ]
    },
    {
     "name": "stdout",
     "output_type": "stream",
     "text": [
      "                   all         42         53      0.618      0.604      0.599      0.342\n"
     ]
    },
    {
     "name": "stderr",
     "output_type": "stream",
     "text": [
      "\n"
     ]
    },
    {
     "name": "stdout",
     "output_type": "stream",
     "text": [
      "\n",
      "      Epoch    GPU_mem   box_loss   cls_loss   dfl_loss  Instances       Size\n"
     ]
    },
    {
     "name": "stderr",
     "output_type": "stream",
     "text": [
      "      48/50      2.49G     0.9519      1.207      1.552          6        640: 100%|██████████| 10/10 [00:00<00:00, 12.69it/s]\n",
      "                 Class     Images  Instances      Box(P          R      mAP50  mAP50-95): 100%|██████████| 2/2 [00:00<00:00, 19.48it/s]"
     ]
    },
    {
     "name": "stdout",
     "output_type": "stream",
     "text": [
      "                   all         42         53      0.742      0.566      0.625      0.361\n"
     ]
    },
    {
     "name": "stderr",
     "output_type": "stream",
     "text": [
      "\n"
     ]
    },
    {
     "name": "stdout",
     "output_type": "stream",
     "text": [
      "\n",
      "      Epoch    GPU_mem   box_loss   cls_loss   dfl_loss  Instances       Size\n"
     ]
    },
    {
     "name": "stderr",
     "output_type": "stream",
     "text": [
      "      49/50      2.49G     0.9587      1.191      1.485          8        640: 100%|██████████| 10/10 [00:00<00:00, 12.83it/s]\n",
      "                 Class     Images  Instances      Box(P          R      mAP50  mAP50-95): 100%|██████████| 2/2 [00:00<00:00, 19.48it/s]"
     ]
    },
    {
     "name": "stdout",
     "output_type": "stream",
     "text": [
      "                   all         42         53      0.766      0.566       0.63      0.362\n"
     ]
    },
    {
     "name": "stderr",
     "output_type": "stream",
     "text": [
      "\n"
     ]
    },
    {
     "name": "stdout",
     "output_type": "stream",
     "text": [
      "\n",
      "      Epoch    GPU_mem   box_loss   cls_loss   dfl_loss  Instances       Size\n"
     ]
    },
    {
     "name": "stderr",
     "output_type": "stream",
     "text": [
      "      50/50      2.49G     0.9544      1.227      1.526          6        640: 100%|██████████| 10/10 [00:00<00:00, 12.70it/s]\n",
      "                 Class     Images  Instances      Box(P          R      mAP50  mAP50-95): 100%|██████████| 2/2 [00:00<00:00, 19.32it/s]"
     ]
    },
    {
     "name": "stdout",
     "output_type": "stream",
     "text": [
      "                   all         42         53      0.759      0.595       0.65      0.366\n"
     ]
    },
    {
     "name": "stderr",
     "output_type": "stream",
     "text": [
      "\n"
     ]
    },
    {
     "name": "stdout",
     "output_type": "stream",
     "text": [
      "\n",
      "50 epochs completed in 0.014 hours.\n",
      "Optimizer stripped from /home/ec06-g2/Downloads/2025-1B-T12-EC06-G02/runs/detect/train/weights/last.pt, 6.2MB\n",
      "Optimizer stripped from /home/ec06-g2/Downloads/2025-1B-T12-EC06-G02/runs/detect/train/weights/best.pt, 6.2MB\n",
      "\n",
      "Validating /home/ec06-g2/Downloads/2025-1B-T12-EC06-G02/runs/detect/train/weights/best.pt...\n",
      "Ultralytics 8.3.159 🚀 Python-3.12.3 torch-2.7.1+cu126 CUDA:0 (NVIDIA RTX A4000, 16094MiB)\n",
      "Model summary (fused): 72 layers, 3,005,843 parameters, 0 gradients, 8.1 GFLOPs\n"
     ]
    },
    {
     "name": "stderr",
     "output_type": "stream",
     "text": [
      "                 Class     Images  Instances      Box(P          R      mAP50  mAP50-95): 100%|██████████| 2/2 [00:00<00:00, 17.64it/s]\n"
     ]
    },
    {
     "name": "stdout",
     "output_type": "stream",
     "text": [
      "                   all         42         53      0.759      0.593       0.65      0.366\n",
      "Speed: 0.1ms preprocess, 1.0ms inference, 0.0ms loss, 0.4ms postprocess per image\n",
      "Results saved to \u001b[1m/home/ec06-g2/Downloads/2025-1B-T12-EC06-G02/runs/detect/train\u001b[0m\n"
     ]
    },
    {
     "data": {
      "text/plain": [
       "ultralytics.utils.metrics.DetMetrics object with attributes:\n",
       "\n",
       "ap_class_index: array([0])\n",
       "box: ultralytics.utils.metrics.Metric object\n",
       "confusion_matrix: <ultralytics.utils.metrics.ConfusionMatrix object at 0x74eaf664aa80>\n",
       "curves: ['Precision-Recall(B)', 'F1-Confidence(B)', 'Precision-Confidence(B)', 'Recall-Confidence(B)']\n",
       "curves_results: [[array([          0,    0.001001,    0.002002,    0.003003,    0.004004,    0.005005,    0.006006,    0.007007,    0.008008,    0.009009,     0.01001,    0.011011,    0.012012,    0.013013,    0.014014,    0.015015,    0.016016,    0.017017,    0.018018,    0.019019,     0.02002,    0.021021,    0.022022,    0.023023,\n",
       "          0.024024,    0.025025,    0.026026,    0.027027,    0.028028,    0.029029,     0.03003,    0.031031,    0.032032,    0.033033,    0.034034,    0.035035,    0.036036,    0.037037,    0.038038,    0.039039,     0.04004,    0.041041,    0.042042,    0.043043,    0.044044,    0.045045,    0.046046,    0.047047,\n",
       "          0.048048,    0.049049,     0.05005,    0.051051,    0.052052,    0.053053,    0.054054,    0.055055,    0.056056,    0.057057,    0.058058,    0.059059,     0.06006,    0.061061,    0.062062,    0.063063,    0.064064,    0.065065,    0.066066,    0.067067,    0.068068,    0.069069,     0.07007,    0.071071,\n",
       "          0.072072,    0.073073,    0.074074,    0.075075,    0.076076,    0.077077,    0.078078,    0.079079,     0.08008,    0.081081,    0.082082,    0.083083,    0.084084,    0.085085,    0.086086,    0.087087,    0.088088,    0.089089,     0.09009,    0.091091,    0.092092,    0.093093,    0.094094,    0.095095,\n",
       "          0.096096,    0.097097,    0.098098,    0.099099,      0.1001,      0.1011,      0.1021,      0.1031,      0.1041,     0.10511,     0.10611,     0.10711,     0.10811,     0.10911,     0.11011,     0.11111,     0.11211,     0.11311,     0.11411,     0.11512,     0.11612,     0.11712,     0.11812,     0.11912,\n",
       "           0.12012,     0.12112,     0.12212,     0.12312,     0.12412,     0.12513,     0.12613,     0.12713,     0.12813,     0.12913,     0.13013,     0.13113,     0.13213,     0.13313,     0.13413,     0.13514,     0.13614,     0.13714,     0.13814,     0.13914,     0.14014,     0.14114,     0.14214,     0.14314,\n",
       "           0.14414,     0.14515,     0.14615,     0.14715,     0.14815,     0.14915,     0.15015,     0.15115,     0.15215,     0.15315,     0.15415,     0.15516,     0.15616,     0.15716,     0.15816,     0.15916,     0.16016,     0.16116,     0.16216,     0.16316,     0.16416,     0.16517,     0.16617,     0.16717,\n",
       "           0.16817,     0.16917,     0.17017,     0.17117,     0.17217,     0.17317,     0.17417,     0.17518,     0.17618,     0.17718,     0.17818,     0.17918,     0.18018,     0.18118,     0.18218,     0.18318,     0.18418,     0.18519,     0.18619,     0.18719,     0.18819,     0.18919,     0.19019,     0.19119,\n",
       "           0.19219,     0.19319,     0.19419,      0.1952,      0.1962,      0.1972,      0.1982,      0.1992,      0.2002,      0.2012,      0.2022,      0.2032,      0.2042,     0.20521,     0.20621,     0.20721,     0.20821,     0.20921,     0.21021,     0.21121,     0.21221,     0.21321,     0.21421,     0.21522,\n",
       "           0.21622,     0.21722,     0.21822,     0.21922,     0.22022,     0.22122,     0.22222,     0.22322,     0.22422,     0.22523,     0.22623,     0.22723,     0.22823,     0.22923,     0.23023,     0.23123,     0.23223,     0.23323,     0.23423,     0.23524,     0.23624,     0.23724,     0.23824,     0.23924,\n",
       "           0.24024,     0.24124,     0.24224,     0.24324,     0.24424,     0.24525,     0.24625,     0.24725,     0.24825,     0.24925,     0.25025,     0.25125,     0.25225,     0.25325,     0.25425,     0.25526,     0.25626,     0.25726,     0.25826,     0.25926,     0.26026,     0.26126,     0.26226,     0.26326,\n",
       "           0.26426,     0.26527,     0.26627,     0.26727,     0.26827,     0.26927,     0.27027,     0.27127,     0.27227,     0.27327,     0.27427,     0.27528,     0.27628,     0.27728,     0.27828,     0.27928,     0.28028,     0.28128,     0.28228,     0.28328,     0.28428,     0.28529,     0.28629,     0.28729,\n",
       "           0.28829,     0.28929,     0.29029,     0.29129,     0.29229,     0.29329,     0.29429,      0.2953,      0.2963,      0.2973,      0.2983,      0.2993,      0.3003,      0.3013,      0.3023,      0.3033,      0.3043,     0.30531,     0.30631,     0.30731,     0.30831,     0.30931,     0.31031,     0.31131,\n",
       "           0.31231,     0.31331,     0.31431,     0.31532,     0.31632,     0.31732,     0.31832,     0.31932,     0.32032,     0.32132,     0.32232,     0.32332,     0.32432,     0.32533,     0.32633,     0.32733,     0.32833,     0.32933,     0.33033,     0.33133,     0.33233,     0.33333,     0.33433,     0.33534,\n",
       "           0.33634,     0.33734,     0.33834,     0.33934,     0.34034,     0.34134,     0.34234,     0.34334,     0.34434,     0.34535,     0.34635,     0.34735,     0.34835,     0.34935,     0.35035,     0.35135,     0.35235,     0.35335,     0.35435,     0.35536,     0.35636,     0.35736,     0.35836,     0.35936,\n",
       "           0.36036,     0.36136,     0.36236,     0.36336,     0.36436,     0.36537,     0.36637,     0.36737,     0.36837,     0.36937,     0.37037,     0.37137,     0.37237,     0.37337,     0.37437,     0.37538,     0.37638,     0.37738,     0.37838,     0.37938,     0.38038,     0.38138,     0.38238,     0.38338,\n",
       "           0.38438,     0.38539,     0.38639,     0.38739,     0.38839,     0.38939,     0.39039,     0.39139,     0.39239,     0.39339,     0.39439,      0.3954,      0.3964,      0.3974,      0.3984,      0.3994,      0.4004,      0.4014,      0.4024,      0.4034,      0.4044,     0.40541,     0.40641,     0.40741,\n",
       "           0.40841,     0.40941,     0.41041,     0.41141,     0.41241,     0.41341,     0.41441,     0.41542,     0.41642,     0.41742,     0.41842,     0.41942,     0.42042,     0.42142,     0.42242,     0.42342,     0.42442,     0.42543,     0.42643,     0.42743,     0.42843,     0.42943,     0.43043,     0.43143,\n",
       "           0.43243,     0.43343,     0.43443,     0.43544,     0.43644,     0.43744,     0.43844,     0.43944,     0.44044,     0.44144,     0.44244,     0.44344,     0.44444,     0.44545,     0.44645,     0.44745,     0.44845,     0.44945,     0.45045,     0.45145,     0.45245,     0.45345,     0.45445,     0.45546,\n",
       "           0.45646,     0.45746,     0.45846,     0.45946,     0.46046,     0.46146,     0.46246,     0.46346,     0.46446,     0.46547,     0.46647,     0.46747,     0.46847,     0.46947,     0.47047,     0.47147,     0.47247,     0.47347,     0.47447,     0.47548,     0.47648,     0.47748,     0.47848,     0.47948,\n",
       "           0.48048,     0.48148,     0.48248,     0.48348,     0.48448,     0.48549,     0.48649,     0.48749,     0.48849,     0.48949,     0.49049,     0.49149,     0.49249,     0.49349,     0.49449,      0.4955,      0.4965,      0.4975,      0.4985,      0.4995,      0.5005,      0.5015,      0.5025,      0.5035,\n",
       "            0.5045,     0.50551,     0.50651,     0.50751,     0.50851,     0.50951,     0.51051,     0.51151,     0.51251,     0.51351,     0.51451,     0.51552,     0.51652,     0.51752,     0.51852,     0.51952,     0.52052,     0.52152,     0.52252,     0.52352,     0.52452,     0.52553,     0.52653,     0.52753,\n",
       "           0.52853,     0.52953,     0.53053,     0.53153,     0.53253,     0.53353,     0.53453,     0.53554,     0.53654,     0.53754,     0.53854,     0.53954,     0.54054,     0.54154,     0.54254,     0.54354,     0.54454,     0.54555,     0.54655,     0.54755,     0.54855,     0.54955,     0.55055,     0.55155,\n",
       "           0.55255,     0.55355,     0.55455,     0.55556,     0.55656,     0.55756,     0.55856,     0.55956,     0.56056,     0.56156,     0.56256,     0.56356,     0.56456,     0.56557,     0.56657,     0.56757,     0.56857,     0.56957,     0.57057,     0.57157,     0.57257,     0.57357,     0.57457,     0.57558,\n",
       "           0.57658,     0.57758,     0.57858,     0.57958,     0.58058,     0.58158,     0.58258,     0.58358,     0.58458,     0.58559,     0.58659,     0.58759,     0.58859,     0.58959,     0.59059,     0.59159,     0.59259,     0.59359,     0.59459,      0.5956,      0.5966,      0.5976,      0.5986,      0.5996,\n",
       "            0.6006,      0.6016,      0.6026,      0.6036,      0.6046,     0.60561,     0.60661,     0.60761,     0.60861,     0.60961,     0.61061,     0.61161,     0.61261,     0.61361,     0.61461,     0.61562,     0.61662,     0.61762,     0.61862,     0.61962,     0.62062,     0.62162,     0.62262,     0.62362,\n",
       "           0.62462,     0.62563,     0.62663,     0.62763,     0.62863,     0.62963,     0.63063,     0.63163,     0.63263,     0.63363,     0.63463,     0.63564,     0.63664,     0.63764,     0.63864,     0.63964,     0.64064,     0.64164,     0.64264,     0.64364,     0.64464,     0.64565,     0.64665,     0.64765,\n",
       "           0.64865,     0.64965,     0.65065,     0.65165,     0.65265,     0.65365,     0.65465,     0.65566,     0.65666,     0.65766,     0.65866,     0.65966,     0.66066,     0.66166,     0.66266,     0.66366,     0.66466,     0.66567,     0.66667,     0.66767,     0.66867,     0.66967,     0.67067,     0.67167,\n",
       "           0.67267,     0.67367,     0.67467,     0.67568,     0.67668,     0.67768,     0.67868,     0.67968,     0.68068,     0.68168,     0.68268,     0.68368,     0.68468,     0.68569,     0.68669,     0.68769,     0.68869,     0.68969,     0.69069,     0.69169,     0.69269,     0.69369,     0.69469,      0.6957,\n",
       "            0.6967,      0.6977,      0.6987,      0.6997,      0.7007,      0.7017,      0.7027,      0.7037,      0.7047,     0.70571,     0.70671,     0.70771,     0.70871,     0.70971,     0.71071,     0.71171,     0.71271,     0.71371,     0.71471,     0.71572,     0.71672,     0.71772,     0.71872,     0.71972,\n",
       "           0.72072,     0.72172,     0.72272,     0.72372,     0.72472,     0.72573,     0.72673,     0.72773,     0.72873,     0.72973,     0.73073,     0.73173,     0.73273,     0.73373,     0.73473,     0.73574,     0.73674,     0.73774,     0.73874,     0.73974,     0.74074,     0.74174,     0.74274,     0.74374,\n",
       "           0.74474,     0.74575,     0.74675,     0.74775,     0.74875,     0.74975,     0.75075,     0.75175,     0.75275,     0.75375,     0.75475,     0.75576,     0.75676,     0.75776,     0.75876,     0.75976,     0.76076,     0.76176,     0.76276,     0.76376,     0.76476,     0.76577,     0.76677,     0.76777,\n",
       "           0.76877,     0.76977,     0.77077,     0.77177,     0.77277,     0.77377,     0.77477,     0.77578,     0.77678,     0.77778,     0.77878,     0.77978,     0.78078,     0.78178,     0.78278,     0.78378,     0.78478,     0.78579,     0.78679,     0.78779,     0.78879,     0.78979,     0.79079,     0.79179,\n",
       "           0.79279,     0.79379,     0.79479,      0.7958,      0.7968,      0.7978,      0.7988,      0.7998,      0.8008,      0.8018,      0.8028,      0.8038,      0.8048,     0.80581,     0.80681,     0.80781,     0.80881,     0.80981,     0.81081,     0.81181,     0.81281,     0.81381,     0.81481,     0.81582,\n",
       "           0.81682,     0.81782,     0.81882,     0.81982,     0.82082,     0.82182,     0.82282,     0.82382,     0.82482,     0.82583,     0.82683,     0.82783,     0.82883,     0.82983,     0.83083,     0.83183,     0.83283,     0.83383,     0.83483,     0.83584,     0.83684,     0.83784,     0.83884,     0.83984,\n",
       "           0.84084,     0.84184,     0.84284,     0.84384,     0.84484,     0.84585,     0.84685,     0.84785,     0.84885,     0.84985,     0.85085,     0.85185,     0.85285,     0.85385,     0.85485,     0.85586,     0.85686,     0.85786,     0.85886,     0.85986,     0.86086,     0.86186,     0.86286,     0.86386,\n",
       "           0.86486,     0.86587,     0.86687,     0.86787,     0.86887,     0.86987,     0.87087,     0.87187,     0.87287,     0.87387,     0.87487,     0.87588,     0.87688,     0.87788,     0.87888,     0.87988,     0.88088,     0.88188,     0.88288,     0.88388,     0.88488,     0.88589,     0.88689,     0.88789,\n",
       "           0.88889,     0.88989,     0.89089,     0.89189,     0.89289,     0.89389,     0.89489,      0.8959,      0.8969,      0.8979,      0.8989,      0.8999,      0.9009,      0.9019,      0.9029,      0.9039,      0.9049,     0.90591,     0.90691,     0.90791,     0.90891,     0.90991,     0.91091,     0.91191,\n",
       "           0.91291,     0.91391,     0.91491,     0.91592,     0.91692,     0.91792,     0.91892,     0.91992,     0.92092,     0.92192,     0.92292,     0.92392,     0.92492,     0.92593,     0.92693,     0.92793,     0.92893,     0.92993,     0.93093,     0.93193,     0.93293,     0.93393,     0.93493,     0.93594,\n",
       "           0.93694,     0.93794,     0.93894,     0.93994,     0.94094,     0.94194,     0.94294,     0.94394,     0.94494,     0.94595,     0.94695,     0.94795,     0.94895,     0.94995,     0.95095,     0.95195,     0.95295,     0.95395,     0.95495,     0.95596,     0.95696,     0.95796,     0.95896,     0.95996,\n",
       "           0.96096,     0.96196,     0.96296,     0.96396,     0.96496,     0.96597,     0.96697,     0.96797,     0.96897,     0.96997,     0.97097,     0.97197,     0.97297,     0.97397,     0.97497,     0.97598,     0.97698,     0.97798,     0.97898,     0.97998,     0.98098,     0.98198,     0.98298,     0.98398,\n",
       "           0.98498,     0.98599,     0.98699,     0.98799,     0.98899,     0.98999,     0.99099,     0.99199,     0.99299,     0.99399,     0.99499,       0.996,       0.997,       0.998,       0.999,           1]), array([[          1,           1,           1,           1,           1,           1,           1,           1,           1,           1,           1,           1,           1,           1,           1,           1,           1,           1,           1,           1,           1,           1,           1,\n",
       "                  1,           1,           1,           1,           1,           1,           1,           1,           1,           1,           1,           1,           1,           1,           1,           1,           1,           1,           1,           1,           1,           1,           1,\n",
       "                  1,           1,           1,           1,           1,           1,           1,           1,           1,           1,           1,           1,           1,           1,           1,           1,           1,           1,           1,           1,           1,           1,           1,\n",
       "                  1,           1,           1,           1,           1,           1,           1,           1,           1,           1,           1,           1,           1,           1,           1,           1,           1,           1,           1,           1,           1,           1,           1,\n",
       "                  1,           1,           1,           1,           1,           1,           1,           1,           1,           1,           1,           1,           1,           1,           1,           1,           1,           1,           1,           1,           1,           1,           1,\n",
       "                  1,           1,           1,           1,           1,           1,           1,           1,           1,           1,           1,           1,           1,           1,           1,           1,           1,     0.94444,     0.94444,     0.94444,     0.94444,     0.94444,     0.94444,\n",
       "            0.94444,     0.94444,     0.94444,     0.94444,     0.94444,     0.94444,     0.94444,     0.94444,     0.94444,     0.94444,     0.94444,     0.94444,     0.94444,     0.94444,     0.94444,     0.94444,     0.94444,     0.94444,     0.94444,     0.94444,     0.94444,     0.94444,     0.94444,\n",
       "            0.94444,     0.94444,     0.94444,     0.94444,     0.94444,     0.94444,     0.94444,     0.94444,     0.94444,     0.94444,     0.94444,     0.94444,     0.94444,     0.94444,     0.94444,     0.94444,     0.94444,     0.94444,     0.94444,     0.94444,     0.94444,     0.94444,     0.94444,\n",
       "            0.94444,     0.94444,     0.94444,     0.94444,     0.94444,     0.94444,     0.94444,     0.94444,     0.94444,     0.94444,     0.94444,     0.94444,     0.94444,     0.94444,     0.94444,     0.94444,     0.94444,     0.94444,     0.94444,     0.94444,     0.94444,     0.94444,     0.94444,\n",
       "            0.94444,     0.94444,     0.94444,     0.94444,     0.94444,     0.94444,     0.94444,     0.94444,     0.94444,     0.94444,     0.94444,     0.94444,     0.94444,     0.94444,     0.94444,     0.94444,     0.94444,     0.94444,     0.94444,     0.94444,     0.94444,     0.94444,     0.94444,\n",
       "            0.94444,     0.94444,     0.94444,     0.94444,     0.94444,     0.94444,     0.94444,     0.94444,     0.94444,     0.94444,     0.94444,     0.94444,     0.94444,     0.94444,     0.94444,     0.94444,     0.94444,     0.94444,     0.94444,     0.94444,     0.94444,     0.94444,     0.94444,\n",
       "            0.94444,     0.94444,     0.94444,     0.94444,     0.94444,     0.94444,     0.94444,     0.94444,     0.94444,     0.94444,     0.94444,     0.94444,     0.94444,     0.94444,     0.94444,     0.94444,     0.94444,     0.94444,     0.94444,     0.94444,     0.94444,     0.94444,     0.94444,\n",
       "            0.94444,     0.94444,     0.94444,     0.94444,     0.94444,     0.94444,     0.94444,     0.94444,     0.94444,     0.94444,     0.94444,     0.94444,     0.94444,     0.94444,     0.94444,     0.94444,     0.94444,     0.94444,     0.94444,     0.94444,     0.94444,     0.94444,     0.94444,\n",
       "            0.94444,     0.94444,     0.94444,     0.94444,     0.94444,     0.94444,     0.94444,     0.94444,     0.94444,     0.94444,     0.94444,     0.94444,     0.94444,     0.94444,     0.94444,     0.94444,     0.94444,     0.94444,     0.94444,     0.94444,     0.94444,     0.94444,     0.92857,\n",
       "            0.92857,     0.92857,     0.92857,     0.92857,     0.92857,     0.92857,     0.92857,     0.92857,     0.92857,     0.92857,     0.92857,     0.92857,     0.92857,     0.92857,     0.92857,     0.92857,     0.92857,     0.92857,     0.92857,     0.92857,     0.92857,     0.92857,     0.92857,\n",
       "            0.92857,     0.92857,     0.92857,     0.92857,     0.92857,     0.92857,     0.92857,     0.92857,     0.92857,     0.92857,     0.92857,     0.92857,     0.92857,     0.92857,     0.92857,     0.92857,     0.92857,     0.92857,     0.92857,     0.92857,     0.92857,     0.92857,     0.92857,\n",
       "            0.92857,     0.92857,     0.92857,     0.92857,     0.92857,     0.92857,     0.92857,     0.92857,     0.92857,     0.92857,     0.92857,     0.92857,     0.92857,     0.92857,     0.92857,     0.92857,     0.92857,     0.92857,     0.92857,     0.92857,     0.92857,     0.92857,     0.92857,\n",
       "            0.92857,     0.92857,     0.92857,     0.92857,     0.92857,     0.92857,     0.92857,     0.92857,     0.92857,     0.92857,     0.92857,     0.92857,     0.92857,     0.92857,     0.92857,     0.92857,     0.92857,     0.92857,     0.92857,     0.92857,     0.92857,     0.92857,     0.92857,\n",
       "            0.92857,     0.92857,     0.92857,     0.92857,     0.92857,     0.92857,     0.92857,     0.92857,     0.92857,     0.92857,     0.92857,     0.92857,     0.92857,     0.92857,     0.92857,     0.92857,     0.92857,     0.92857,     0.92857,     0.92857,     0.92857,     0.92857,     0.92857,\n",
       "            0.92857,     0.92857,     0.92857,     0.92857,     0.92857,     0.92857,     0.92857,     0.92857,     0.92857,     0.92857,     0.92857,     0.92857,     0.92857,     0.92857,     0.92857,     0.92857,     0.92857,     0.92857,     0.92857,     0.92857,     0.92857,     0.92857,     0.92857,\n",
       "            0.92857,     0.92857,     0.92857,     0.92857,     0.92857,     0.92857,     0.92857,     0.92857,     0.92857,     0.92857,     0.92857,     0.92857,     0.92857,     0.92857,     0.92857,     0.92857,     0.92857,     0.92857,     0.92857,     0.92857,     0.92857,     0.92857,     0.92857,\n",
       "            0.92857,     0.92857,     0.92857,     0.92857,     0.92857,     0.92857,     0.92857,     0.92857,     0.87097,     0.87097,     0.87097,     0.87097,     0.87097,     0.87097,     0.87097,     0.87097,     0.87097,     0.87097,     0.87097,     0.87097,     0.87097,     0.87097,     0.87097,\n",
       "            0.87097,     0.87097,     0.87097,     0.78947,     0.78947,     0.78947,     0.78947,     0.78947,     0.78947,     0.78947,     0.78947,     0.78947,     0.78947,     0.78947,     0.78947,     0.78947,     0.78947,     0.78947,     0.78947,     0.78947,     0.78947,     0.78947,     0.78947,\n",
       "            0.78947,     0.78947,     0.78947,     0.78947,     0.78947,     0.78947,     0.78947,     0.78947,     0.78947,     0.78947,     0.78947,     0.78947,     0.78947,     0.78947,     0.78947,     0.78947,     0.78947,     0.78947,     0.78947,     0.78947,     0.78947,     0.78947,     0.78947,\n",
       "            0.78947,     0.78947,     0.78947,     0.78947,     0.78947,     0.78947,     0.78947,     0.78947,     0.78947,     0.78947,     0.78947,     0.78947,     0.78947,     0.78947,       0.775,       0.775,       0.775,       0.775,       0.775,       0.775,       0.775,       0.775,       0.775,\n",
       "              0.775,       0.775,       0.775,       0.775,       0.775,       0.775,       0.775,       0.775,       0.775,       0.775,      0.7619,      0.7619,      0.7619,      0.7619,      0.7619,      0.7619,      0.7619,      0.7619,      0.7619,      0.7619,      0.7619,      0.7619,      0.7619,\n",
       "             0.7619,      0.7619,      0.7619,      0.7619,      0.7619,      0.7619,     0.73333,     0.73333,     0.73333,     0.73333,     0.73333,     0.73333,     0.73333,     0.73333,     0.73333,     0.73333,     0.73333,     0.73333,     0.73333,     0.73333,     0.73333,     0.73333,     0.73333,\n",
       "            0.73333,     0.73333,     0.67308,     0.67308,     0.67308,     0.67308,     0.67308,     0.67308,     0.67308,     0.67308,     0.67308,     0.67308,     0.67308,     0.67308,     0.67308,     0.67308,     0.67308,     0.67308,     0.67308,     0.67308,     0.67308,     0.67308,     0.67308,\n",
       "            0.67308,     0.67308,     0.67308,     0.67308,     0.67308,     0.67308,     0.67308,     0.67308,     0.67308,     0.67308,     0.67308,     0.67308,     0.67308,     0.67308,     0.67308,     0.67308,      0.5625,      0.5625,      0.5625,      0.5625,      0.5625,      0.5625,      0.5625,\n",
       "             0.5625,      0.5625,      0.5625,      0.5625,      0.5625,      0.5625,      0.5625,      0.5625,      0.5625,      0.5625,      0.5625,      0.5625,     0.54412,     0.54412,     0.54412,     0.54412,     0.54412,     0.54412,     0.54412,     0.54412,     0.54412,     0.54412,     0.54412,\n",
       "            0.54412,     0.54412,     0.54412,     0.54412,     0.54412,     0.54412,     0.54412,     0.54412,     0.38776,     0.38776,     0.38776,     0.38776,     0.38776,     0.38776,     0.38776,     0.38776,     0.38776,     0.38776,     0.38776,     0.38776,     0.38776,     0.38776,     0.38776,\n",
       "            0.38776,     0.38776,     0.38776,     0.38776,     0.22159,     0.22159,     0.22159,     0.22159,     0.22159,     0.22159,     0.22159,     0.22159,     0.22159,     0.22159,     0.22159,     0.22159,     0.22159,     0.22159,     0.22159,     0.22159,     0.22159,     0.22159,     0.22159,\n",
       "            0.17544,     0.17544,     0.17544,     0.17544,     0.17544,     0.17544,     0.17544,     0.17544,     0.17544,     0.17544,     0.17544,     0.17544,     0.17544,     0.17544,     0.17544,     0.17544,     0.17544,     0.17544,     0.15649,     0.15649,     0.15649,     0.15649,     0.15649,\n",
       "            0.15649,     0.15649,     0.15649,     0.15649,     0.15649,     0.15649,     0.15649,     0.15649,     0.15649,     0.15649,     0.15649,     0.15649,     0.15649,     0.15649,     0.15441,     0.15441,     0.15441,     0.15441,     0.15441,     0.15441,     0.15441,     0.15441,     0.15441,\n",
       "            0.15441,     0.15441,     0.15441,     0.15441,     0.15441,     0.15441,     0.15441,     0.15441,     0.15441,     0.15441,     0.10886,     0.10886,     0.10886,     0.10886,     0.10886,     0.10886,     0.10886,     0.10886,     0.10886,     0.10886,     0.10886,     0.10886,     0.10886,\n",
       "            0.10886,     0.10886,     0.10886,     0.10886,     0.10886,     0.10886,     0.09607,     0.09607,     0.09607,     0.09607,     0.09607,     0.09607,     0.09607,     0.09607,     0.09607,     0.09607,     0.09607,     0.09607,     0.09607,     0.09607,     0.09607,     0.09607,     0.09607,\n",
       "            0.09607,     0.09607,        0.09,        0.09,        0.09,        0.09,        0.09,        0.09,        0.09,        0.09,        0.09,        0.09,        0.09,        0.09,        0.09,        0.09,        0.09,        0.09,        0.09,        0.09,        0.09,    0.082585,    0.082585,\n",
       "           0.082585,    0.082585,    0.082585,    0.082585,    0.082585,    0.082585,    0.082585,    0.082585,    0.082585,    0.082585,    0.082585,    0.082585,    0.082585,    0.082585,    0.082585,    0.082585,    0.082585,    0.068017,    0.068017,    0.068017,    0.068017,    0.068017,    0.068017,\n",
       "           0.068017,    0.068017,    0.068017,    0.068017,    0.068017,    0.068017,    0.068017,    0.068017,    0.068017,    0.068017,    0.068017,    0.068017,    0.059186,    0.059186,    0.059186,    0.059186,    0.059186,    0.059186,    0.059186,    0.059186,    0.059186,    0.059186,    0.059186,\n",
       "           0.059186,    0.059186,    0.059186,    0.059186,    0.059186,    0.059186,    0.059186,    0.059186,    0.023234,    0.023234,    0.023234,    0.023234,    0.023234,    0.023234,    0.023234,    0.023234,    0.023234,    0.023234,    0.023234,    0.023234,    0.023234,    0.023234,    0.023234,\n",
       "           0.023234,    0.023234,    0.023234,    0.023234,    0.021739,    0.021739,    0.021739,    0.021739,    0.021739,    0.021739,    0.021739,    0.021739,    0.021739,    0.021739,    0.021739,    0.021739,    0.021739,    0.021739,    0.021739,    0.021739,    0.021739,    0.021739,    0.021739,\n",
       "          0.0068947,   0.0068947,   0.0068947,   0.0068947,   0.0068947,   0.0068947,   0.0068947,   0.0068947,   0.0068947,   0.0068947,   0.0068947,   0.0068947,   0.0068947,   0.0068947,   0.0068947,   0.0068947,   0.0068947,   0.0068947,   0.0068947,   0.0060528,   0.0060528,   0.0060528,   0.0060528,\n",
       "          0.0060528,   0.0060528,   0.0060528,   0.0060528,   0.0060528,   0.0060528,   0.0060528,   0.0060528,   0.0060528,   0.0060528,   0.0060528,   0.0060528,   0.0060528,   0.0060528,   0.0060528,   0.0053707,   0.0050723,    0.004774,   0.0044756,   0.0041772,   0.0038789,   0.0035805,   0.0032821,\n",
       "          0.0029837,   0.0026854,    0.002387,   0.0020886,   0.0017902,   0.0014919,   0.0011935,  0.00089512,  0.00059675,  0.00029837,           0]]), 'Recall', 'Precision'], [array([          0,    0.001001,    0.002002,    0.003003,    0.004004,    0.005005,    0.006006,    0.007007,    0.008008,    0.009009,     0.01001,    0.011011,    0.012012,    0.013013,    0.014014,    0.015015,    0.016016,    0.017017,    0.018018,    0.019019,     0.02002,    0.021021,    0.022022,    0.023023,\n",
       "          0.024024,    0.025025,    0.026026,    0.027027,    0.028028,    0.029029,     0.03003,    0.031031,    0.032032,    0.033033,    0.034034,    0.035035,    0.036036,    0.037037,    0.038038,    0.039039,     0.04004,    0.041041,    0.042042,    0.043043,    0.044044,    0.045045,    0.046046,    0.047047,\n",
       "          0.048048,    0.049049,     0.05005,    0.051051,    0.052052,    0.053053,    0.054054,    0.055055,    0.056056,    0.057057,    0.058058,    0.059059,     0.06006,    0.061061,    0.062062,    0.063063,    0.064064,    0.065065,    0.066066,    0.067067,    0.068068,    0.069069,     0.07007,    0.071071,\n",
       "          0.072072,    0.073073,    0.074074,    0.075075,    0.076076,    0.077077,    0.078078,    0.079079,     0.08008,    0.081081,    0.082082,    0.083083,    0.084084,    0.085085,    0.086086,    0.087087,    0.088088,    0.089089,     0.09009,    0.091091,    0.092092,    0.093093,    0.094094,    0.095095,\n",
       "          0.096096,    0.097097,    0.098098,    0.099099,      0.1001,      0.1011,      0.1021,      0.1031,      0.1041,     0.10511,     0.10611,     0.10711,     0.10811,     0.10911,     0.11011,     0.11111,     0.11211,     0.11311,     0.11411,     0.11512,     0.11612,     0.11712,     0.11812,     0.11912,\n",
       "           0.12012,     0.12112,     0.12212,     0.12312,     0.12412,     0.12513,     0.12613,     0.12713,     0.12813,     0.12913,     0.13013,     0.13113,     0.13213,     0.13313,     0.13413,     0.13514,     0.13614,     0.13714,     0.13814,     0.13914,     0.14014,     0.14114,     0.14214,     0.14314,\n",
       "           0.14414,     0.14515,     0.14615,     0.14715,     0.14815,     0.14915,     0.15015,     0.15115,     0.15215,     0.15315,     0.15415,     0.15516,     0.15616,     0.15716,     0.15816,     0.15916,     0.16016,     0.16116,     0.16216,     0.16316,     0.16416,     0.16517,     0.16617,     0.16717,\n",
       "           0.16817,     0.16917,     0.17017,     0.17117,     0.17217,     0.17317,     0.17417,     0.17518,     0.17618,     0.17718,     0.17818,     0.17918,     0.18018,     0.18118,     0.18218,     0.18318,     0.18418,     0.18519,     0.18619,     0.18719,     0.18819,     0.18919,     0.19019,     0.19119,\n",
       "           0.19219,     0.19319,     0.19419,      0.1952,      0.1962,      0.1972,      0.1982,      0.1992,      0.2002,      0.2012,      0.2022,      0.2032,      0.2042,     0.20521,     0.20621,     0.20721,     0.20821,     0.20921,     0.21021,     0.21121,     0.21221,     0.21321,     0.21421,     0.21522,\n",
       "           0.21622,     0.21722,     0.21822,     0.21922,     0.22022,     0.22122,     0.22222,     0.22322,     0.22422,     0.22523,     0.22623,     0.22723,     0.22823,     0.22923,     0.23023,     0.23123,     0.23223,     0.23323,     0.23423,     0.23524,     0.23624,     0.23724,     0.23824,     0.23924,\n",
       "           0.24024,     0.24124,     0.24224,     0.24324,     0.24424,     0.24525,     0.24625,     0.24725,     0.24825,     0.24925,     0.25025,     0.25125,     0.25225,     0.25325,     0.25425,     0.25526,     0.25626,     0.25726,     0.25826,     0.25926,     0.26026,     0.26126,     0.26226,     0.26326,\n",
       "           0.26426,     0.26527,     0.26627,     0.26727,     0.26827,     0.26927,     0.27027,     0.27127,     0.27227,     0.27327,     0.27427,     0.27528,     0.27628,     0.27728,     0.27828,     0.27928,     0.28028,     0.28128,     0.28228,     0.28328,     0.28428,     0.28529,     0.28629,     0.28729,\n",
       "           0.28829,     0.28929,     0.29029,     0.29129,     0.29229,     0.29329,     0.29429,      0.2953,      0.2963,      0.2973,      0.2983,      0.2993,      0.3003,      0.3013,      0.3023,      0.3033,      0.3043,     0.30531,     0.30631,     0.30731,     0.30831,     0.30931,     0.31031,     0.31131,\n",
       "           0.31231,     0.31331,     0.31431,     0.31532,     0.31632,     0.31732,     0.31832,     0.31932,     0.32032,     0.32132,     0.32232,     0.32332,     0.32432,     0.32533,     0.32633,     0.32733,     0.32833,     0.32933,     0.33033,     0.33133,     0.33233,     0.33333,     0.33433,     0.33534,\n",
       "           0.33634,     0.33734,     0.33834,     0.33934,     0.34034,     0.34134,     0.34234,     0.34334,     0.34434,     0.34535,     0.34635,     0.34735,     0.34835,     0.34935,     0.35035,     0.35135,     0.35235,     0.35335,     0.35435,     0.35536,     0.35636,     0.35736,     0.35836,     0.35936,\n",
       "           0.36036,     0.36136,     0.36236,     0.36336,     0.36436,     0.36537,     0.36637,     0.36737,     0.36837,     0.36937,     0.37037,     0.37137,     0.37237,     0.37337,     0.37437,     0.37538,     0.37638,     0.37738,     0.37838,     0.37938,     0.38038,     0.38138,     0.38238,     0.38338,\n",
       "           0.38438,     0.38539,     0.38639,     0.38739,     0.38839,     0.38939,     0.39039,     0.39139,     0.39239,     0.39339,     0.39439,      0.3954,      0.3964,      0.3974,      0.3984,      0.3994,      0.4004,      0.4014,      0.4024,      0.4034,      0.4044,     0.40541,     0.40641,     0.40741,\n",
       "           0.40841,     0.40941,     0.41041,     0.41141,     0.41241,     0.41341,     0.41441,     0.41542,     0.41642,     0.41742,     0.41842,     0.41942,     0.42042,     0.42142,     0.42242,     0.42342,     0.42442,     0.42543,     0.42643,     0.42743,     0.42843,     0.42943,     0.43043,     0.43143,\n",
       "           0.43243,     0.43343,     0.43443,     0.43544,     0.43644,     0.43744,     0.43844,     0.43944,     0.44044,     0.44144,     0.44244,     0.44344,     0.44444,     0.44545,     0.44645,     0.44745,     0.44845,     0.44945,     0.45045,     0.45145,     0.45245,     0.45345,     0.45445,     0.45546,\n",
       "           0.45646,     0.45746,     0.45846,     0.45946,     0.46046,     0.46146,     0.46246,     0.46346,     0.46446,     0.46547,     0.46647,     0.46747,     0.46847,     0.46947,     0.47047,     0.47147,     0.47247,     0.47347,     0.47447,     0.47548,     0.47648,     0.47748,     0.47848,     0.47948,\n",
       "           0.48048,     0.48148,     0.48248,     0.48348,     0.48448,     0.48549,     0.48649,     0.48749,     0.48849,     0.48949,     0.49049,     0.49149,     0.49249,     0.49349,     0.49449,      0.4955,      0.4965,      0.4975,      0.4985,      0.4995,      0.5005,      0.5015,      0.5025,      0.5035,\n",
       "            0.5045,     0.50551,     0.50651,     0.50751,     0.50851,     0.50951,     0.51051,     0.51151,     0.51251,     0.51351,     0.51451,     0.51552,     0.51652,     0.51752,     0.51852,     0.51952,     0.52052,     0.52152,     0.52252,     0.52352,     0.52452,     0.52553,     0.52653,     0.52753,\n",
       "           0.52853,     0.52953,     0.53053,     0.53153,     0.53253,     0.53353,     0.53453,     0.53554,     0.53654,     0.53754,     0.53854,     0.53954,     0.54054,     0.54154,     0.54254,     0.54354,     0.54454,     0.54555,     0.54655,     0.54755,     0.54855,     0.54955,     0.55055,     0.55155,\n",
       "           0.55255,     0.55355,     0.55455,     0.55556,     0.55656,     0.55756,     0.55856,     0.55956,     0.56056,     0.56156,     0.56256,     0.56356,     0.56456,     0.56557,     0.56657,     0.56757,     0.56857,     0.56957,     0.57057,     0.57157,     0.57257,     0.57357,     0.57457,     0.57558,\n",
       "           0.57658,     0.57758,     0.57858,     0.57958,     0.58058,     0.58158,     0.58258,     0.58358,     0.58458,     0.58559,     0.58659,     0.58759,     0.58859,     0.58959,     0.59059,     0.59159,     0.59259,     0.59359,     0.59459,      0.5956,      0.5966,      0.5976,      0.5986,      0.5996,\n",
       "            0.6006,      0.6016,      0.6026,      0.6036,      0.6046,     0.60561,     0.60661,     0.60761,     0.60861,     0.60961,     0.61061,     0.61161,     0.61261,     0.61361,     0.61461,     0.61562,     0.61662,     0.61762,     0.61862,     0.61962,     0.62062,     0.62162,     0.62262,     0.62362,\n",
       "           0.62462,     0.62563,     0.62663,     0.62763,     0.62863,     0.62963,     0.63063,     0.63163,     0.63263,     0.63363,     0.63463,     0.63564,     0.63664,     0.63764,     0.63864,     0.63964,     0.64064,     0.64164,     0.64264,     0.64364,     0.64464,     0.64565,     0.64665,     0.64765,\n",
       "           0.64865,     0.64965,     0.65065,     0.65165,     0.65265,     0.65365,     0.65465,     0.65566,     0.65666,     0.65766,     0.65866,     0.65966,     0.66066,     0.66166,     0.66266,     0.66366,     0.66466,     0.66567,     0.66667,     0.66767,     0.66867,     0.66967,     0.67067,     0.67167,\n",
       "           0.67267,     0.67367,     0.67467,     0.67568,     0.67668,     0.67768,     0.67868,     0.67968,     0.68068,     0.68168,     0.68268,     0.68368,     0.68468,     0.68569,     0.68669,     0.68769,     0.68869,     0.68969,     0.69069,     0.69169,     0.69269,     0.69369,     0.69469,      0.6957,\n",
       "            0.6967,      0.6977,      0.6987,      0.6997,      0.7007,      0.7017,      0.7027,      0.7037,      0.7047,     0.70571,     0.70671,     0.70771,     0.70871,     0.70971,     0.71071,     0.71171,     0.71271,     0.71371,     0.71471,     0.71572,     0.71672,     0.71772,     0.71872,     0.71972,\n",
       "           0.72072,     0.72172,     0.72272,     0.72372,     0.72472,     0.72573,     0.72673,     0.72773,     0.72873,     0.72973,     0.73073,     0.73173,     0.73273,     0.73373,     0.73473,     0.73574,     0.73674,     0.73774,     0.73874,     0.73974,     0.74074,     0.74174,     0.74274,     0.74374,\n",
       "           0.74474,     0.74575,     0.74675,     0.74775,     0.74875,     0.74975,     0.75075,     0.75175,     0.75275,     0.75375,     0.75475,     0.75576,     0.75676,     0.75776,     0.75876,     0.75976,     0.76076,     0.76176,     0.76276,     0.76376,     0.76476,     0.76577,     0.76677,     0.76777,\n",
       "           0.76877,     0.76977,     0.77077,     0.77177,     0.77277,     0.77377,     0.77477,     0.77578,     0.77678,     0.77778,     0.77878,     0.77978,     0.78078,     0.78178,     0.78278,     0.78378,     0.78478,     0.78579,     0.78679,     0.78779,     0.78879,     0.78979,     0.79079,     0.79179,\n",
       "           0.79279,     0.79379,     0.79479,      0.7958,      0.7968,      0.7978,      0.7988,      0.7998,      0.8008,      0.8018,      0.8028,      0.8038,      0.8048,     0.80581,     0.80681,     0.80781,     0.80881,     0.80981,     0.81081,     0.81181,     0.81281,     0.81381,     0.81481,     0.81582,\n",
       "           0.81682,     0.81782,     0.81882,     0.81982,     0.82082,     0.82182,     0.82282,     0.82382,     0.82482,     0.82583,     0.82683,     0.82783,     0.82883,     0.82983,     0.83083,     0.83183,     0.83283,     0.83383,     0.83483,     0.83584,     0.83684,     0.83784,     0.83884,     0.83984,\n",
       "           0.84084,     0.84184,     0.84284,     0.84384,     0.84484,     0.84585,     0.84685,     0.84785,     0.84885,     0.84985,     0.85085,     0.85185,     0.85285,     0.85385,     0.85485,     0.85586,     0.85686,     0.85786,     0.85886,     0.85986,     0.86086,     0.86186,     0.86286,     0.86386,\n",
       "           0.86486,     0.86587,     0.86687,     0.86787,     0.86887,     0.86987,     0.87087,     0.87187,     0.87287,     0.87387,     0.87487,     0.87588,     0.87688,     0.87788,     0.87888,     0.87988,     0.88088,     0.88188,     0.88288,     0.88388,     0.88488,     0.88589,     0.88689,     0.88789,\n",
       "           0.88889,     0.88989,     0.89089,     0.89189,     0.89289,     0.89389,     0.89489,      0.8959,      0.8969,      0.8979,      0.8989,      0.8999,      0.9009,      0.9019,      0.9029,      0.9039,      0.9049,     0.90591,     0.90691,     0.90791,     0.90891,     0.90991,     0.91091,     0.91191,\n",
       "           0.91291,     0.91391,     0.91491,     0.91592,     0.91692,     0.91792,     0.91892,     0.91992,     0.92092,     0.92192,     0.92292,     0.92392,     0.92492,     0.92593,     0.92693,     0.92793,     0.92893,     0.92993,     0.93093,     0.93193,     0.93293,     0.93393,     0.93493,     0.93594,\n",
       "           0.93694,     0.93794,     0.93894,     0.93994,     0.94094,     0.94194,     0.94294,     0.94394,     0.94494,     0.94595,     0.94695,     0.94795,     0.94895,     0.94995,     0.95095,     0.95195,     0.95295,     0.95395,     0.95495,     0.95596,     0.95696,     0.95796,     0.95896,     0.95996,\n",
       "           0.96096,     0.96196,     0.96296,     0.96396,     0.96496,     0.96597,     0.96697,     0.96797,     0.96897,     0.96997,     0.97097,     0.97197,     0.97297,     0.97397,     0.97497,     0.97598,     0.97698,     0.97798,     0.97898,     0.97998,     0.98098,     0.98198,     0.98298,     0.98398,\n",
       "           0.98498,     0.98599,     0.98699,     0.98799,     0.98899,     0.98999,     0.99099,     0.99199,     0.99299,     0.99399,     0.99499,       0.996,       0.997,       0.998,       0.999,           1]), array([[   0.011184,    0.011184,    0.014575,    0.029137,    0.046577,    0.067143,    0.087279,     0.10606,     0.12023,     0.13232,      0.1472,     0.15944,     0.16958,     0.17761,     0.18839,     0.20072,     0.21478,     0.22799,     0.23397,     0.24242,     0.25266,     0.25476,       0.256,\n",
       "            0.26679,     0.27107,     0.28361,     0.28311,     0.28741,     0.30022,     0.30582,     0.31549,      0.3235,     0.33007,     0.33916,      0.3336,     0.33538,     0.34108,     0.34902,     0.35439,     0.35903,     0.36723,     0.37506,     0.38252,     0.38668,      0.3877,     0.39851,\n",
       "            0.40717,     0.40949,     0.41084,     0.41305,      0.4146,     0.41598,     0.41723,     0.41901,     0.42259,     0.42405,     0.43018,     0.43275,     0.44376,      0.4494,     0.45279,     0.45381,     0.45483,     0.45643,     0.45808,     0.45919,      0.4603,     0.46337,      0.4663,\n",
       "            0.46923,     0.47175,     0.47429,     0.48125,     0.48334,     0.48974,     0.49378,     0.49468,     0.49558,     0.49647,     0.49741,     0.49837,     0.49933,      0.5016,     0.49471,     0.49675,      0.4995,     0.50718,     0.51097,     0.51555,     0.51907,     0.52113,     0.52323,\n",
       "            0.52514,     0.52648,     0.52781,     0.53015,     0.53256,     0.53304,     0.53352,       0.534,     0.53448,     0.53496,     0.53544,     0.53592,      0.5364,     0.53689,     0.53738,     0.53786,     0.53835,     0.53883,     0.53932,      0.5398,     0.54075,     0.54279,     0.54456,\n",
       "            0.54583,      0.5471,     0.54932,     0.55653,     0.55755,     0.55857,     0.55958,      0.5606,     0.56532,     0.56585,     0.56638,     0.56692,     0.56745,     0.56798,     0.56851,     0.56904,     0.57006,     0.57135,     0.57264,     0.57529,     0.58042,     0.58287,     0.58337,\n",
       "            0.58386,     0.58435,     0.58485,     0.58534,     0.58583,     0.58632,     0.58681,     0.58731,     0.58946,     0.59159,     0.59278,     0.59373,     0.59469,     0.59564,     0.59659,     0.59857,     0.60078,     0.60271,     0.60447,     0.60622,     0.60795,     0.60966,     0.61137,\n",
       "            0.60953,     0.60722,     0.60491,     0.60259,     0.60027,     0.60666,     0.60849,     0.61072,     0.61257,     0.60441,     0.60451,     0.60571,      0.6069,     0.60809,     0.60892,     0.60937,     0.60983,     0.61028,     0.61073,     0.61118,     0.61164,     0.61209,     0.61254,\n",
       "            0.61299,     0.61344,     0.61388,     0.61474,     0.61581,     0.61687,     0.61793,     0.61899,     0.62059,     0.62266,     0.62471,     0.62765,     0.63064,     0.63096,     0.63129,     0.63161,     0.63194,     0.63226,     0.63258,     0.63291,     0.63323,     0.63355,     0.63387,\n",
       "            0.63419,     0.63451,     0.63484,     0.63516,     0.63548,      0.6358,     0.63612,     0.63656,     0.63744,     0.63831,     0.63918,     0.64005,     0.64092,     0.64179,     0.64257,     0.64327,     0.64397,     0.64466,     0.64536,     0.64606,     0.64675,     0.64744,     0.64814,\n",
       "            0.64843,     0.64873,     0.64902,     0.64931,      0.6496,     0.64989,     0.65018,     0.65047,     0.65076,     0.65104,     0.65133,     0.65162,     0.65191,      0.6522,     0.65249,     0.65277,     0.65306,     0.65335,     0.65363,     0.65392,     0.65426,     0.66097,     0.66313,\n",
       "            0.66528,     0.66363,     0.65486,     0.65188,     0.64965,     0.64742,     0.64519,     0.64295,     0.64082,     0.64235,     0.64387,     0.64538,     0.64689,     0.64818,     0.64943,     0.65068,     0.65193,     0.65317,     0.65505,     0.65712,     0.65917,     0.66028,     0.66076,\n",
       "            0.66123,     0.66171,     0.66218,     0.66265,     0.66313,      0.6636,     0.66407,     0.66454,     0.66501,     0.66547,     0.66594,     0.66641,     0.66695,     0.66759,     0.66823,     0.66887,      0.6695,     0.67014,     0.67077,      0.6714,     0.67203,     0.67266,     0.67329,\n",
       "            0.67236,     0.67081,     0.66926,      0.6677,     0.66615,     0.66459,     0.66303,     0.66146,      0.6599,      0.6609,     0.66208,     0.66326,     0.66443,      0.6656,     0.66677,      0.6681,     0.66941,     0.67072,     0.67202,     0.67332,     0.67163,     0.66874,     0.66585,\n",
       "            0.66296,     0.66005,     0.65982,     0.66012,     0.66042,     0.66071,     0.66101,     0.66131,      0.6616,      0.6619,     0.66219,     0.66249,     0.66278,     0.66308,     0.66337,     0.66366,     0.66396,     0.66425,     0.66454,     0.66483,     0.66512,     0.66542,     0.66571,\n",
       "              0.666,     0.66629,     0.66658,     0.66631,     0.66578,     0.66526,     0.66474,     0.66421,     0.66369,     0.66317,     0.66264,     0.66212,     0.66159,     0.66107,     0.66054,     0.66002,     0.65949,     0.65897,     0.65844,     0.65791,     0.65739,     0.65686,     0.65633,\n",
       "            0.65581,     0.65528,     0.65475,     0.65422,     0.65369,     0.65316,     0.65263,     0.65222,     0.65257,     0.65292,     0.65327,     0.65362,     0.65397,     0.65432,     0.65466,     0.65501,     0.65536,      0.6557,     0.65605,     0.65639,     0.65674,     0.65708,     0.65743,\n",
       "            0.65777,     0.65811,     0.65845,      0.6588,     0.65914,     0.65886,     0.65764,     0.65643,     0.65521,     0.65399,     0.65277,     0.65155,     0.65033,      0.6491,     0.64788,     0.64665,     0.64542,     0.64365,     0.63977,     0.63587,     0.63195,     0.62747,     0.62168,\n",
       "            0.61586,      0.6159,     0.61951,     0.62078,     0.62091,     0.62105,     0.62118,     0.62131,     0.62145,     0.62158,     0.62171,     0.62185,     0.62198,     0.62211,     0.62225,     0.62238,     0.62251,     0.62264,     0.62278,     0.62291,     0.62304,     0.62317,     0.62331,\n",
       "            0.62344,     0.62357,      0.6237,     0.62383,     0.62397,      0.6241,     0.62423,     0.62436,     0.62449,     0.62462,     0.62476,     0.62489,     0.62502,     0.62515,     0.62528,     0.62541,     0.62554,     0.62567,      0.6258,     0.62593,     0.62606,     0.62619,     0.62632,\n",
       "            0.62645,     0.62658,     0.62671,     0.62684,     0.62697,      0.6271,     0.62723,     0.62736,     0.62749,     0.62762,     0.62775,     0.62788,     0.62825,     0.62867,      0.6291,     0.62953,     0.62995,     0.63037,      0.6308,     0.63122,     0.63164,     0.63206,     0.63248,\n",
       "             0.6329,     0.63332,     0.63373,     0.63415,     0.63456,     0.63498,     0.63712,     0.64267,     0.64195,     0.64123,      0.6405,     0.63978,     0.63906,     0.63833,      0.6376,     0.63688,     0.63615,     0.63542,     0.63469,     0.63397,     0.63324,     0.63251,     0.63177,\n",
       "            0.63104,     0.63031,     0.62958,     0.62884,     0.62811,     0.62738,     0.62664,     0.62781,     0.62939,     0.63096,     0.63251,     0.63405,     0.63453,     0.63494,     0.63535,     0.63576,     0.63616,     0.63657,     0.63697,     0.63738,     0.63778,     0.63818,     0.63858,\n",
       "            0.63898,     0.63938,     0.63978,     0.64017,     0.64057,     0.64096,     0.64136,     0.64175,     0.64173,     0.64114,     0.64056,     0.63997,     0.63939,      0.6388,     0.63822,     0.63763,     0.63704,     0.63646,     0.63587,     0.63528,     0.63469,      0.6341,     0.63351,\n",
       "            0.63292,     0.63233,     0.63174,     0.63115,     0.63056,     0.62997,     0.62937,     0.62878,     0.62819,     0.62759,       0.627,      0.6264,     0.62581,     0.62521,     0.62451,     0.62376,     0.62301,     0.62226,      0.6215,     0.62075,     0.61999,     0.61924,     0.61848,\n",
       "            0.61772,     0.61696,     0.61621,     0.61545,     0.61469,     0.61392,     0.61316,      0.6124,     0.61164,     0.61087,     0.61011,     0.60934,     0.60858,     0.60781,     0.60622,     0.60431,     0.60239,     0.60048,     0.59855,     0.59662,     0.59469,     0.59275,     0.59081,\n",
       "            0.58912,     0.58774,     0.58636,     0.58498,      0.5836,     0.58221,     0.58082,     0.57943,     0.57804,     0.57664,     0.57524,     0.57384,     0.57244,     0.57124,     0.57059,     0.56993,     0.56927,     0.56861,     0.56795,     0.56729,     0.56663,     0.56597,     0.56531,\n",
       "            0.56465,     0.56398,     0.56332,     0.56266,     0.56199,     0.56133,     0.56066,        0.56,     0.55933,     0.55866,       0.558,     0.55733,     0.55666,     0.55599,     0.55532,     0.55465,     0.55398,     0.55331,     0.55264,     0.55101,     0.54938,     0.54774,      0.5461,\n",
       "            0.54446,     0.54281,     0.54116,     0.53951,     0.53785,     0.53619,     0.53453,     0.53314,     0.53246,     0.53178,     0.53109,     0.53041,     0.52973,     0.52905,     0.52836,     0.52768,     0.52699,      0.5263,     0.52562,     0.52493,     0.52424,     0.52355,     0.52287,\n",
       "            0.52218,     0.52149,      0.5208,      0.5201,     0.51941,     0.51872,     0.51803,     0.51733,     0.51664,     0.51595,     0.51525,     0.51456,     0.51386,     0.51333,     0.51297,     0.51261,     0.51226,      0.5119,     0.51154,     0.51118,     0.51082,     0.51046,      0.5101,\n",
       "            0.50974,     0.50938,     0.50902,     0.50866,     0.50829,     0.50793,     0.50757,     0.50721,     0.50685,     0.50649,     0.50613,     0.50576,      0.5054,     0.50504,     0.50468,     0.50432,     0.50395,     0.50359,     0.50323,     0.50286,      0.5025,     0.50214,     0.50177,\n",
       "            0.50141,     0.50105,     0.50068,     0.50032,     0.49995,     0.49959,     0.49922,     0.49886,     0.49849,     0.49813,     0.49776,      0.4974,     0.49703,     0.49667,      0.4963,     0.49593,     0.49557,      0.4952,     0.49484,     0.49447,      0.4941,     0.49374,     0.49337,\n",
       "              0.493,     0.49264,     0.49228,     0.49193,     0.49157,     0.49121,     0.49085,     0.49048,     0.49012,     0.48976,      0.4894,     0.48904,     0.48868,     0.48832,     0.48796,      0.4876,     0.48724,     0.48687,     0.48651,     0.48615,     0.48579,     0.48542,     0.48506,\n",
       "             0.4847,     0.48434,     0.48397,     0.48361,     0.48325,     0.48288,     0.48252,     0.48216,     0.48179,     0.48143,     0.48106,      0.4807,     0.48034,     0.47997,     0.47961,     0.47924,     0.47888,     0.47851,     0.47815,     0.47778,     0.47741,     0.47705,     0.47668,\n",
       "            0.47632,     0.47595,     0.47558,     0.47522,     0.47485,     0.47448,     0.47412,     0.47375,     0.47338,     0.47301,     0.47265,     0.47228,     0.47302,     0.47395,     0.47488,     0.47579,     0.47669,     0.47758,     0.47846,     0.47497,     0.46757,     0.46011,     0.45676,\n",
       "            0.45612,     0.45548,     0.45484,      0.4542,     0.45356,     0.45292,     0.45228,     0.45164,       0.451,     0.45036,     0.44972,     0.44907,     0.44843,     0.44779,     0.44714,      0.4465,     0.44585,      0.4452,     0.44456,     0.44391,     0.44326,     0.44262,     0.44197,\n",
       "            0.44132,     0.44067,     0.44002,     0.43937,     0.43872,     0.43807,     0.43741,     0.43676,     0.43611,     0.43546,      0.4348,     0.38825,     0.38516,     0.38224,     0.37931,     0.37637,     0.37343,     0.37047,      0.3675,     0.36452,     0.35965,     0.35395,     0.34822,\n",
       "            0.34244,     0.33793,     0.33623,     0.33454,     0.33283,     0.33113,     0.32942,     0.32771,       0.326,     0.32428,     0.32256,     0.32083,     0.31911,     0.31738,     0.31564,     0.31391,     0.30903,     0.29074,     0.28436,     0.28249,     0.28062,     0.27874,     0.27686,\n",
       "            0.27498,      0.2731,     0.27121,     0.26932,     0.26742,     0.26552,     0.26362,     0.26171,      0.2598,     0.25533,     0.22958,     0.23015,     0.23071,     0.23125,     0.23177,     0.23228,     0.23277,     0.23324,     0.22794,     0.22116,     0.21434,     0.20746,     0.20081,\n",
       "            0.19453,      0.1882,     0.18183,     0.17542,     0.16084,     0.13988,     0.13316,      0.1264,     0.11958,     0.11272,     0.10671,     0.10447,     0.10223,    0.099979,    0.097724,    0.095464,    0.093198,    0.090927,    0.088651,    0.086369,    0.084081,    0.081788,     0.07949,\n",
       "           0.077186,    0.074877,    0.071995,     0.06167,    0.051234,    0.040685,           0,           0,           0,           0,           0,           0,           0,           0,           0,           0,           0,           0,           0,           0,           0,           0,           0,\n",
       "                  0,           0,           0,           0,           0,           0,           0,           0,           0,           0,           0,           0,           0,           0,           0,           0,           0,           0,           0,           0,           0,           0,           0,\n",
       "                  0,           0,           0,           0,           0,           0,           0,           0,           0,           0,           0,           0,           0,           0,           0,           0,           0,           0,           0,           0,           0,           0,           0,\n",
       "                  0,           0,           0,           0,           0,           0,           0,           0,           0,           0,           0]]), 'Confidence', 'F1'], [array([          0,    0.001001,    0.002002,    0.003003,    0.004004,    0.005005,    0.006006,    0.007007,    0.008008,    0.009009,     0.01001,    0.011011,    0.012012,    0.013013,    0.014014,    0.015015,    0.016016,    0.017017,    0.018018,    0.019019,     0.02002,    0.021021,    0.022022,    0.023023,\n",
       "          0.024024,    0.025025,    0.026026,    0.027027,    0.028028,    0.029029,     0.03003,    0.031031,    0.032032,    0.033033,    0.034034,    0.035035,    0.036036,    0.037037,    0.038038,    0.039039,     0.04004,    0.041041,    0.042042,    0.043043,    0.044044,    0.045045,    0.046046,    0.047047,\n",
       "          0.048048,    0.049049,     0.05005,    0.051051,    0.052052,    0.053053,    0.054054,    0.055055,    0.056056,    0.057057,    0.058058,    0.059059,     0.06006,    0.061061,    0.062062,    0.063063,    0.064064,    0.065065,    0.066066,    0.067067,    0.068068,    0.069069,     0.07007,    0.071071,\n",
       "          0.072072,    0.073073,    0.074074,    0.075075,    0.076076,    0.077077,    0.078078,    0.079079,     0.08008,    0.081081,    0.082082,    0.083083,    0.084084,    0.085085,    0.086086,    0.087087,    0.088088,    0.089089,     0.09009,    0.091091,    0.092092,    0.093093,    0.094094,    0.095095,\n",
       "          0.096096,    0.097097,    0.098098,    0.099099,      0.1001,      0.1011,      0.1021,      0.1031,      0.1041,     0.10511,     0.10611,     0.10711,     0.10811,     0.10911,     0.11011,     0.11111,     0.11211,     0.11311,     0.11411,     0.11512,     0.11612,     0.11712,     0.11812,     0.11912,\n",
       "           0.12012,     0.12112,     0.12212,     0.12312,     0.12412,     0.12513,     0.12613,     0.12713,     0.12813,     0.12913,     0.13013,     0.13113,     0.13213,     0.13313,     0.13413,     0.13514,     0.13614,     0.13714,     0.13814,     0.13914,     0.14014,     0.14114,     0.14214,     0.14314,\n",
       "           0.14414,     0.14515,     0.14615,     0.14715,     0.14815,     0.14915,     0.15015,     0.15115,     0.15215,     0.15315,     0.15415,     0.15516,     0.15616,     0.15716,     0.15816,     0.15916,     0.16016,     0.16116,     0.16216,     0.16316,     0.16416,     0.16517,     0.16617,     0.16717,\n",
       "           0.16817,     0.16917,     0.17017,     0.17117,     0.17217,     0.17317,     0.17417,     0.17518,     0.17618,     0.17718,     0.17818,     0.17918,     0.18018,     0.18118,     0.18218,     0.18318,     0.18418,     0.18519,     0.18619,     0.18719,     0.18819,     0.18919,     0.19019,     0.19119,\n",
       "           0.19219,     0.19319,     0.19419,      0.1952,      0.1962,      0.1972,      0.1982,      0.1992,      0.2002,      0.2012,      0.2022,      0.2032,      0.2042,     0.20521,     0.20621,     0.20721,     0.20821,     0.20921,     0.21021,     0.21121,     0.21221,     0.21321,     0.21421,     0.21522,\n",
       "           0.21622,     0.21722,     0.21822,     0.21922,     0.22022,     0.22122,     0.22222,     0.22322,     0.22422,     0.22523,     0.22623,     0.22723,     0.22823,     0.22923,     0.23023,     0.23123,     0.23223,     0.23323,     0.23423,     0.23524,     0.23624,     0.23724,     0.23824,     0.23924,\n",
       "           0.24024,     0.24124,     0.24224,     0.24324,     0.24424,     0.24525,     0.24625,     0.24725,     0.24825,     0.24925,     0.25025,     0.25125,     0.25225,     0.25325,     0.25425,     0.25526,     0.25626,     0.25726,     0.25826,     0.25926,     0.26026,     0.26126,     0.26226,     0.26326,\n",
       "           0.26426,     0.26527,     0.26627,     0.26727,     0.26827,     0.26927,     0.27027,     0.27127,     0.27227,     0.27327,     0.27427,     0.27528,     0.27628,     0.27728,     0.27828,     0.27928,     0.28028,     0.28128,     0.28228,     0.28328,     0.28428,     0.28529,     0.28629,     0.28729,\n",
       "           0.28829,     0.28929,     0.29029,     0.29129,     0.29229,     0.29329,     0.29429,      0.2953,      0.2963,      0.2973,      0.2983,      0.2993,      0.3003,      0.3013,      0.3023,      0.3033,      0.3043,     0.30531,     0.30631,     0.30731,     0.30831,     0.30931,     0.31031,     0.31131,\n",
       "           0.31231,     0.31331,     0.31431,     0.31532,     0.31632,     0.31732,     0.31832,     0.31932,     0.32032,     0.32132,     0.32232,     0.32332,     0.32432,     0.32533,     0.32633,     0.32733,     0.32833,     0.32933,     0.33033,     0.33133,     0.33233,     0.33333,     0.33433,     0.33534,\n",
       "           0.33634,     0.33734,     0.33834,     0.33934,     0.34034,     0.34134,     0.34234,     0.34334,     0.34434,     0.34535,     0.34635,     0.34735,     0.34835,     0.34935,     0.35035,     0.35135,     0.35235,     0.35335,     0.35435,     0.35536,     0.35636,     0.35736,     0.35836,     0.35936,\n",
       "           0.36036,     0.36136,     0.36236,     0.36336,     0.36436,     0.36537,     0.36637,     0.36737,     0.36837,     0.36937,     0.37037,     0.37137,     0.37237,     0.37337,     0.37437,     0.37538,     0.37638,     0.37738,     0.37838,     0.37938,     0.38038,     0.38138,     0.38238,     0.38338,\n",
       "           0.38438,     0.38539,     0.38639,     0.38739,     0.38839,     0.38939,     0.39039,     0.39139,     0.39239,     0.39339,     0.39439,      0.3954,      0.3964,      0.3974,      0.3984,      0.3994,      0.4004,      0.4014,      0.4024,      0.4034,      0.4044,     0.40541,     0.40641,     0.40741,\n",
       "           0.40841,     0.40941,     0.41041,     0.41141,     0.41241,     0.41341,     0.41441,     0.41542,     0.41642,     0.41742,     0.41842,     0.41942,     0.42042,     0.42142,     0.42242,     0.42342,     0.42442,     0.42543,     0.42643,     0.42743,     0.42843,     0.42943,     0.43043,     0.43143,\n",
       "           0.43243,     0.43343,     0.43443,     0.43544,     0.43644,     0.43744,     0.43844,     0.43944,     0.44044,     0.44144,     0.44244,     0.44344,     0.44444,     0.44545,     0.44645,     0.44745,     0.44845,     0.44945,     0.45045,     0.45145,     0.45245,     0.45345,     0.45445,     0.45546,\n",
       "           0.45646,     0.45746,     0.45846,     0.45946,     0.46046,     0.46146,     0.46246,     0.46346,     0.46446,     0.46547,     0.46647,     0.46747,     0.46847,     0.46947,     0.47047,     0.47147,     0.47247,     0.47347,     0.47447,     0.47548,     0.47648,     0.47748,     0.47848,     0.47948,\n",
       "           0.48048,     0.48148,     0.48248,     0.48348,     0.48448,     0.48549,     0.48649,     0.48749,     0.48849,     0.48949,     0.49049,     0.49149,     0.49249,     0.49349,     0.49449,      0.4955,      0.4965,      0.4975,      0.4985,      0.4995,      0.5005,      0.5015,      0.5025,      0.5035,\n",
       "            0.5045,     0.50551,     0.50651,     0.50751,     0.50851,     0.50951,     0.51051,     0.51151,     0.51251,     0.51351,     0.51451,     0.51552,     0.51652,     0.51752,     0.51852,     0.51952,     0.52052,     0.52152,     0.52252,     0.52352,     0.52452,     0.52553,     0.52653,     0.52753,\n",
       "           0.52853,     0.52953,     0.53053,     0.53153,     0.53253,     0.53353,     0.53453,     0.53554,     0.53654,     0.53754,     0.53854,     0.53954,     0.54054,     0.54154,     0.54254,     0.54354,     0.54454,     0.54555,     0.54655,     0.54755,     0.54855,     0.54955,     0.55055,     0.55155,\n",
       "           0.55255,     0.55355,     0.55455,     0.55556,     0.55656,     0.55756,     0.55856,     0.55956,     0.56056,     0.56156,     0.56256,     0.56356,     0.56456,     0.56557,     0.56657,     0.56757,     0.56857,     0.56957,     0.57057,     0.57157,     0.57257,     0.57357,     0.57457,     0.57558,\n",
       "           0.57658,     0.57758,     0.57858,     0.57958,     0.58058,     0.58158,     0.58258,     0.58358,     0.58458,     0.58559,     0.58659,     0.58759,     0.58859,     0.58959,     0.59059,     0.59159,     0.59259,     0.59359,     0.59459,      0.5956,      0.5966,      0.5976,      0.5986,      0.5996,\n",
       "            0.6006,      0.6016,      0.6026,      0.6036,      0.6046,     0.60561,     0.60661,     0.60761,     0.60861,     0.60961,     0.61061,     0.61161,     0.61261,     0.61361,     0.61461,     0.61562,     0.61662,     0.61762,     0.61862,     0.61962,     0.62062,     0.62162,     0.62262,     0.62362,\n",
       "           0.62462,     0.62563,     0.62663,     0.62763,     0.62863,     0.62963,     0.63063,     0.63163,     0.63263,     0.63363,     0.63463,     0.63564,     0.63664,     0.63764,     0.63864,     0.63964,     0.64064,     0.64164,     0.64264,     0.64364,     0.64464,     0.64565,     0.64665,     0.64765,\n",
       "           0.64865,     0.64965,     0.65065,     0.65165,     0.65265,     0.65365,     0.65465,     0.65566,     0.65666,     0.65766,     0.65866,     0.65966,     0.66066,     0.66166,     0.66266,     0.66366,     0.66466,     0.66567,     0.66667,     0.66767,     0.66867,     0.66967,     0.67067,     0.67167,\n",
       "           0.67267,     0.67367,     0.67467,     0.67568,     0.67668,     0.67768,     0.67868,     0.67968,     0.68068,     0.68168,     0.68268,     0.68368,     0.68468,     0.68569,     0.68669,     0.68769,     0.68869,     0.68969,     0.69069,     0.69169,     0.69269,     0.69369,     0.69469,      0.6957,\n",
       "            0.6967,      0.6977,      0.6987,      0.6997,      0.7007,      0.7017,      0.7027,      0.7037,      0.7047,     0.70571,     0.70671,     0.70771,     0.70871,     0.70971,     0.71071,     0.71171,     0.71271,     0.71371,     0.71471,     0.71572,     0.71672,     0.71772,     0.71872,     0.71972,\n",
       "           0.72072,     0.72172,     0.72272,     0.72372,     0.72472,     0.72573,     0.72673,     0.72773,     0.72873,     0.72973,     0.73073,     0.73173,     0.73273,     0.73373,     0.73473,     0.73574,     0.73674,     0.73774,     0.73874,     0.73974,     0.74074,     0.74174,     0.74274,     0.74374,\n",
       "           0.74474,     0.74575,     0.74675,     0.74775,     0.74875,     0.74975,     0.75075,     0.75175,     0.75275,     0.75375,     0.75475,     0.75576,     0.75676,     0.75776,     0.75876,     0.75976,     0.76076,     0.76176,     0.76276,     0.76376,     0.76476,     0.76577,     0.76677,     0.76777,\n",
       "           0.76877,     0.76977,     0.77077,     0.77177,     0.77277,     0.77377,     0.77477,     0.77578,     0.77678,     0.77778,     0.77878,     0.77978,     0.78078,     0.78178,     0.78278,     0.78378,     0.78478,     0.78579,     0.78679,     0.78779,     0.78879,     0.78979,     0.79079,     0.79179,\n",
       "           0.79279,     0.79379,     0.79479,      0.7958,      0.7968,      0.7978,      0.7988,      0.7998,      0.8008,      0.8018,      0.8028,      0.8038,      0.8048,     0.80581,     0.80681,     0.80781,     0.80881,     0.80981,     0.81081,     0.81181,     0.81281,     0.81381,     0.81481,     0.81582,\n",
       "           0.81682,     0.81782,     0.81882,     0.81982,     0.82082,     0.82182,     0.82282,     0.82382,     0.82482,     0.82583,     0.82683,     0.82783,     0.82883,     0.82983,     0.83083,     0.83183,     0.83283,     0.83383,     0.83483,     0.83584,     0.83684,     0.83784,     0.83884,     0.83984,\n",
       "           0.84084,     0.84184,     0.84284,     0.84384,     0.84484,     0.84585,     0.84685,     0.84785,     0.84885,     0.84985,     0.85085,     0.85185,     0.85285,     0.85385,     0.85485,     0.85586,     0.85686,     0.85786,     0.85886,     0.85986,     0.86086,     0.86186,     0.86286,     0.86386,\n",
       "           0.86486,     0.86587,     0.86687,     0.86787,     0.86887,     0.86987,     0.87087,     0.87187,     0.87287,     0.87387,     0.87487,     0.87588,     0.87688,     0.87788,     0.87888,     0.87988,     0.88088,     0.88188,     0.88288,     0.88388,     0.88488,     0.88589,     0.88689,     0.88789,\n",
       "           0.88889,     0.88989,     0.89089,     0.89189,     0.89289,     0.89389,     0.89489,      0.8959,      0.8969,      0.8979,      0.8989,      0.8999,      0.9009,      0.9019,      0.9029,      0.9039,      0.9049,     0.90591,     0.90691,     0.90791,     0.90891,     0.90991,     0.91091,     0.91191,\n",
       "           0.91291,     0.91391,     0.91491,     0.91592,     0.91692,     0.91792,     0.91892,     0.91992,     0.92092,     0.92192,     0.92292,     0.92392,     0.92492,     0.92593,     0.92693,     0.92793,     0.92893,     0.92993,     0.93093,     0.93193,     0.93293,     0.93393,     0.93493,     0.93594,\n",
       "           0.93694,     0.93794,     0.93894,     0.93994,     0.94094,     0.94194,     0.94294,     0.94394,     0.94494,     0.94595,     0.94695,     0.94795,     0.94895,     0.94995,     0.95095,     0.95195,     0.95295,     0.95395,     0.95495,     0.95596,     0.95696,     0.95796,     0.95896,     0.95996,\n",
       "           0.96096,     0.96196,     0.96296,     0.96396,     0.96496,     0.96597,     0.96697,     0.96797,     0.96897,     0.96997,     0.97097,     0.97197,     0.97297,     0.97397,     0.97497,     0.97598,     0.97698,     0.97798,     0.97898,     0.97998,     0.98098,     0.98198,     0.98298,     0.98398,\n",
       "           0.98498,     0.98599,     0.98699,     0.98799,     0.98899,     0.98999,     0.99099,     0.99199,     0.99299,     0.99399,     0.99499,       0.996,       0.997,       0.998,       0.999,           1]), array([[  0.0056241,   0.0056241,   0.0073442,    0.014797,    0.023903,    0.034864,    0.045848,    0.056327,    0.064486,    0.071618,     0.08042,    0.087983,    0.094435,    0.099723,      0.1069,     0.11491,     0.12423,     0.13315,     0.13724,     0.14309,     0.15029,     0.15249,     0.15397,\n",
       "            0.16204,      0.1652,     0.17462,     0.17527,     0.17858,     0.18858,     0.19302,     0.20079,     0.20732,     0.21275,     0.22037,     0.21737,     0.21888,     0.22376,     0.23065,     0.23536,     0.23948,     0.24683,     0.25396,     0.26084,     0.26472,     0.26568,     0.27594,\n",
       "            0.28431,     0.28658,     0.28791,     0.29009,     0.29161,     0.29298,     0.29422,     0.29599,     0.29958,     0.30105,     0.30727,      0.3099,     0.32132,     0.32726,     0.33087,     0.33196,     0.33306,     0.33478,     0.33655,     0.33775,     0.33895,      0.3423,      0.3455,\n",
       "            0.34873,     0.35152,     0.35435,     0.36217,     0.36455,     0.37188,     0.37656,      0.3776,     0.37865,      0.3797,      0.3808,     0.38192,     0.38305,     0.38573,      0.3831,     0.38555,     0.38887,     0.39826,     0.40296,     0.40868,     0.41312,     0.41574,     0.41841,\n",
       "            0.42086,     0.42258,      0.4243,     0.42733,     0.43048,     0.43111,     0.43174,     0.43237,     0.43299,     0.43362,     0.43425,     0.43488,     0.43552,     0.43616,      0.4368,     0.43745,     0.43809,     0.43873,     0.43938,     0.44002,     0.44128,       0.444,     0.44637,\n",
       "            0.44809,      0.4498,     0.45281,     0.46269,     0.46411,     0.46552,     0.46693,     0.46834,     0.47497,     0.47572,     0.47648,     0.47723,     0.47798,     0.47874,     0.47949,     0.48025,      0.4817,     0.48355,      0.4854,     0.48921,     0.49668,     0.50029,     0.50102,\n",
       "            0.50175,     0.50248,      0.5032,     0.50393,     0.50466,     0.50539,     0.50612,     0.50686,     0.51007,     0.51327,     0.51506,     0.51651,     0.51795,      0.5194,     0.52085,     0.52387,     0.52726,     0.53025,     0.53298,     0.53571,     0.53841,     0.54111,      0.5438,\n",
       "            0.54292,     0.54156,      0.5402,     0.53883,     0.53747,     0.54809,     0.55109,     0.55476,     0.56086,     0.55611,     0.55736,      0.5594,     0.56144,     0.56348,      0.5649,     0.56568,     0.56647,     0.56725,     0.56803,     0.56881,      0.5696,     0.57038,     0.57116,\n",
       "            0.57194,     0.57272,     0.57351,     0.57501,     0.57688,     0.57874,     0.58061,     0.58248,     0.58533,     0.58901,      0.5927,     0.59802,     0.60347,     0.60406,     0.60465,     0.60525,     0.60584,     0.60644,     0.60703,     0.60763,     0.60822,     0.60882,     0.60941,\n",
       "            0.61001,      0.6106,      0.6112,     0.61179,     0.61238,     0.61298,     0.61357,      0.6144,     0.61604,     0.61767,     0.61931,     0.62094,     0.62258,     0.62421,     0.62569,     0.62702,     0.62835,     0.62968,     0.63101,     0.63235,     0.63368,     0.63501,     0.63634,\n",
       "            0.63691,     0.63748,     0.63804,      0.6386,     0.63916,     0.63972,     0.64029,     0.64085,     0.64141,     0.64197,     0.64253,      0.6431,     0.64366,     0.64422,     0.64478,     0.64534,      0.6459,     0.64647,     0.64703,     0.64759,     0.64825,     0.66157,     0.66591,\n",
       "            0.67025,     0.67155,     0.66717,     0.66566,     0.66452,     0.66338,     0.66224,      0.6611,      0.6601,     0.66335,      0.6666,     0.66985,     0.67309,     0.67589,     0.67863,     0.68137,     0.68411,     0.68685,     0.69102,     0.69563,     0.70025,     0.70277,     0.70385,\n",
       "            0.70492,       0.706,     0.70708,     0.70816,     0.70924,     0.71032,      0.7114,     0.71248,     0.71356,     0.71464,     0.71571,     0.71679,     0.71805,     0.71954,     0.72103,     0.72251,       0.724,     0.72548,     0.72697,     0.72845,     0.72994,     0.73142,     0.73291,\n",
       "            0.73284,     0.73215,     0.73146,     0.73077,     0.73008,     0.72939,      0.7287,     0.72801,     0.72732,     0.72997,     0.73286,     0.73575,     0.73864,     0.74153,     0.74445,     0.74776,     0.75106,     0.75436,     0.75766,     0.76096,     0.76105,     0.75986,     0.75867,\n",
       "            0.75748,     0.75629,     0.75675,     0.75754,     0.75832,      0.7591,     0.75988,     0.76067,     0.76145,     0.76223,     0.76302,      0.7638,     0.76458,     0.76536,     0.76615,     0.76693,     0.76771,      0.7685,     0.76928,     0.77006,     0.77084,     0.77163,     0.77241,\n",
       "            0.77319,     0.77398,     0.77476,     0.77486,     0.77465,     0.77444,     0.77423,     0.77402,     0.77381,      0.7736,     0.77339,     0.77318,     0.77297,     0.77276,     0.77255,     0.77234,     0.77213,     0.77192,     0.77172,     0.77151,      0.7713,     0.77109,     0.77088,\n",
       "            0.77067,     0.77046,     0.77025,     0.77004,     0.76983,     0.76962,     0.76941,     0.76936,     0.77034,     0.77131,     0.77229,     0.77326,     0.77424,     0.77522,     0.77619,     0.77717,     0.77815,     0.77912,      0.7801,     0.78108,     0.78205,     0.78303,     0.78401,\n",
       "            0.78498,     0.78596,     0.78693,     0.78791,     0.78889,     0.78929,     0.78882,     0.78835,     0.78789,     0.78742,     0.78695,     0.78649,     0.78602,     0.78555,     0.78509,     0.78462,     0.78415,     0.78347,     0.78193,     0.78039,     0.77885,     0.77706,     0.77469,\n",
       "            0.77233,     0.77864,     0.79027,     0.79441,     0.79485,     0.79529,     0.79573,     0.79616,      0.7966,     0.79704,     0.79748,     0.79792,     0.79836,      0.7988,     0.79923,     0.79967,     0.80011,     0.80055,     0.80099,     0.80143,     0.80187,      0.8023,     0.80274,\n",
       "            0.80318,     0.80362,     0.80406,      0.8045,     0.80494,     0.80537,     0.80581,     0.80625,     0.80669,     0.80713,     0.80757,       0.808,     0.80844,     0.80888,     0.80932,     0.80976,      0.8102,     0.81064,     0.81107,     0.81151,     0.81195,     0.81239,     0.81283,\n",
       "            0.81327,     0.81371,     0.81414,     0.81458,     0.81502,     0.81546,      0.8159,     0.81634,     0.81678,     0.81721,     0.81765,     0.81809,     0.81933,     0.82079,     0.82225,      0.8237,     0.82516,     0.82661,     0.82807,     0.82953,     0.83098,     0.83244,     0.83389,\n",
       "            0.83535,     0.83681,     0.83826,     0.83972,     0.84117,     0.84263,     0.85021,     0.87092,     0.87073,     0.87054,     0.87034,     0.87015,     0.86996,     0.86977,     0.86958,     0.86939,     0.86919,       0.869,     0.86881,     0.86862,     0.86843,     0.86824,     0.86804,\n",
       "            0.86785,     0.86766,     0.86747,     0.86728,     0.86709,     0.86689,      0.8667,     0.87167,      0.8778,     0.88393,     0.89005,     0.89618,     0.89809,     0.89973,     0.90138,     0.90302,     0.90466,      0.9063,     0.90794,     0.90958,     0.91122,     0.91286,      0.9145,\n",
       "            0.91614,     0.91779,     0.91943,     0.92107,     0.92271,     0.92435,     0.92599,     0.92763,     0.92853,     0.92844,     0.92835,     0.92826,     0.92816,     0.92807,     0.92798,     0.92789,      0.9278,      0.9277,     0.92761,     0.92752,     0.92743,     0.92734,     0.92725,\n",
       "            0.92715,     0.92706,     0.92697,     0.92688,     0.92679,     0.92669,      0.9266,     0.92651,     0.92642,     0.92633,     0.92623,     0.92614,     0.92605,     0.92596,     0.92585,     0.92572,      0.9256,     0.92547,     0.92535,     0.92522,      0.9251,     0.92498,     0.92485,\n",
       "            0.92473,      0.9246,     0.92448,     0.92435,     0.92423,     0.92411,     0.92398,     0.92386,     0.92373,     0.92361,     0.92348,     0.92336,     0.92324,     0.92311,     0.92284,     0.92251,     0.92217,     0.92184,     0.92151,     0.92118,     0.92085,     0.92051,     0.92018,\n",
       "            0.91989,     0.91963,     0.91938,     0.91913,     0.91887,     0.91862,     0.91837,     0.91811,     0.91786,     0.91761,     0.91735,      0.9171,     0.91685,     0.91663,      0.9165,     0.91637,     0.91625,     0.91612,     0.91599,     0.91586,     0.91573,     0.91561,     0.91548,\n",
       "            0.91535,     0.91522,     0.91509,     0.91497,     0.91484,     0.91471,     0.91458,     0.91445,     0.91433,      0.9142,     0.91407,     0.91394,     0.91381,     0.91368,     0.91356,     0.91343,      0.9133,     0.91317,     0.91304,     0.91271,     0.91237,     0.91203,      0.9117,\n",
       "            0.91136,     0.91102,     0.91068,     0.91035,     0.91001,     0.90967,     0.90933,     0.90905,      0.9089,     0.90875,      0.9086,     0.90845,      0.9083,     0.90815,       0.908,     0.90784,     0.90769,     0.90754,     0.90739,     0.90724,     0.90709,     0.90694,     0.90679,\n",
       "            0.90664,     0.90649,     0.90634,     0.90619,     0.90604,     0.90589,     0.90574,     0.90559,     0.90544,     0.90529,     0.90514,     0.90499,     0.90484,     0.90472,     0.90463,     0.90455,     0.90446,     0.90438,     0.90429,     0.90421,     0.90412,     0.90404,     0.90396,\n",
       "            0.90387,     0.90379,      0.9037,     0.90362,     0.90353,     0.90345,     0.90336,     0.90328,     0.90319,     0.90311,     0.90302,     0.90294,     0.90285,     0.90277,     0.90268,      0.9026,     0.90251,     0.90243,     0.90234,     0.90226,     0.90217,     0.90209,       0.902,\n",
       "            0.90192,     0.90183,     0.90175,     0.90166,     0.90158,     0.90149,     0.90141,     0.90132,     0.90124,     0.90115,     0.90107,     0.90098,      0.9009,     0.90081,     0.90073,     0.90064,     0.90056,     0.90047,     0.90039,      0.9003,     0.90022,     0.90014,     0.90005,\n",
       "            0.89996,     0.89987,     0.89978,     0.89969,      0.8996,     0.89951,     0.89941,     0.89932,     0.89923,     0.89914,     0.89905,     0.89896,     0.89887,     0.89877,     0.89868,     0.89859,      0.8985,     0.89841,     0.89832,     0.89823,     0.89813,     0.89804,     0.89795,\n",
       "            0.89786,     0.89777,     0.89768,     0.89759,     0.89749,      0.8974,     0.89731,     0.89722,     0.89713,     0.89704,     0.89695,     0.89685,     0.89676,     0.89667,     0.89658,     0.89649,      0.8964,     0.89631,     0.89621,     0.89612,     0.89603,     0.89594,     0.89585,\n",
       "            0.89576,     0.89567,     0.89557,     0.89548,     0.89539,      0.8953,     0.89521,     0.89512,     0.89502,     0.89493,     0.89484,     0.89475,      0.9005,      0.9073,     0.91409,     0.92088,     0.92768,     0.93447,     0.94126,     0.94385,     0.94273,     0.94162,     0.94111,\n",
       "            0.94101,      0.9409,     0.94079,     0.94069,     0.94058,     0.94048,     0.94037,     0.94026,     0.94016,     0.94005,     0.93994,     0.93984,     0.93973,     0.93963,     0.93952,     0.93941,     0.93931,      0.9392,      0.9391,     0.93899,     0.93888,     0.93878,     0.93867,\n",
       "            0.93856,     0.93846,     0.93835,     0.93825,     0.93814,     0.93803,     0.93793,     0.93782,     0.93772,     0.93761,      0.9375,     0.92861,     0.92791,     0.92725,     0.92659,     0.92592,     0.92526,      0.9246,     0.92394,     0.92327,     0.92205,     0.92059,     0.91913,\n",
       "            0.91767,     0.91651,     0.91601,     0.91551,     0.91501,     0.91451,       0.914,      0.9135,       0.913,      0.9125,       0.912,      0.9115,       0.911,      0.9105,        0.91,      0.9095,      0.9079,     0.90169,     0.89945,     0.89869,     0.89793,     0.89717,     0.89641,\n",
       "            0.89565,     0.89489,     0.89413,     0.89337,     0.89261,     0.89185,     0.89109,     0.89034,     0.88958,     0.88754,     0.87704,     0.89412,      0.9112,     0.92829,     0.94537,     0.96245,     0.97954,     0.99662,           1,           1,           1,           1,           1,\n",
       "                  1,           1,           1,           1,           1,           1,           1,           1,           1,           1,           1,           1,           1,           1,           1,           1,           1,           1,           1,           1,           1,           1,           1,\n",
       "                  1,           1,           1,           1,           1,           1,           1,           1,           1,           1,           1,           1,           1,           1,           1,           1,           1,           1,           1,           1,           1,           1,           1,\n",
       "                  1,           1,           1,           1,           1,           1,           1,           1,           1,           1,           1,           1,           1,           1,           1,           1,           1,           1,           1,           1,           1,           1,           1,\n",
       "                  1,           1,           1,           1,           1,           1,           1,           1,           1,           1,           1,           1,           1,           1,           1,           1,           1,           1,           1,           1,           1,           1,           1,\n",
       "                  1,           1,           1,           1,           1,           1,           1,           1,           1,           1,           1]]), 'Confidence', 'Precision'], [array([          0,    0.001001,    0.002002,    0.003003,    0.004004,    0.005005,    0.006006,    0.007007,    0.008008,    0.009009,     0.01001,    0.011011,    0.012012,    0.013013,    0.014014,    0.015015,    0.016016,    0.017017,    0.018018,    0.019019,     0.02002,    0.021021,    0.022022,    0.023023,\n",
       "          0.024024,    0.025025,    0.026026,    0.027027,    0.028028,    0.029029,     0.03003,    0.031031,    0.032032,    0.033033,    0.034034,    0.035035,    0.036036,    0.037037,    0.038038,    0.039039,     0.04004,    0.041041,    0.042042,    0.043043,    0.044044,    0.045045,    0.046046,    0.047047,\n",
       "          0.048048,    0.049049,     0.05005,    0.051051,    0.052052,    0.053053,    0.054054,    0.055055,    0.056056,    0.057057,    0.058058,    0.059059,     0.06006,    0.061061,    0.062062,    0.063063,    0.064064,    0.065065,    0.066066,    0.067067,    0.068068,    0.069069,     0.07007,    0.071071,\n",
       "          0.072072,    0.073073,    0.074074,    0.075075,    0.076076,    0.077077,    0.078078,    0.079079,     0.08008,    0.081081,    0.082082,    0.083083,    0.084084,    0.085085,    0.086086,    0.087087,    0.088088,    0.089089,     0.09009,    0.091091,    0.092092,    0.093093,    0.094094,    0.095095,\n",
       "          0.096096,    0.097097,    0.098098,    0.099099,      0.1001,      0.1011,      0.1021,      0.1031,      0.1041,     0.10511,     0.10611,     0.10711,     0.10811,     0.10911,     0.11011,     0.11111,     0.11211,     0.11311,     0.11411,     0.11512,     0.11612,     0.11712,     0.11812,     0.11912,\n",
       "           0.12012,     0.12112,     0.12212,     0.12312,     0.12412,     0.12513,     0.12613,     0.12713,     0.12813,     0.12913,     0.13013,     0.13113,     0.13213,     0.13313,     0.13413,     0.13514,     0.13614,     0.13714,     0.13814,     0.13914,     0.14014,     0.14114,     0.14214,     0.14314,\n",
       "           0.14414,     0.14515,     0.14615,     0.14715,     0.14815,     0.14915,     0.15015,     0.15115,     0.15215,     0.15315,     0.15415,     0.15516,     0.15616,     0.15716,     0.15816,     0.15916,     0.16016,     0.16116,     0.16216,     0.16316,     0.16416,     0.16517,     0.16617,     0.16717,\n",
       "           0.16817,     0.16917,     0.17017,     0.17117,     0.17217,     0.17317,     0.17417,     0.17518,     0.17618,     0.17718,     0.17818,     0.17918,     0.18018,     0.18118,     0.18218,     0.18318,     0.18418,     0.18519,     0.18619,     0.18719,     0.18819,     0.18919,     0.19019,     0.19119,\n",
       "           0.19219,     0.19319,     0.19419,      0.1952,      0.1962,      0.1972,      0.1982,      0.1992,      0.2002,      0.2012,      0.2022,      0.2032,      0.2042,     0.20521,     0.20621,     0.20721,     0.20821,     0.20921,     0.21021,     0.21121,     0.21221,     0.21321,     0.21421,     0.21522,\n",
       "           0.21622,     0.21722,     0.21822,     0.21922,     0.22022,     0.22122,     0.22222,     0.22322,     0.22422,     0.22523,     0.22623,     0.22723,     0.22823,     0.22923,     0.23023,     0.23123,     0.23223,     0.23323,     0.23423,     0.23524,     0.23624,     0.23724,     0.23824,     0.23924,\n",
       "           0.24024,     0.24124,     0.24224,     0.24324,     0.24424,     0.24525,     0.24625,     0.24725,     0.24825,     0.24925,     0.25025,     0.25125,     0.25225,     0.25325,     0.25425,     0.25526,     0.25626,     0.25726,     0.25826,     0.25926,     0.26026,     0.26126,     0.26226,     0.26326,\n",
       "           0.26426,     0.26527,     0.26627,     0.26727,     0.26827,     0.26927,     0.27027,     0.27127,     0.27227,     0.27327,     0.27427,     0.27528,     0.27628,     0.27728,     0.27828,     0.27928,     0.28028,     0.28128,     0.28228,     0.28328,     0.28428,     0.28529,     0.28629,     0.28729,\n",
       "           0.28829,     0.28929,     0.29029,     0.29129,     0.29229,     0.29329,     0.29429,      0.2953,      0.2963,      0.2973,      0.2983,      0.2993,      0.3003,      0.3013,      0.3023,      0.3033,      0.3043,     0.30531,     0.30631,     0.30731,     0.30831,     0.30931,     0.31031,     0.31131,\n",
       "           0.31231,     0.31331,     0.31431,     0.31532,     0.31632,     0.31732,     0.31832,     0.31932,     0.32032,     0.32132,     0.32232,     0.32332,     0.32432,     0.32533,     0.32633,     0.32733,     0.32833,     0.32933,     0.33033,     0.33133,     0.33233,     0.33333,     0.33433,     0.33534,\n",
       "           0.33634,     0.33734,     0.33834,     0.33934,     0.34034,     0.34134,     0.34234,     0.34334,     0.34434,     0.34535,     0.34635,     0.34735,     0.34835,     0.34935,     0.35035,     0.35135,     0.35235,     0.35335,     0.35435,     0.35536,     0.35636,     0.35736,     0.35836,     0.35936,\n",
       "           0.36036,     0.36136,     0.36236,     0.36336,     0.36436,     0.36537,     0.36637,     0.36737,     0.36837,     0.36937,     0.37037,     0.37137,     0.37237,     0.37337,     0.37437,     0.37538,     0.37638,     0.37738,     0.37838,     0.37938,     0.38038,     0.38138,     0.38238,     0.38338,\n",
       "           0.38438,     0.38539,     0.38639,     0.38739,     0.38839,     0.38939,     0.39039,     0.39139,     0.39239,     0.39339,     0.39439,      0.3954,      0.3964,      0.3974,      0.3984,      0.3994,      0.4004,      0.4014,      0.4024,      0.4034,      0.4044,     0.40541,     0.40641,     0.40741,\n",
       "           0.40841,     0.40941,     0.41041,     0.41141,     0.41241,     0.41341,     0.41441,     0.41542,     0.41642,     0.41742,     0.41842,     0.41942,     0.42042,     0.42142,     0.42242,     0.42342,     0.42442,     0.42543,     0.42643,     0.42743,     0.42843,     0.42943,     0.43043,     0.43143,\n",
       "           0.43243,     0.43343,     0.43443,     0.43544,     0.43644,     0.43744,     0.43844,     0.43944,     0.44044,     0.44144,     0.44244,     0.44344,     0.44444,     0.44545,     0.44645,     0.44745,     0.44845,     0.44945,     0.45045,     0.45145,     0.45245,     0.45345,     0.45445,     0.45546,\n",
       "           0.45646,     0.45746,     0.45846,     0.45946,     0.46046,     0.46146,     0.46246,     0.46346,     0.46446,     0.46547,     0.46647,     0.46747,     0.46847,     0.46947,     0.47047,     0.47147,     0.47247,     0.47347,     0.47447,     0.47548,     0.47648,     0.47748,     0.47848,     0.47948,\n",
       "           0.48048,     0.48148,     0.48248,     0.48348,     0.48448,     0.48549,     0.48649,     0.48749,     0.48849,     0.48949,     0.49049,     0.49149,     0.49249,     0.49349,     0.49449,      0.4955,      0.4965,      0.4975,      0.4985,      0.4995,      0.5005,      0.5015,      0.5025,      0.5035,\n",
       "            0.5045,     0.50551,     0.50651,     0.50751,     0.50851,     0.50951,     0.51051,     0.51151,     0.51251,     0.51351,     0.51451,     0.51552,     0.51652,     0.51752,     0.51852,     0.51952,     0.52052,     0.52152,     0.52252,     0.52352,     0.52452,     0.52553,     0.52653,     0.52753,\n",
       "           0.52853,     0.52953,     0.53053,     0.53153,     0.53253,     0.53353,     0.53453,     0.53554,     0.53654,     0.53754,     0.53854,     0.53954,     0.54054,     0.54154,     0.54254,     0.54354,     0.54454,     0.54555,     0.54655,     0.54755,     0.54855,     0.54955,     0.55055,     0.55155,\n",
       "           0.55255,     0.55355,     0.55455,     0.55556,     0.55656,     0.55756,     0.55856,     0.55956,     0.56056,     0.56156,     0.56256,     0.56356,     0.56456,     0.56557,     0.56657,     0.56757,     0.56857,     0.56957,     0.57057,     0.57157,     0.57257,     0.57357,     0.57457,     0.57558,\n",
       "           0.57658,     0.57758,     0.57858,     0.57958,     0.58058,     0.58158,     0.58258,     0.58358,     0.58458,     0.58559,     0.58659,     0.58759,     0.58859,     0.58959,     0.59059,     0.59159,     0.59259,     0.59359,     0.59459,      0.5956,      0.5966,      0.5976,      0.5986,      0.5996,\n",
       "            0.6006,      0.6016,      0.6026,      0.6036,      0.6046,     0.60561,     0.60661,     0.60761,     0.60861,     0.60961,     0.61061,     0.61161,     0.61261,     0.61361,     0.61461,     0.61562,     0.61662,     0.61762,     0.61862,     0.61962,     0.62062,     0.62162,     0.62262,     0.62362,\n",
       "           0.62462,     0.62563,     0.62663,     0.62763,     0.62863,     0.62963,     0.63063,     0.63163,     0.63263,     0.63363,     0.63463,     0.63564,     0.63664,     0.63764,     0.63864,     0.63964,     0.64064,     0.64164,     0.64264,     0.64364,     0.64464,     0.64565,     0.64665,     0.64765,\n",
       "           0.64865,     0.64965,     0.65065,     0.65165,     0.65265,     0.65365,     0.65465,     0.65566,     0.65666,     0.65766,     0.65866,     0.65966,     0.66066,     0.66166,     0.66266,     0.66366,     0.66466,     0.66567,     0.66667,     0.66767,     0.66867,     0.66967,     0.67067,     0.67167,\n",
       "           0.67267,     0.67367,     0.67467,     0.67568,     0.67668,     0.67768,     0.67868,     0.67968,     0.68068,     0.68168,     0.68268,     0.68368,     0.68468,     0.68569,     0.68669,     0.68769,     0.68869,     0.68969,     0.69069,     0.69169,     0.69269,     0.69369,     0.69469,      0.6957,\n",
       "            0.6967,      0.6977,      0.6987,      0.6997,      0.7007,      0.7017,      0.7027,      0.7037,      0.7047,     0.70571,     0.70671,     0.70771,     0.70871,     0.70971,     0.71071,     0.71171,     0.71271,     0.71371,     0.71471,     0.71572,     0.71672,     0.71772,     0.71872,     0.71972,\n",
       "           0.72072,     0.72172,     0.72272,     0.72372,     0.72472,     0.72573,     0.72673,     0.72773,     0.72873,     0.72973,     0.73073,     0.73173,     0.73273,     0.73373,     0.73473,     0.73574,     0.73674,     0.73774,     0.73874,     0.73974,     0.74074,     0.74174,     0.74274,     0.74374,\n",
       "           0.74474,     0.74575,     0.74675,     0.74775,     0.74875,     0.74975,     0.75075,     0.75175,     0.75275,     0.75375,     0.75475,     0.75576,     0.75676,     0.75776,     0.75876,     0.75976,     0.76076,     0.76176,     0.76276,     0.76376,     0.76476,     0.76577,     0.76677,     0.76777,\n",
       "           0.76877,     0.76977,     0.77077,     0.77177,     0.77277,     0.77377,     0.77477,     0.77578,     0.77678,     0.77778,     0.77878,     0.77978,     0.78078,     0.78178,     0.78278,     0.78378,     0.78478,     0.78579,     0.78679,     0.78779,     0.78879,     0.78979,     0.79079,     0.79179,\n",
       "           0.79279,     0.79379,     0.79479,      0.7958,      0.7968,      0.7978,      0.7988,      0.7998,      0.8008,      0.8018,      0.8028,      0.8038,      0.8048,     0.80581,     0.80681,     0.80781,     0.80881,     0.80981,     0.81081,     0.81181,     0.81281,     0.81381,     0.81481,     0.81582,\n",
       "           0.81682,     0.81782,     0.81882,     0.81982,     0.82082,     0.82182,     0.82282,     0.82382,     0.82482,     0.82583,     0.82683,     0.82783,     0.82883,     0.82983,     0.83083,     0.83183,     0.83283,     0.83383,     0.83483,     0.83584,     0.83684,     0.83784,     0.83884,     0.83984,\n",
       "           0.84084,     0.84184,     0.84284,     0.84384,     0.84484,     0.84585,     0.84685,     0.84785,     0.84885,     0.84985,     0.85085,     0.85185,     0.85285,     0.85385,     0.85485,     0.85586,     0.85686,     0.85786,     0.85886,     0.85986,     0.86086,     0.86186,     0.86286,     0.86386,\n",
       "           0.86486,     0.86587,     0.86687,     0.86787,     0.86887,     0.86987,     0.87087,     0.87187,     0.87287,     0.87387,     0.87487,     0.87588,     0.87688,     0.87788,     0.87888,     0.87988,     0.88088,     0.88188,     0.88288,     0.88388,     0.88488,     0.88589,     0.88689,     0.88789,\n",
       "           0.88889,     0.88989,     0.89089,     0.89189,     0.89289,     0.89389,     0.89489,      0.8959,      0.8969,      0.8979,      0.8989,      0.8999,      0.9009,      0.9019,      0.9029,      0.9039,      0.9049,     0.90591,     0.90691,     0.90791,     0.90891,     0.90991,     0.91091,     0.91191,\n",
       "           0.91291,     0.91391,     0.91491,     0.91592,     0.91692,     0.91792,     0.91892,     0.91992,     0.92092,     0.92192,     0.92292,     0.92392,     0.92492,     0.92593,     0.92693,     0.92793,     0.92893,     0.92993,     0.93093,     0.93193,     0.93293,     0.93393,     0.93493,     0.93594,\n",
       "           0.93694,     0.93794,     0.93894,     0.93994,     0.94094,     0.94194,     0.94294,     0.94394,     0.94494,     0.94595,     0.94695,     0.94795,     0.94895,     0.94995,     0.95095,     0.95195,     0.95295,     0.95395,     0.95495,     0.95596,     0.95696,     0.95796,     0.95896,     0.95996,\n",
       "           0.96096,     0.96196,     0.96296,     0.96396,     0.96496,     0.96597,     0.96697,     0.96797,     0.96897,     0.96997,     0.97097,     0.97197,     0.97297,     0.97397,     0.97497,     0.97598,     0.97698,     0.97798,     0.97898,     0.97998,     0.98098,     0.98198,     0.98298,     0.98398,\n",
       "           0.98498,     0.98599,     0.98699,     0.98799,     0.98899,     0.98999,     0.99099,     0.99199,     0.99299,     0.99399,     0.99499,       0.996,       0.997,       0.998,       0.999,           1]), array([[    0.98113,     0.98113,      0.9434,      0.9434,     0.90566,     0.90566,     0.90566,     0.90566,     0.88679,     0.86792,     0.86792,     0.84906,     0.83019,     0.81132,     0.79245,     0.79245,     0.79245,     0.79245,     0.79245,     0.79245,     0.79245,     0.77358,      0.7589,\n",
       "            0.75472,     0.75472,     0.75472,     0.73585,     0.73585,     0.73585,     0.73585,     0.73585,     0.73585,     0.73585,     0.73585,     0.71698,     0.71698,     0.71698,     0.71698,     0.71698,     0.71698,     0.71698,     0.71698,     0.71698,     0.71698,     0.71698,     0.71698,\n",
       "            0.71698,     0.71698,     0.71698,     0.71698,     0.71698,     0.71698,     0.71698,     0.71698,     0.71698,     0.71698,     0.71698,     0.71698,     0.71698,     0.71698,     0.71698,     0.71698,     0.71698,     0.71698,     0.71698,     0.71698,     0.71698,     0.71698,     0.71698,\n",
       "            0.71698,     0.71698,     0.71698,     0.71698,     0.71698,     0.71698,     0.71698,     0.71698,     0.71698,     0.71698,     0.71698,     0.71698,     0.71698,     0.71698,     0.69811,     0.69811,     0.69811,     0.69811,     0.69811,     0.69811,     0.69811,     0.69811,     0.69811,\n",
       "            0.69811,     0.69811,     0.69811,     0.69811,     0.69811,     0.69811,     0.69811,     0.69811,     0.69811,     0.69811,     0.69811,     0.69811,     0.69811,     0.69811,     0.69811,     0.69811,     0.69811,     0.69811,     0.69811,     0.69811,     0.69811,     0.69811,     0.69811,\n",
       "            0.69811,     0.69811,     0.69811,     0.69811,     0.69811,     0.69811,     0.69811,     0.69811,     0.69811,     0.69811,     0.69811,     0.69811,     0.69811,     0.69811,     0.69811,     0.69811,     0.69811,     0.69811,     0.69811,     0.69811,     0.69811,     0.69811,     0.69811,\n",
       "            0.69811,     0.69811,     0.69811,     0.69811,     0.69811,     0.69811,     0.69811,     0.69811,     0.69811,     0.69811,     0.69811,     0.69811,     0.69811,     0.69811,     0.69811,     0.69811,     0.69811,     0.69811,     0.69811,     0.69811,     0.69811,     0.69811,     0.69811,\n",
       "            0.69478,     0.69101,     0.68724,     0.68346,     0.67969,     0.67925,     0.67925,     0.67925,     0.67479,      0.6619,     0.66038,     0.66038,     0.66038,     0.66038,     0.66038,     0.66038,     0.66038,     0.66038,     0.66038,     0.66038,     0.66038,     0.66038,     0.66038,\n",
       "            0.66038,     0.66038,     0.66038,     0.66038,     0.66038,     0.66038,     0.66038,     0.66038,     0.66038,     0.66038,     0.66038,     0.66038,     0.66038,     0.66038,     0.66038,     0.66038,     0.66038,     0.66038,     0.66038,     0.66038,     0.66038,     0.66038,     0.66038,\n",
       "            0.66038,     0.66038,     0.66038,     0.66038,     0.66038,     0.66038,     0.66038,     0.66038,     0.66038,     0.66038,     0.66038,     0.66038,     0.66038,     0.66038,     0.66038,     0.66038,     0.66038,     0.66038,     0.66038,     0.66038,     0.66038,     0.66038,     0.66038,\n",
       "            0.66038,     0.66038,     0.66038,     0.66038,     0.66038,     0.66038,     0.66038,     0.66038,     0.66038,     0.66038,     0.66038,     0.66038,     0.66038,     0.66038,     0.66038,     0.66038,     0.66038,     0.66038,     0.66038,     0.66038,     0.66038,     0.66038,     0.66038,\n",
       "            0.66038,     0.65589,       0.643,     0.63866,     0.63544,     0.63221,     0.62899,     0.62577,     0.62264,     0.62264,     0.62264,     0.62264,     0.62264,     0.62264,     0.62264,     0.62264,     0.62264,     0.62264,     0.62264,     0.62264,     0.62264,     0.62264,     0.62264,\n",
       "            0.62264,     0.62264,     0.62264,     0.62264,     0.62264,     0.62264,     0.62264,     0.62264,     0.62264,     0.62264,     0.62264,     0.62264,     0.62264,     0.62264,     0.62264,     0.62264,     0.62264,     0.62264,     0.62264,     0.62264,     0.62264,     0.62264,     0.62264,\n",
       "            0.62111,     0.61896,     0.61681,     0.61466,     0.61251,     0.61036,     0.60821,     0.60606,     0.60391,     0.60377,     0.60377,     0.60377,     0.60377,     0.60377,     0.60377,     0.60377,     0.60377,     0.60377,     0.60377,     0.60377,     0.60101,     0.59714,     0.59327,\n",
       "             0.5894,     0.58554,     0.58491,     0.58491,     0.58491,     0.58491,     0.58491,     0.58491,     0.58491,     0.58491,     0.58491,     0.58491,     0.58491,     0.58491,     0.58491,     0.58491,     0.58491,     0.58491,     0.58491,     0.58491,     0.58491,     0.58491,     0.58491,\n",
       "            0.58491,     0.58491,     0.58491,     0.58443,     0.58375,     0.58306,     0.58238,     0.58169,     0.58101,     0.58032,     0.57964,     0.57896,     0.57827,     0.57759,      0.5769,     0.57622,     0.57553,     0.57485,     0.57416,     0.57348,     0.57279,     0.57211,     0.57142,\n",
       "            0.57074,     0.57006,     0.56937,     0.56869,       0.568,     0.56732,     0.56663,     0.56604,     0.56604,     0.56604,     0.56604,     0.56604,     0.56604,     0.56604,     0.56604,     0.56604,     0.56604,     0.56604,     0.56604,     0.56604,     0.56604,     0.56604,     0.56604,\n",
       "            0.56604,     0.56604,     0.56604,     0.56604,     0.56604,     0.56542,     0.56387,     0.56232,     0.56078,     0.55923,     0.55768,     0.55614,     0.55459,     0.55304,     0.55149,     0.54995,      0.5484,     0.54618,     0.54134,     0.53651,     0.53167,     0.52617,     0.51914,\n",
       "            0.51211,     0.50943,     0.50943,     0.50943,     0.50943,     0.50943,     0.50943,     0.50943,     0.50943,     0.50943,     0.50943,     0.50943,     0.50943,     0.50943,     0.50943,     0.50943,     0.50943,     0.50943,     0.50943,     0.50943,     0.50943,     0.50943,     0.50943,\n",
       "            0.50943,     0.50943,     0.50943,     0.50943,     0.50943,     0.50943,     0.50943,     0.50943,     0.50943,     0.50943,     0.50943,     0.50943,     0.50943,     0.50943,     0.50943,     0.50943,     0.50943,     0.50943,     0.50943,     0.50943,     0.50943,     0.50943,     0.50943,\n",
       "            0.50943,     0.50943,     0.50943,     0.50943,     0.50943,     0.50943,     0.50943,     0.50943,     0.50943,     0.50943,     0.50943,     0.50943,     0.50943,     0.50943,     0.50943,     0.50943,     0.50943,     0.50943,     0.50943,     0.50943,     0.50943,     0.50943,     0.50943,\n",
       "            0.50943,     0.50943,     0.50943,     0.50943,     0.50943,     0.50943,     0.50943,     0.50922,     0.50838,     0.50754,      0.5067,     0.50586,     0.50501,     0.50417,     0.50333,     0.50249,     0.50165,     0.50081,     0.49997,     0.49913,     0.49829,     0.49745,     0.49661,\n",
       "            0.49576,     0.49492,     0.49408,     0.49324,      0.4924,     0.49156,     0.49072,     0.49057,     0.49057,     0.49057,     0.49057,     0.49057,     0.49057,     0.49057,     0.49057,     0.49057,     0.49057,     0.49057,     0.49057,     0.49057,     0.49057,     0.49057,     0.49057,\n",
       "            0.49057,     0.49057,     0.49057,     0.49057,     0.49057,     0.49057,     0.49057,     0.49057,     0.49029,     0.48963,     0.48897,     0.48832,     0.48766,     0.48701,     0.48635,      0.4857,     0.48504,     0.48439,     0.48373,     0.48307,     0.48242,     0.48176,     0.48111,\n",
       "            0.48045,      0.4798,     0.47914,     0.47848,     0.47783,     0.47717,     0.47652,     0.47586,     0.47521,     0.47455,      0.4739,     0.47324,     0.47258,     0.47193,     0.47116,     0.47034,     0.46952,      0.4687,     0.46787,     0.46705,     0.46623,      0.4654,     0.46458,\n",
       "            0.46376,     0.46294,     0.46211,     0.46129,     0.46047,     0.45964,     0.45882,       0.458,     0.45717,     0.45635,     0.45553,     0.45471,     0.45388,     0.45306,     0.45136,     0.44933,     0.44729,     0.44525,     0.44322,     0.44118,     0.43915,     0.43711,     0.43507,\n",
       "            0.43331,     0.43188,     0.43045,     0.42901,     0.42758,     0.42615,     0.42472,     0.42328,     0.42185,     0.42042,     0.41899,     0.41755,     0.41612,     0.41491,     0.41424,     0.41357,      0.4129,     0.41224,     0.41157,      0.4109,     0.41024,     0.40957,      0.4089,\n",
       "            0.40824,     0.40757,      0.4069,     0.40624,     0.40557,      0.4049,     0.40424,     0.40357,      0.4029,     0.40223,     0.40157,      0.4009,     0.40023,     0.39957,      0.3989,     0.39823,     0.39757,      0.3969,     0.39623,     0.39463,     0.39302,     0.39141,     0.38979,\n",
       "            0.38818,     0.38657,     0.38496,     0.38335,     0.38174,     0.38012,     0.37851,     0.37717,     0.37652,     0.37586,     0.37521,     0.37455,     0.37389,     0.37324,     0.37258,     0.37193,     0.37127,     0.37062,     0.36996,     0.36931,     0.36865,     0.36799,     0.36734,\n",
       "            0.36668,     0.36603,     0.36537,     0.36472,     0.36406,      0.3634,     0.36275,     0.36209,     0.36144,     0.36078,     0.36013,     0.35947,     0.35882,     0.35832,     0.35798,     0.35765,     0.35731,     0.35698,     0.35664,      0.3563,     0.35597,     0.35563,     0.35529,\n",
       "            0.35496,     0.35462,     0.35428,     0.35395,     0.35361,     0.35328,     0.35294,      0.3526,     0.35227,     0.35193,     0.35159,     0.35126,     0.35092,     0.35058,     0.35025,     0.34991,     0.34958,     0.34924,      0.3489,     0.34857,     0.34823,     0.34789,     0.34756,\n",
       "            0.34722,     0.34689,     0.34655,     0.34621,     0.34588,     0.34554,      0.3452,     0.34487,     0.34453,     0.34419,     0.34386,     0.34352,     0.34319,     0.34285,     0.34251,     0.34218,     0.34184,      0.3415,     0.34117,     0.34083,     0.34049,     0.34016,     0.33982,\n",
       "            0.33949,     0.33916,     0.33883,     0.33851,     0.33818,     0.33785,     0.33752,     0.33719,     0.33687,     0.33654,     0.33621,     0.33588,     0.33556,     0.33523,      0.3349,     0.33457,     0.33424,     0.33392,     0.33359,     0.33326,     0.33293,     0.33261,     0.33228,\n",
       "            0.33195,     0.33162,     0.33129,     0.33097,     0.33064,     0.33031,     0.32998,     0.32965,     0.32933,       0.329,     0.32867,     0.32834,     0.32802,     0.32769,     0.32736,     0.32703,      0.3267,     0.32638,     0.32605,     0.32572,     0.32539,     0.32507,     0.32474,\n",
       "            0.32441,     0.32408,     0.32375,     0.32343,      0.3231,     0.32277,     0.32244,     0.32212,     0.32179,     0.32146,     0.32113,      0.3208,     0.32075,     0.32075,     0.32075,     0.32075,     0.32075,     0.32075,     0.32075,     0.31733,     0.31088,     0.30443,     0.30156,\n",
       "            0.30101,     0.30047,     0.29992,     0.29938,     0.29883,     0.29829,     0.29774,      0.2972,     0.29665,     0.29611,     0.29556,     0.29502,     0.29447,     0.29393,     0.29339,     0.29284,      0.2923,     0.29175,     0.29121,     0.29066,     0.29012,     0.28957,     0.28903,\n",
       "            0.28848,     0.28794,     0.28739,     0.28685,      0.2863,     0.28576,     0.28521,     0.28467,     0.28412,     0.28358,     0.28303,     0.24543,     0.24302,     0.24074,     0.23847,     0.23619,     0.23392,     0.23164,     0.22936,     0.22709,     0.22339,     0.21909,      0.2148,\n",
       "             0.2105,     0.20716,     0.20591,     0.20466,     0.20341,     0.20217,     0.20092,     0.19967,     0.19842,     0.19717,     0.19593,     0.19468,     0.19343,     0.19218,     0.19094,     0.18969,     0.18621,     0.17331,     0.16887,     0.16758,     0.16629,       0.165,     0.16371,\n",
       "            0.16243,     0.16114,     0.15985,     0.15856,     0.15727,     0.15598,     0.15469,      0.1534,     0.15211,     0.14911,     0.13208,     0.13208,     0.13208,     0.13208,     0.13208,     0.13208,     0.13208,     0.13208,     0.12863,     0.12433,     0.12003,     0.11573,     0.11161,\n",
       "            0.10775,     0.10388,     0.10001,    0.096141,    0.087452,    0.075198,     0.07133,    0.067462,    0.063594,    0.059726,    0.056363,    0.055115,    0.053868,     0.05262,    0.051372,    0.050124,    0.048877,    0.047629,    0.046381,    0.045133,    0.043886,    0.042638,     0.04139,\n",
       "           0.040142,    0.038895,    0.037342,    0.031816,     0.02629,    0.020765,           0,           0,           0,           0,           0,           0,           0,           0,           0,           0,           0,           0,           0,           0,           0,           0,           0,\n",
       "                  0,           0,           0,           0,           0,           0,           0,           0,           0,           0,           0,           0,           0,           0,           0,           0,           0,           0,           0,           0,           0,           0,           0,\n",
       "                  0,           0,           0,           0,           0,           0,           0,           0,           0,           0,           0,           0,           0,           0,           0,           0,           0,           0,           0,           0,           0,           0,           0,\n",
       "                  0,           0,           0,           0,           0,           0,           0,           0,           0,           0,           0]]), 'Confidence', 'Recall']]\n",
       "fitness: np.float64(0.39422264998263334)\n",
       "keys: ['metrics/precision(B)', 'metrics/recall(B)', 'metrics/mAP50(B)', 'metrics/mAP50-95(B)']\n",
       "maps: array([    0.36586])\n",
       "names: {0: 'fissura'}\n",
       "nt_per_class: array([53])\n",
       "nt_per_image: array([42])\n",
       "results_dict: {'metrics/precision(B)': np.float64(0.7586724355017038), 'metrics/recall(B)': np.float64(0.5932715734602528), 'metrics/mAP50(B)': np.float64(0.6495111811926177), 'metrics/mAP50-95(B)': np.float64(0.3658572576259684), 'fitness': np.float64(0.39422264998263334)}\n",
       "save_dir: PosixPath('/home/ec06-g2/Downloads/2025-1B-T12-EC06-G02/runs/detect/train')\n",
       "speed: {'preprocess': 0.11217516666441778, 'inference': 1.030828309532288, 'loss': 0.00014740476217411924, 'postprocess': 0.39977578572212397}\n",
       "stats: {'tp': [], 'conf': [], 'pred_cls': [], 'target_cls': [], 'target_img': []}\n",
       "task: 'detect'"
      ]
     },
     "execution_count": 34,
     "metadata": {},
     "output_type": "execute_result"
    }
   ],
   "source": [
    "# Carrega o modelo pré-treinado (YOLOv8 nano neste exemplo)\n",
    "model = YOLO('yolov8n.pt')  # ou 'yolov8s.pt', 'yolov8m.pt', 'yolov8l.pt', 'yolov8x.pt'\n",
    "\n",
    "\n",
    "model.train(data='data-v1/data.yaml', epochs=50, imgsz=640, batch=16)"
   ]
  },
  {
   "cell_type": "markdown",
   "id": "c62c80b5",
   "metadata": {},
   "source": [
    "## Analisar predições com o conjunto de testes"
   ]
  },
  {
   "cell_type": "code",
   "execution_count": 35,
   "id": "acad421f",
   "metadata": {},
   "outputs": [
    {
     "name": "stdout",
     "output_type": "stream",
     "text": [
      "Processando FR25_PNG.rf.4e7432e7ee57b596c661b257dd0f0f44.jpg...\n",
      "\n",
      "image 1/1 /home/ec06-g2/Downloads/2025-1B-T12-EC06-G02/src/IA/IA_v2/src/yolo/data-v1/test/images/FR25_PNG.rf.4e7432e7ee57b596c661b257dd0f0f44.jpg: 640x544 1 fissura, 2.4ms\n",
      "Speed: 0.9ms preprocess, 2.4ms inference, 0.5ms postprocess per image at shape (1, 3, 640, 544)\n",
      "Results saved to \u001b[1m/home/ec06-g2/Downloads/2025-1B-T12-EC06-G02/runs/detect/predict\u001b[0m\n",
      "Detectado 1 objeto(s) em FR25_PNG.rf.4e7432e7ee57b596c661b257dd0f0f44.jpg\n",
      "  Objeto 1: x1=8, y1=12, x2=265, y2=332\n",
      "    -> Recorte salvo em: crops/FR25_PNG.rf.4e7432e7ee57b596c661b257dd0f0f44_obj1.jpg\n",
      "Processando FR14_PNG.rf.42e7dc4c206142e1ba7b809cacc2ce1f.jpg...\n",
      "\n",
      "image 1/1 /home/ec06-g2/Downloads/2025-1B-T12-EC06-G02/src/IA/IA_v2/src/yolo/data-v1/test/images/FR14_PNG.rf.42e7dc4c206142e1ba7b809cacc2ce1f.jpg: 544x640 1 fissura, 2.3ms\n",
      "Speed: 0.7ms preprocess, 2.3ms inference, 0.5ms postprocess per image at shape (1, 3, 544, 640)\n",
      "Results saved to \u001b[1m/home/ec06-g2/Downloads/2025-1B-T12-EC06-G02/runs/detect/predict\u001b[0m\n",
      "Detectado 1 objeto(s) em FR14_PNG.rf.42e7dc4c206142e1ba7b809cacc2ce1f.jpg\n",
      "  Objeto 1: x1=0, y1=0, x2=239, y2=195\n",
      "    -> Recorte salvo em: crops/FR14_PNG.rf.42e7dc4c206142e1ba7b809cacc2ce1f_obj1.jpg\n",
      "Processando FR46_PNG.rf.0746cf9d4b9d8ecf587696c84414a039.jpg...\n",
      "\n",
      "image 1/1 /home/ec06-g2/Downloads/2025-1B-T12-EC06-G02/src/IA/IA_v2/src/yolo/data-v1/test/images/FR46_PNG.rf.0746cf9d4b9d8ecf587696c84414a039.jpg: 608x640 1 fissura, 2.7ms\n",
      "Speed: 1.1ms preprocess, 2.7ms inference, 0.6ms postprocess per image at shape (1, 3, 608, 640)\n",
      "Results saved to \u001b[1m/home/ec06-g2/Downloads/2025-1B-T12-EC06-G02/runs/detect/predict\u001b[0m\n",
      "Detectado 1 objeto(s) em FR46_PNG.rf.0746cf9d4b9d8ecf587696c84414a039.jpg\n",
      "  Objeto 1: x1=51, y1=8, x2=255, y2=176\n",
      "    -> Recorte salvo em: crops/FR46_PNG.rf.0746cf9d4b9d8ecf587696c84414a039_obj1.jpg\n",
      "Processando FT37_PNG.rf.da3960142a58bafba1d7ae3681cf23c6.jpg...\n",
      "\n",
      "image 1/1 /home/ec06-g2/Downloads/2025-1B-T12-EC06-G02/src/IA/IA_v2/src/yolo/data-v1/test/images/FT37_PNG.rf.da3960142a58bafba1d7ae3681cf23c6.jpg: 640x608 1 fissura, 2.5ms\n",
      "Speed: 0.9ms preprocess, 2.5ms inference, 0.5ms postprocess per image at shape (1, 3, 640, 608)\n",
      "Results saved to \u001b[1m/home/ec06-g2/Downloads/2025-1B-T12-EC06-G02/runs/detect/predict\u001b[0m\n",
      "Detectado 1 objeto(s) em FT37_PNG.rf.da3960142a58bafba1d7ae3681cf23c6.jpg\n",
      "  Objeto 1: x1=4, y1=111, x2=304, y2=227\n",
      "    -> Recorte salvo em: crops/FT37_PNG.rf.da3960142a58bafba1d7ae3681cf23c6_obj1.jpg\n",
      "Processando FR62_PNG.rf.76297c1ca21045d566ab2776411d1338.jpg...\n",
      "\n",
      "image 1/1 /home/ec06-g2/Downloads/2025-1B-T12-EC06-G02/src/IA/IA_v2/src/yolo/data-v1/test/images/FR62_PNG.rf.76297c1ca21045d566ab2776411d1338.jpg: 448x640 1 fissura, 2.3ms\n",
      "Speed: 0.7ms preprocess, 2.3ms inference, 0.5ms postprocess per image at shape (1, 3, 448, 640)\n",
      "Results saved to \u001b[1m/home/ec06-g2/Downloads/2025-1B-T12-EC06-G02/runs/detect/predict\u001b[0m\n",
      "Detectado 1 objeto(s) em FR62_PNG.rf.76297c1ca21045d566ab2776411d1338.jpg\n",
      "  Objeto 1: x1=1, y1=0, x2=161, y2=98\n",
      "    -> Recorte salvo em: crops/FR62_PNG.rf.76297c1ca21045d566ab2776411d1338_obj1.jpg\n",
      "Processando FR85_PNG.rf.a4b36fad0b947440656d03d15a97eaf2.jpg...\n",
      "\n",
      "image 1/1 /home/ec06-g2/Downloads/2025-1B-T12-EC06-G02/src/IA/IA_v2/src/yolo/data-v1/test/images/FR85_PNG.rf.a4b36fad0b947440656d03d15a97eaf2.jpg: 608x640 1 fissura, 2.5ms\n",
      "Speed: 0.9ms preprocess, 2.5ms inference, 0.5ms postprocess per image at shape (1, 3, 608, 640)\n",
      "Results saved to \u001b[1m/home/ec06-g2/Downloads/2025-1B-T12-EC06-G02/runs/detect/predict\u001b[0m\n",
      "Detectado 1 objeto(s) em FR85_PNG.rf.a4b36fad0b947440656d03d15a97eaf2.jpg\n",
      "  Objeto 1: x1=0, y1=3, x2=459, y2=377\n",
      "    -> Recorte salvo em: crops/FR85_PNG.rf.a4b36fad0b947440656d03d15a97eaf2_obj1.jpg\n",
      "Processando FT21_PNG.rf.9cf2fe731c8cfb09c3d50a4ecff7faa3.jpg...\n",
      "\n",
      "image 1/1 /home/ec06-g2/Downloads/2025-1B-T12-EC06-G02/src/IA/IA_v2/src/yolo/data-v1/test/images/FT21_PNG.rf.9cf2fe731c8cfb09c3d50a4ecff7faa3.jpg: 640x640 (no detections), 2.8ms\n",
      "Speed: 1.0ms preprocess, 2.8ms inference, 0.3ms postprocess per image at shape (1, 3, 640, 640)\n",
      "Results saved to \u001b[1m/home/ec06-g2/Downloads/2025-1B-T12-EC06-G02/runs/detect/predict\u001b[0m\n",
      "Detectado 0 objeto(s) em FT21_PNG.rf.9cf2fe731c8cfb09c3d50a4ecff7faa3.jpg\n",
      "Processando FT29_PNG.rf.bb384bfa45dbd168c4f76cfe73e0cab4.jpg...\n",
      "\n",
      "image 1/1 /home/ec06-g2/Downloads/2025-1B-T12-EC06-G02/src/IA/IA_v2/src/yolo/data-v1/test/images/FT29_PNG.rf.bb384bfa45dbd168c4f76cfe73e0cab4.jpg: 576x640 1 fissura, 2.4ms\n",
      "Speed: 0.9ms preprocess, 2.4ms inference, 0.6ms postprocess per image at shape (1, 3, 576, 640)\n",
      "Results saved to \u001b[1m/home/ec06-g2/Downloads/2025-1B-T12-EC06-G02/runs/detect/predict\u001b[0m\n",
      "Detectado 1 objeto(s) em FT29_PNG.rf.bb384bfa45dbd168c4f76cfe73e0cab4.jpg\n",
      "  Objeto 1: x1=2, y1=0, x2=293, y2=195\n",
      "    -> Recorte salvo em: crops/FT29_PNG.rf.bb384bfa45dbd168c4f76cfe73e0cab4_obj1.jpg\n",
      "Processando FT67_PNG.rf.7bf5b4939cc7eef9f17842b571b84e00.jpg...\n",
      "\n",
      "image 1/1 /home/ec06-g2/Downloads/2025-1B-T12-EC06-G02/src/IA/IA_v2/src/yolo/data-v1/test/images/FT67_PNG.rf.7bf5b4939cc7eef9f17842b571b84e00.jpg: 640x512 1 fissura, 2.4ms\n",
      "Speed: 0.8ms preprocess, 2.4ms inference, 0.5ms postprocess per image at shape (1, 3, 640, 512)\n",
      "Results saved to \u001b[1m/home/ec06-g2/Downloads/2025-1B-T12-EC06-G02/runs/detect/predict\u001b[0m\n",
      "Detectado 1 objeto(s) em FT67_PNG.rf.7bf5b4939cc7eef9f17842b571b84e00.jpg\n",
      "  Objeto 1: x1=5, y1=43, x2=244, y2=172\n",
      "    -> Recorte salvo em: crops/FT67_PNG.rf.7bf5b4939cc7eef9f17842b571b84e00_obj1.jpg\n",
      "Processando FR43_PNG.rf.a187d3402d623b5d144a398a26aeaca2.jpg...\n",
      "\n",
      "image 1/1 /home/ec06-g2/Downloads/2025-1B-T12-EC06-G02/src/IA/IA_v2/src/yolo/data-v1/test/images/FR43_PNG.rf.a187d3402d623b5d144a398a26aeaca2.jpg: 608x640 (no detections), 2.5ms\n",
      "Speed: 0.9ms preprocess, 2.5ms inference, 0.3ms postprocess per image at shape (1, 3, 608, 640)\n",
      "Results saved to \u001b[1m/home/ec06-g2/Downloads/2025-1B-T12-EC06-G02/runs/detect/predict\u001b[0m\n",
      "Detectado 0 objeto(s) em FR43_PNG.rf.a187d3402d623b5d144a398a26aeaca2.jpg\n",
      "Processando FR36_PNG.rf.f847a6585ab72bdf3ef6f396b5bbf279.jpg...\n",
      "\n",
      "image 1/1 /home/ec06-g2/Downloads/2025-1B-T12-EC06-G02/src/IA/IA_v2/src/yolo/data-v1/test/images/FR36_PNG.rf.f847a6585ab72bdf3ef6f396b5bbf279.jpg: 640x640 1 fissura, 2.7ms\n",
      "Speed: 1.0ms preprocess, 2.7ms inference, 0.6ms postprocess per image at shape (1, 3, 640, 640)\n",
      "Results saved to \u001b[1m/home/ec06-g2/Downloads/2025-1B-T12-EC06-G02/runs/detect/predict\u001b[0m\n",
      "Detectado 1 objeto(s) em FR36_PNG.rf.f847a6585ab72bdf3ef6f396b5bbf279.jpg\n",
      "  Objeto 1: x1=0, y1=6, x2=395, y2=373\n",
      "    -> Recorte salvo em: crops/FR36_PNG.rf.f847a6585ab72bdf3ef6f396b5bbf279_obj1.jpg\n",
      "Processando FT75_PNG.rf.4cdd199da3dc932918eb6fb3082902f4.jpg...\n",
      "\n",
      "image 1/1 /home/ec06-g2/Downloads/2025-1B-T12-EC06-G02/src/IA/IA_v2/src/yolo/data-v1/test/images/FT75_PNG.rf.4cdd199da3dc932918eb6fb3082902f4.jpg: 640x480 1 fissura, 2.4ms\n",
      "Speed: 0.7ms preprocess, 2.4ms inference, 0.6ms postprocess per image at shape (1, 3, 640, 480)\n",
      "Results saved to \u001b[1m/home/ec06-g2/Downloads/2025-1B-T12-EC06-G02/runs/detect/predict\u001b[0m\n"
     ]
    },
    {
     "name": "stdout",
     "output_type": "stream",
     "text": [
      "Detectado 1 objeto(s) em FT75_PNG.rf.4cdd199da3dc932918eb6fb3082902f4.jpg\n",
      "  Objeto 1: x1=0, y1=0, x2=167, y2=167\n",
      "    -> Recorte salvo em: crops/FT75_PNG.rf.4cdd199da3dc932918eb6fb3082902f4_obj1.jpg\n",
      "Processando FT57_PNG.rf.828b0c57001298424eebccd179a54770.jpg...\n",
      "\n",
      "image 1/1 /home/ec06-g2/Downloads/2025-1B-T12-EC06-G02/src/IA/IA_v2/src/yolo/data-v1/test/images/FT57_PNG.rf.828b0c57001298424eebccd179a54770.jpg: 640x512 1 fissura, 2.3ms\n",
      "Speed: 0.8ms preprocess, 2.3ms inference, 0.5ms postprocess per image at shape (1, 3, 640, 512)\n",
      "Results saved to \u001b[1m/home/ec06-g2/Downloads/2025-1B-T12-EC06-G02/runs/detect/predict\u001b[0m\n",
      "Detectado 1 objeto(s) em FT57_PNG.rf.828b0c57001298424eebccd179a54770.jpg\n",
      "  Objeto 1: x1=0, y1=0, x2=171, y2=172\n",
      "    -> Recorte salvo em: crops/FT57_PNG.rf.828b0c57001298424eebccd179a54770_obj1.jpg\n",
      "Processando FT71_PNG.rf.d8b3a22908b1b0b16f7bd2a13df2b143.jpg...\n",
      "\n",
      "image 1/1 /home/ec06-g2/Downloads/2025-1B-T12-EC06-G02/src/IA/IA_v2/src/yolo/data-v1/test/images/FT71_PNG.rf.d8b3a22908b1b0b16f7bd2a13df2b143.jpg: 640x416 1 fissura, 2.2ms\n",
      "Speed: 0.6ms preprocess, 2.2ms inference, 0.5ms postprocess per image at shape (1, 3, 640, 416)\n",
      "Results saved to \u001b[1m/home/ec06-g2/Downloads/2025-1B-T12-EC06-G02/runs/detect/predict\u001b[0m\n",
      "Detectado 1 objeto(s) em FT71_PNG.rf.d8b3a22908b1b0b16f7bd2a13df2b143.jpg\n",
      "  Objeto 1: x1=0, y1=40, x2=191, y2=296\n",
      "    -> Recorte salvo em: crops/FT71_PNG.rf.d8b3a22908b1b0b16f7bd2a13df2b143_obj1.jpg\n",
      "Processando FT50_PNG.rf.aab179c4793950883589bc15113d46ac.jpg...\n",
      "\n",
      "image 1/1 /home/ec06-g2/Downloads/2025-1B-T12-EC06-G02/src/IA/IA_v2/src/yolo/data-v1/test/images/FT50_PNG.rf.aab179c4793950883589bc15113d46ac.jpg: 640x608 1 fissura, 2.6ms\n",
      "Speed: 0.8ms preprocess, 2.6ms inference, 0.6ms postprocess per image at shape (1, 3, 640, 608)\n",
      "Results saved to \u001b[1m/home/ec06-g2/Downloads/2025-1B-T12-EC06-G02/runs/detect/predict\u001b[0m\n",
      "Detectado 1 objeto(s) em FT50_PNG.rf.aab179c4793950883589bc15113d46ac.jpg\n",
      "  Objeto 1: x1=0, y1=0, x2=137, y2=126\n",
      "    -> Recorte salvo em: crops/FT50_PNG.rf.aab179c4793950883589bc15113d46ac_obj1.jpg\n",
      "Processando FR73_PNG.rf.899e30d5c271e75e034ef5889bb7f3cb.jpg...\n",
      "\n",
      "image 1/1 /home/ec06-g2/Downloads/2025-1B-T12-EC06-G02/src/IA/IA_v2/src/yolo/data-v1/test/images/FR73_PNG.rf.899e30d5c271e75e034ef5889bb7f3cb.jpg: 640x512 1 fissura, 2.3ms\n",
      "Speed: 0.8ms preprocess, 2.3ms inference, 0.6ms postprocess per image at shape (1, 3, 640, 512)\n",
      "Results saved to \u001b[1m/home/ec06-g2/Downloads/2025-1B-T12-EC06-G02/runs/detect/predict\u001b[0m\n",
      "Detectado 1 objeto(s) em FR73_PNG.rf.899e30d5c271e75e034ef5889bb7f3cb.jpg\n",
      "  Objeto 1: x1=14, y1=7, x2=214, y2=333\n",
      "    -> Recorte salvo em: crops/FR73_PNG.rf.899e30d5c271e75e034ef5889bb7f3cb_obj1.jpg\n",
      "Processando FR59_PNG.rf.a1a53609a8ec9bbd9375dc8ba44b7623.jpg...\n",
      "\n",
      "image 1/1 /home/ec06-g2/Downloads/2025-1B-T12-EC06-G02/src/IA/IA_v2/src/yolo/data-v1/test/images/FR59_PNG.rf.a1a53609a8ec9bbd9375dc8ba44b7623.jpg: 640x640 1 fissura, 2.8ms\n",
      "Speed: 0.9ms preprocess, 2.8ms inference, 0.6ms postprocess per image at shape (1, 3, 640, 640)\n",
      "Results saved to \u001b[1m/home/ec06-g2/Downloads/2025-1B-T12-EC06-G02/runs/detect/predict\u001b[0m\n",
      "Detectado 1 objeto(s) em FR59_PNG.rf.a1a53609a8ec9bbd9375dc8ba44b7623.jpg\n",
      "  Objeto 1: x1=5, y1=0, x2=101, y2=96\n",
      "    -> Recorte salvo em: crops/FR59_PNG.rf.a1a53609a8ec9bbd9375dc8ba44b7623_obj1.jpg\n",
      "Processando FR55_PNG.rf.bb6f1aa53de20fd355218918cb229c3d.jpg...\n",
      "\n",
      "image 1/1 /home/ec06-g2/Downloads/2025-1B-T12-EC06-G02/src/IA/IA_v2/src/yolo/data-v1/test/images/FR55_PNG.rf.bb6f1aa53de20fd355218918cb229c3d.jpg: 640x640 1 fissura, 2.5ms\n",
      "Speed: 0.9ms preprocess, 2.5ms inference, 0.6ms postprocess per image at shape (1, 3, 640, 640)\n",
      "Results saved to \u001b[1m/home/ec06-g2/Downloads/2025-1B-T12-EC06-G02/runs/detect/predict\u001b[0m\n",
      "Detectado 1 objeto(s) em FR55_PNG.rf.bb6f1aa53de20fd355218918cb229c3d.jpg\n",
      "  Objeto 1: x1=7, y1=2, x2=152, y2=165\n",
      "    -> Recorte salvo em: crops/FR55_PNG.rf.bb6f1aa53de20fd355218918cb229c3d_obj1.jpg\n",
      "Processando FT49_PNG.rf.6cc952c3fd92583e654ac904a297b620.jpg...\n",
      "\n",
      "image 1/1 /home/ec06-g2/Downloads/2025-1B-T12-EC06-G02/src/IA/IA_v2/src/yolo/data-v1/test/images/FT49_PNG.rf.6cc952c3fd92583e654ac904a297b620.jpg: 416x640 1 fissura, 2.3ms\n",
      "Speed: 0.7ms preprocess, 2.3ms inference, 0.6ms postprocess per image at shape (1, 3, 416, 640)\n",
      "Results saved to \u001b[1m/home/ec06-g2/Downloads/2025-1B-T12-EC06-G02/runs/detect/predict\u001b[0m\n",
      "Detectado 1 objeto(s) em FT49_PNG.rf.6cc952c3fd92583e654ac904a297b620.jpg\n",
      "  Objeto 1: x1=0, y1=0, x2=234, y2=104\n",
      "    -> Recorte salvo em: crops/FT49_PNG.rf.6cc952c3fd92583e654ac904a297b620_obj1.jpg\n",
      "Processando FT55_PNG.rf.4d2f422cfec78281657000e06110d67f.jpg...\n",
      "\n",
      "image 1/1 /home/ec06-g2/Downloads/2025-1B-T12-EC06-G02/src/IA/IA_v2/src/yolo/data-v1/test/images/FT55_PNG.rf.4d2f422cfec78281657000e06110d67f.jpg: 608x640 1 fissura, 2.5ms\n",
      "Speed: 0.9ms preprocess, 2.5ms inference, 0.6ms postprocess per image at shape (1, 3, 608, 640)\n",
      "Results saved to \u001b[1m/home/ec06-g2/Downloads/2025-1B-T12-EC06-G02/runs/detect/predict\u001b[0m\n",
      "Detectado 1 objeto(s) em FT55_PNG.rf.4d2f422cfec78281657000e06110d67f.jpg\n",
      "  Objeto 1: x1=0, y1=1, x2=237, y2=157\n",
      "    -> Recorte salvo em: crops/FT55_PNG.rf.4d2f422cfec78281657000e06110d67f_obj1.jpg\n"
     ]
    }
   ],
   "source": [
    "from ultralytics import YOLO\n",
    "from pathlib import Path\n",
    "from PIL import Image\n",
    "import os\n",
    "\n",
    "# Carrega o modelo\n",
    "model = YOLO('../../../../../runs/detect/train/weights/best.pt')\n",
    "\n",
    "# Caminho das imagens de teste\n",
    "test_images_dir = Path('data-v1/test/images')\n",
    "output_crops_dir = Path('crops/')\n",
    "output_crops_dir.mkdir(parents=True, exist_ok=True)\n",
    "\n",
    "# Loop pelas imagens da pasta\n",
    "for image_file in test_images_dir.glob('*.jpg'):\n",
    "    print(f'Processando {image_file.name}...')\n",
    "\n",
    "    # Rodar a inferência\n",
    "    results = model.predict(source=str(image_file), save=True, conf=0.3, iou=0)\n",
    "\n",
    "    # Mostrar imagem com predições (opcional)\n",
    "    results[0].show()\n",
    "\n",
    "    # Acessar as predições:\n",
    "    boxes = results[0].boxes\n",
    "    print(f'Detectado {len(boxes)} objeto(s) em {image_file.name}')\n",
    "\n",
    "    # Abrir a imagem original com PIL para recortar\n",
    "    image = Image.open(image_file).convert(\"RGB\")\n",
    "\n",
    "    if boxes is not None:\n",
    "        for i, box in enumerate(boxes.xyxy):\n",
    "            x1, y1, x2, y2 = map(int, box.tolist())  # Coordenadas como inteiros\n",
    "            print(f'  Objeto {i+1}: x1={x1}, y1={y1}, x2={x2}, y2={y2}')\n",
    "\n",
    "            # Recorta a imagem\n",
    "            cropped = image.crop((x1, y1, x2, y2))\n",
    "\n",
    "            # Nome do arquivo recortado\n",
    "            crop_filename = output_crops_dir / f\"{image_file.stem}_obj{i+1}.jpg\"\n",
    "\n",
    "            # Salva o recorte\n",
    "            cropped.save(crop_filename)\n",
    "            print(f'    -> Recorte salvo em: {crop_filename}')"
   ]
  }
 ],
 "metadata": {
  "kernelspec": {
   "display_name": "venv",
   "language": "python",
   "name": "python3"
  },
  "language_info": {
   "codemirror_mode": {
    "name": "ipython",
    "version": 3
   },
   "file_extension": ".py",
   "mimetype": "text/x-python",
   "name": "python",
   "nbconvert_exporter": "python",
   "pygments_lexer": "ipython3",
   "version": "3.12.3"
  }
 },
 "nbformat": 4,
 "nbformat_minor": 5
}
