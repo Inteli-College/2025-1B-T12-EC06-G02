{
 "cells": [
  {
   "cell_type": "code",
   "execution_count": null,
   "id": "954caefd",
   "metadata": {
    "vscode": {
     "languageId": "plaintext"
    }
   },
   "outputs": [],
   "source": [
    "# Notebook do YoloV8"
   ]
  }
 ],
 "metadata": {
  "language_info": {
   "name": "python"
  }
 },
 "nbformat": 4,
 "nbformat_minor": 5
}
